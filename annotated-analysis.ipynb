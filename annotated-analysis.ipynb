{
 "cells": [
  {
   "cell_type": "markdown",
   "metadata": {},
   "source": [
    "# Annotated directions analysis"
   ]
  },
  {
   "cell_type": "code",
   "execution_count": 1,
   "metadata": {},
   "outputs": [],
   "source": [
    "import json\n",
    "import numpy as np\n",
    "import os\n",
    "import pandas as pd\n",
    "import requests\n",
    "\n",
    "import matplotlib.pyplot as plt\n",
    "%matplotlib inline"
   ]
  },
  {
   "cell_type": "markdown",
   "metadata": {},
   "source": [
    "## 1 &emsp; Preparation\n",
    "\n",
    "Gathering paths to plays' `.csv` files and their IDs (which are basically author's name and play title):"
   ]
  },
  {
   "cell_type": "code",
   "execution_count": null,
   "metadata": {},
   "outputs": [],
   "source": [
    "# if you're doing this for the first time — run everything until Part 3\n",
    "path_to_annot = \"./data/stage/annotated/\"\n",
    "plays_csv = [play_id for play_id in os.listdir(path_to_annot) \n",
    "             if play_id != \".DS_Store\"]\n",
    "play_paths = [path_to_annot + play_id for play_id in plays_csv]\n",
    "play_ids = [play_csv[:-4] for play_csv in plays_csv]"
   ]
  },
  {
   "cell_type": "markdown",
   "metadata": {},
   "source": [
    "### 1.1 &emsp; Data not present in .csv\n",
    "\n",
    "Additional functions: adding year of the play and `play_id`:"
   ]
  },
  {
   "cell_type": "markdown",
   "metadata": {},
   "source": [
    "Extracting **year of the play**, fetched from corpus metadata:"
   ]
  },
  {
   "cell_type": "code",
   "execution_count": null,
   "metadata": {},
   "outputs": [],
   "source": [
    "request_link = \"https://dracor.org/api/corpora/rus/metadata\"\n",
    "response = requests.get(request_link)\n",
    "if response.status_code == 200:\n",
    "    play_metadata = response.json()"
   ]
  },
  {
   "cell_type": "code",
   "execution_count": null,
   "metadata": {},
   "outputs": [],
   "source": [
    "def append_play_year(play_id, play_metadata):\n",
    "    \"\"\"Using metadata from DraCor API, extracts yearNormalized\n",
    "    for the play.\n",
    "    \n",
    "    Calculation of yearNormalized:\n",
    "    > if date_print and date_premiere:\n",
    "    >     yearNormalized = min(date_print, date_premiere)\n",
    "    > elif date_premiere:\n",
    "    >     yearNormalized = date_premiere\n",
    "    > else:\n",
    "    >     yearNormalized = date_print\n",
    "    > if date_written and yearNormalized:\n",
    "    >     if yearNormalized - date_written > 10:\n",
    "    >         yearNormalized = date_written\n",
    "    >     elif date_written and not yearNormalized:\n",
    "    >         yearNormalized = date_written\n",
    "    \n",
    "    :args play_id (str) — author's name and title of the play\n",
    "    play_metadata (json) — metadata for all the plays currently\n",
    "    present in the corpus\n",
    "    \n",
    "    :returns year (int) — normalized year of the play\n",
    "    \"\"\"\n",
    "    \n",
    "    for play in play_metadata:\n",
    "        if play[\"playName\"] == play_id:\n",
    "            year = int(play[\"yearNormalized\"])\n",
    "            break\n",
    "        else:\n",
    "            year = 0\n",
    "    if year == 0:\n",
    "        print(\"Couldn't retrieve year.\\n\\t- play: {}\\n\\t- status code: {} \\\n",
    "            \\n=> Returning 0\".format(play_id, response.status_code))\n",
    "    return year"
   ]
  },
  {
   "cell_type": "markdown",
   "metadata": {},
   "source": [
    "## 2 &emsp; Assembling everything together"
   ]
  },
  {
   "cell_type": "code",
   "execution_count": null,
   "metadata": {},
   "outputs": [],
   "source": [
    "def csv_to_full_df(play_id):\n",
    "    \"\"\"Converts .csv files for /data/stage/annotated into a \n",
    "    pd.DataFrame, then adds \n",
    "        (1) directions' origin, \n",
    "        (2) normalized year of the play (see append_play_year()).\n",
    "            \n",
    "    :args play_id (str) — author's name and title of the play\n",
    "    \n",
    "    :returns play_df (pd.DataFrame) — converted data of a single play\n",
    "    \"\"\"\n",
    "    \n",
    "    play_csv_path = \"./data/stage/annotated/{}.csv\".format(play_id)\n",
    "    play_df = pd.read_csv(play_csv_path, sep=\";\", encoding=\"utf-8\").fillna(0)\n",
    "    \n",
    "    # convert direction marks to categories\n",
    "    for dir_type in play_df.columns[1:]:\n",
    "        play_df[dir_type] = play_df[dir_type].astype(\"category\")\n",
    "    \n",
    "    # add play_id so that we know directions' origin\n",
    "    add_play_name = lambda play_id : play_id\n",
    "    play_df[\"play\"] = [add_play_name(play_id)] * len(play_df)\n",
    "    \n",
    "    # add yearNormalized\n",
    "    play_df[\"year\"] = [append_play_year(play_id, play_metadata)] * len(play_df)\n",
    "    \n",
    "    return play_df"
   ]
  },
  {
   "cell_type": "markdown",
   "metadata": {},
   "source": [
    "Concatenating all plays in a single dataset:"
   ]
  },
  {
   "cell_type": "code",
   "execution_count": null,
   "metadata": {},
   "outputs": [],
   "source": [
    "df_total = pd.DataFrame(columns=[\"text\", \"setting\", \"entrance\", \"exit\", \"business\", \"delivery\", \n",
    "                                 \"modifier\", \"location\", \"unknown\", \"play\", \"year\"])"
   ]
  },
  {
   "cell_type": "code",
   "execution_count": null,
   "metadata": {
    "scrolled": false
   },
   "outputs": [],
   "source": [
    "for play_id in play_ids:\n",
    "    play_df = csv_to_full_df(play_id)\n",
    "    df_total = pd.concat([df_total, play_df], ignore_index=True)"
   ]
  },
  {
   "cell_type": "markdown",
   "metadata": {},
   "source": [
    "Sanity checks:"
   ]
  },
  {
   "cell_type": "code",
   "execution_count": null,
   "metadata": {
    "scrolled": true
   },
   "outputs": [],
   "source": [
    "# dataframe columns\n",
    "df_total.head()"
   ]
  },
  {
   "cell_type": "code",
   "execution_count": null,
   "metadata": {},
   "outputs": [],
   "source": [
    "# amount of directions\n",
    "df_total[df_total[\"play\"] == \"lermontov-maskarad\"][\"text\"].count()"
   ]
  },
  {
   "cell_type": "code",
   "execution_count": null,
   "metadata": {},
   "outputs": [],
   "source": [
    "len(df_total)"
   ]
  },
  {
   "cell_type": "code",
   "execution_count": null,
   "metadata": {},
   "outputs": [],
   "source": [
    "df_total[\"play\"]"
   ]
  },
  {
   "cell_type": "markdown",
   "metadata": {},
   "source": [
    "## 3 &emsp; Saving\n",
    "\n",
    "This data is raw — we haven't done any analysis yet. Nevertheless, it might be useful to save it for later research."
   ]
  },
  {
   "cell_type": "code",
   "execution_count": 2,
   "metadata": {},
   "outputs": [
    {
     "data": {
      "text/html": [
       "<div>\n",
       "<style scoped>\n",
       "    .dataframe tbody tr th:only-of-type {\n",
       "        vertical-align: middle;\n",
       "    }\n",
       "\n",
       "    .dataframe tbody tr th {\n",
       "        vertical-align: top;\n",
       "    }\n",
       "\n",
       "    .dataframe thead th {\n",
       "        text-align: right;\n",
       "    }\n",
       "</style>\n",
       "<table border=\"1\" class=\"dataframe\">\n",
       "  <thead>\n",
       "    <tr style=\"text-align: right;\">\n",
       "      <th></th>\n",
       "      <th>text</th>\n",
       "      <th>setting</th>\n",
       "      <th>entrance</th>\n",
       "      <th>exit</th>\n",
       "      <th>business</th>\n",
       "      <th>delivery</th>\n",
       "      <th>modifier</th>\n",
       "      <th>location</th>\n",
       "      <th>unknown</th>\n",
       "      <th>play</th>\n",
       "      <th>year</th>\n",
       "    </tr>\n",
       "  </thead>\n",
       "  <tbody>\n",
       "    <tr>\n",
       "      <th>0</th>\n",
       "      <td>Игроки, князь Звездич, Казарин и Шприх. За сто...</td>\n",
       "      <td>1.0</td>\n",
       "      <td>0.0</td>\n",
       "      <td>0.0</td>\n",
       "      <td>1.0</td>\n",
       "      <td>0.0</td>\n",
       "      <td>0.0</td>\n",
       "      <td>0.0</td>\n",
       "      <td>0.0</td>\n",
       "      <td>lermontov-maskarad</td>\n",
       "      <td>1842</td>\n",
       "    </tr>\n",
       "    <tr>\n",
       "      <th>1</th>\n",
       "      <td>(тихо первому)</td>\n",
       "      <td>0.0</td>\n",
       "      <td>0.0</td>\n",
       "      <td>0.0</td>\n",
       "      <td>0.0</td>\n",
       "      <td>1.0</td>\n",
       "      <td>0.0</td>\n",
       "      <td>0.0</td>\n",
       "      <td>0.0</td>\n",
       "      <td>lermontov-maskarad</td>\n",
       "      <td>1842</td>\n",
       "    </tr>\n",
       "    <tr>\n",
       "      <th>2</th>\n",
       "      <td>(насмешливо)</td>\n",
       "      <td>0.0</td>\n",
       "      <td>0.0</td>\n",
       "      <td>0.0</td>\n",
       "      <td>0.0</td>\n",
       "      <td>1.0</td>\n",
       "      <td>0.0</td>\n",
       "      <td>0.0</td>\n",
       "      <td>0.0</td>\n",
       "      <td>lermontov-maskarad</td>\n",
       "      <td>1842</td>\n",
       "    </tr>\n",
       "    <tr>\n",
       "      <th>3</th>\n",
       "      <td>(сквозь зубы, уходя)</td>\n",
       "      <td>0.0</td>\n",
       "      <td>0.0</td>\n",
       "      <td>1.0</td>\n",
       "      <td>0.0</td>\n",
       "      <td>1.0</td>\n",
       "      <td>0.0</td>\n",
       "      <td>0.0</td>\n",
       "      <td>0.0</td>\n",
       "      <td>lermontov-maskarad</td>\n",
       "      <td>1842</td>\n",
       "    </tr>\n",
       "    <tr>\n",
       "      <th>4</th>\n",
       "      <td>Князь, выпив стакан лимонаду, садится к сторон...</td>\n",
       "      <td>0.0</td>\n",
       "      <td>0.0</td>\n",
       "      <td>0.0</td>\n",
       "      <td>1.0</td>\n",
       "      <td>0.0</td>\n",
       "      <td>0.0</td>\n",
       "      <td>0.0</td>\n",
       "      <td>0.0</td>\n",
       "      <td>lermontov-maskarad</td>\n",
       "      <td>1842</td>\n",
       "    </tr>\n",
       "  </tbody>\n",
       "</table>\n",
       "</div>"
      ],
      "text/plain": [
       "                                                text  setting  entrance  exit  \\\n",
       "0  Игроки, князь Звездич, Казарин и Шприх. За сто...      1.0       0.0   0.0   \n",
       "1                                     (тихо первому)      0.0       0.0   0.0   \n",
       "2                                       (насмешливо)      0.0       0.0   0.0   \n",
       "3                               (сквозь зубы, уходя)      0.0       0.0   1.0   \n",
       "4  Князь, выпив стакан лимонаду, садится к сторон...      0.0       0.0   0.0   \n",
       "\n",
       "   business  delivery  modifier  location  unknown                play  year  \n",
       "0       1.0       0.0       0.0       0.0      0.0  lermontov-maskarad  1842  \n",
       "1       0.0       1.0       0.0       0.0      0.0  lermontov-maskarad  1842  \n",
       "2       0.0       1.0       0.0       0.0      0.0  lermontov-maskarad  1842  \n",
       "3       0.0       1.0       0.0       0.0      0.0  lermontov-maskarad  1842  \n",
       "4       1.0       0.0       0.0       0.0      0.0  lermontov-maskarad  1842  "
      ]
     },
     "execution_count": 2,
     "metadata": {},
     "output_type": "execute_result"
    }
   ],
   "source": [
    "# run to_csv if this is the first time you're running the notebook\n",
    "# df_total.to_csv(\"./data/csv/annot_merged_raw.csv\", sep=\";\", encoding=\"utf-8\", index=False)\n",
    "# otherwise run read_csv\n",
    "df_total = pd.read_csv(\"./data/csv/annot_merged_raw.csv\", \n",
    "                       sep=\";\", encoding=\"utf-8\")\n",
    "df_total.head()"
   ]
  },
  {
   "cell_type": "markdown",
   "metadata": {},
   "source": [
    "## 4 &emsp; Directions distribution among plays"
   ]
  },
  {
   "cell_type": "markdown",
   "metadata": {},
   "source": [
    "### 4.1 &emsp; How many directions are there in the plays year-wise?"
   ]
  },
  {
   "cell_type": "code",
   "execution_count": 3,
   "metadata": {},
   "outputs": [],
   "source": [
    "direction_types = [\"setting\", \"entrance\", \"exit\", \"business\", \"delivery\", \n",
    "                   \"modifier\", \"location\", \"unknown\"]\n",
    "plays = df_total[\"play\"].unique()\n",
    "\n",
    "dict_plays = {\n",
    "    \"play\": [], \n",
    "    \"year\": [], \n",
    "    \"amount\": []\n",
    "}\n",
    "for play in plays:\n",
    "    try:\n",
    "        dict_plays[\"play\"].append(play)\n",
    "        dict_plays[\"year\"].append(df_total[df_total[\"play\"] == play][\"year\"].unique()[0])\n",
    "        amount = df_total[df_total[\"play\"] == play][\"text\"].count()\n",
    "        dict_plays[\"amount\"].append(amount)\n",
    "    except:\n",
    "        print(play)"
   ]
  },
  {
   "cell_type": "code",
   "execution_count": 4,
   "metadata": {
    "scrolled": true
   },
   "outputs": [
    {
     "data": {
      "text/html": [
       "<div>\n",
       "<style scoped>\n",
       "    .dataframe tbody tr th:only-of-type {\n",
       "        vertical-align: middle;\n",
       "    }\n",
       "\n",
       "    .dataframe tbody tr th {\n",
       "        vertical-align: top;\n",
       "    }\n",
       "\n",
       "    .dataframe thead th {\n",
       "        text-align: right;\n",
       "    }\n",
       "</style>\n",
       "<table border=\"1\" class=\"dataframe\">\n",
       "  <thead>\n",
       "    <tr style=\"text-align: right;\">\n",
       "      <th></th>\n",
       "      <th>play</th>\n",
       "      <th>year</th>\n",
       "      <th>amount</th>\n",
       "    </tr>\n",
       "  </thead>\n",
       "  <tbody>\n",
       "    <tr>\n",
       "      <th>0</th>\n",
       "      <td>sumarokov-horev</td>\n",
       "      <td>1747</td>\n",
       "      <td>33</td>\n",
       "    </tr>\n",
       "    <tr>\n",
       "      <th>1</th>\n",
       "      <td>fonvizin-nedorosl</td>\n",
       "      <td>1782</td>\n",
       "      <td>349</td>\n",
       "    </tr>\n",
       "    <tr>\n",
       "      <th>2</th>\n",
       "      <td>krylov-urok-dochkam</td>\n",
       "      <td>1807</td>\n",
       "      <td>146</td>\n",
       "    </tr>\n",
       "    <tr>\n",
       "      <th>3</th>\n",
       "      <td>griboyedov-gore-ot-uma</td>\n",
       "      <td>1825</td>\n",
       "      <td>209</td>\n",
       "    </tr>\n",
       "    <tr>\n",
       "      <th>4</th>\n",
       "      <td>pushkin-boris-godunov</td>\n",
       "      <td>1831</td>\n",
       "      <td>172</td>\n",
       "    </tr>\n",
       "  </tbody>\n",
       "</table>\n",
       "</div>"
      ],
      "text/plain": [
       "                     play  year  amount\n",
       "0         sumarokov-horev  1747      33\n",
       "1       fonvizin-nedorosl  1782     349\n",
       "2     krylov-urok-dochkam  1807     146\n",
       "3  griboyedov-gore-ot-uma  1825     209\n",
       "4   pushkin-boris-godunov  1831     172"
      ]
     },
     "execution_count": 4,
     "metadata": {},
     "output_type": "execute_result"
    }
   ],
   "source": [
    "df_plays = pd.DataFrame.from_dict(dict_plays).sort_values(by=[\"year\"]).reset_index(drop=True)\n",
    "df_plays.head()"
   ]
  },
  {
   "cell_type": "code",
   "execution_count": 5,
   "metadata": {
    "scrolled": true
   },
   "outputs": [
    {
     "data": {
      "text/plain": [
       "[<matplotlib.lines.Line2D at 0x11933e208>]"
      ]
     },
     "execution_count": 5,
     "metadata": {},
     "output_type": "execute_result"
    },
    {
     "data": {
      "image/png": "[encoded data removed]",
      "text/plain": [
       "<Figure size 1152x432 with 1 Axes>"
      ]
     },
     "metadata": {
      "needs_background": "light"
     },
     "output_type": "display_data"
    }
   ],
   "source": [
    "plt.figure(figsize=(16,6))\n",
    "plt.xticks(df_plays[\"year\"], labels=df_plays[\"play\"], rotation=90)\n",
    "plt.plot(df_plays[\"year\"], df_plays[\"amount\"])"
   ]
  },
  {
   "cell_type": "markdown",
   "metadata": {},
   "source": [
    "### 4.2 &emsp; What are the proportions of different types in the plays?\n",
    "\n",
    "First, we have to gather the data, i.e. to sum up all the types for a certain play."
   ]
  },
  {
   "cell_type": "code",
   "execution_count": 6,
   "metadata": {},
   "outputs": [],
   "source": [
    "types_dict = {\n",
    "    dir_type: [] for dir_type in direction_types + [\"play\", \"year\"]\n",
    "}\n",
    "for i, play in enumerate(plays):\n",
    "    types_dict[\"play\"].append(play)\n",
    "    types_dict[\"year\"].append(dict_plays[\"year\"][i])\n",
    "    types_values = df_total[df_total[\"play\"] == play].sum()[direction_types]\n",
    "    for ty in types_values.keys():\n",
    "        types_dict[ty].append(types_values[ty])"
   ]
  },
  {
   "cell_type": "code",
   "execution_count": 7,
   "metadata": {
    "scrolled": true
   },
   "outputs": [
    {
     "data": {
      "text/html": [
       "<div>\n",
       "<style scoped>\n",
       "    .dataframe tbody tr th:only-of-type {\n",
       "        vertical-align: middle;\n",
       "    }\n",
       "\n",
       "    .dataframe tbody tr th {\n",
       "        vertical-align: top;\n",
       "    }\n",
       "\n",
       "    .dataframe thead th {\n",
       "        text-align: right;\n",
       "    }\n",
       "</style>\n",
       "<table border=\"1\" class=\"dataframe\">\n",
       "  <thead>\n",
       "    <tr style=\"text-align: right;\">\n",
       "      <th></th>\n",
       "      <th>index</th>\n",
       "      <th>setting</th>\n",
       "      <th>entrance</th>\n",
       "      <th>exit</th>\n",
       "      <th>business</th>\n",
       "      <th>delivery</th>\n",
       "      <th>modifier</th>\n",
       "      <th>location</th>\n",
       "      <th>unknown</th>\n",
       "      <th>year</th>\n",
       "    </tr>\n",
       "    <tr>\n",
       "      <th>play</th>\n",
       "      <th></th>\n",
       "      <th></th>\n",
       "      <th></th>\n",
       "      <th></th>\n",
       "      <th></th>\n",
       "      <th></th>\n",
       "      <th></th>\n",
       "      <th></th>\n",
       "      <th></th>\n",
       "      <th></th>\n",
       "    </tr>\n",
       "  </thead>\n",
       "  <tbody>\n",
       "    <tr>\n",
       "      <th>sumarokov-horev</th>\n",
       "      <td>9</td>\n",
       "      <td>0.0</td>\n",
       "      <td>26.0</td>\n",
       "      <td>1.0</td>\n",
       "      <td>4.0</td>\n",
       "      <td>1.0</td>\n",
       "      <td>0.0</td>\n",
       "      <td>0.0</td>\n",
       "      <td>1.0</td>\n",
       "      <td>1747</td>\n",
       "    </tr>\n",
       "    <tr>\n",
       "      <th>fonvizin-nedorosl</th>\n",
       "      <td>7</td>\n",
       "      <td>0.0</td>\n",
       "      <td>46.0</td>\n",
       "      <td>22.0</td>\n",
       "      <td>151.0</td>\n",
       "      <td>133.0</td>\n",
       "      <td>9.0</td>\n",
       "      <td>3.0</td>\n",
       "      <td>5.0</td>\n",
       "      <td>1782</td>\n",
       "    </tr>\n",
       "    <tr>\n",
       "      <th>krylov-urok-dochkam</th>\n",
       "      <td>1</td>\n",
       "      <td>0.0</td>\n",
       "      <td>21.0</td>\n",
       "      <td>11.0</td>\n",
       "      <td>73.0</td>\n",
       "      <td>45.0</td>\n",
       "      <td>0.0</td>\n",
       "      <td>2.0</td>\n",
       "      <td>1.0</td>\n",
       "      <td>1807</td>\n",
       "    </tr>\n",
       "    <tr>\n",
       "      <th>griboyedov-gore-ot-uma</th>\n",
       "      <td>3</td>\n",
       "      <td>3.0</td>\n",
       "      <td>39.0</td>\n",
       "      <td>29.0</td>\n",
       "      <td>83.0</td>\n",
       "      <td>61.0</td>\n",
       "      <td>0.0</td>\n",
       "      <td>9.0</td>\n",
       "      <td>0.0</td>\n",
       "      <td>1825</td>\n",
       "    </tr>\n",
       "    <tr>\n",
       "      <th>pushkin-boris-godunov</th>\n",
       "      <td>17</td>\n",
       "      <td>9.0</td>\n",
       "      <td>37.0</td>\n",
       "      <td>22.0</td>\n",
       "      <td>89.0</td>\n",
       "      <td>23.0</td>\n",
       "      <td>0.0</td>\n",
       "      <td>6.0</td>\n",
       "      <td>1.0</td>\n",
       "      <td>1831</td>\n",
       "    </tr>\n",
       "  </tbody>\n",
       "</table>\n",
       "</div>"
      ],
      "text/plain": [
       "                        index  setting  entrance  exit  business  delivery  \\\n",
       "play                                                                         \n",
       "sumarokov-horev             9      0.0      26.0   1.0       4.0       1.0   \n",
       "fonvizin-nedorosl           7      0.0      46.0  22.0     151.0     133.0   \n",
       "krylov-urok-dochkam         1      0.0      21.0  11.0      73.0      45.0   \n",
       "griboyedov-gore-ot-uma      3      3.0      39.0  29.0      83.0      61.0   \n",
       "pushkin-boris-godunov      17      9.0      37.0  22.0      89.0      23.0   \n",
       "\n",
       "                        modifier  location  unknown  year  \n",
       "play                                                       \n",
       "sumarokov-horev              0.0       0.0      1.0  1747  \n",
       "fonvizin-nedorosl            9.0       3.0      5.0  1782  \n",
       "krylov-urok-dochkam          0.0       2.0      1.0  1807  \n",
       "griboyedov-gore-ot-uma       0.0       9.0      0.0  1825  \n",
       "pushkin-boris-godunov        0.0       6.0      1.0  1831  "
      ]
     },
     "execution_count": 7,
     "metadata": {},
     "output_type": "execute_result"
    }
   ],
   "source": [
    "df_types = pd.DataFrame.from_dict(types_dict).sort_values(by=[\"year\"]).reset_index().set_index(\"play\")\n",
    "df_types.head()"
   ]
  },
  {
   "cell_type": "code",
   "execution_count": 8,
   "metadata": {
    "scrolled": true
   },
   "outputs": [
    {
     "data": {
      "text/plain": [
       "<matplotlib.axes._subplots.AxesSubplot at 0x1193aa668>"
      ]
     },
     "execution_count": 8,
     "metadata": {},
     "output_type": "execute_result"
    },
    {
     "data": {
      "text/plain": [
       "<Figure size 1152x432 with 0 Axes>"
      ]
     },
     "metadata": {},
     "output_type": "display_data"
    },
    {
     "data": {
      "image/png": "[encoded data removed]",
      "text/plain": [
       "<Figure size 1152x432 with 1 Axes>"
      ]
     },
     "metadata": {
      "needs_background": "light"
     },
     "output_type": "display_data"
    }
   ],
   "source": [
    "plt.figure(figsize=(16,6))\n",
    "df_types[direction_types].plot.bar(stacked=True, figsize=(16,6))"
   ]
  },
  {
   "cell_type": "markdown",
   "metadata": {},
   "source": [
    "### 4.3 &emsp; Type distribution\n",
    "\n",
    "Which types are more frequent and which are not present?"
   ]
  },
  {
   "cell_type": "code",
   "execution_count": 3,
   "metadata": {},
   "outputs": [],
   "source": [
    "direction_types = [\"setting\", \"entrance\", \"exit\", \"business\", \"delivery\", \n",
    "                   \"modifier\", \"location\", \"unknown\"]"
   ]
  },
  {
   "cell_type": "code",
   "execution_count": 5,
   "metadata": {},
   "outputs": [],
   "source": [
    "types_dict = {}\n",
    "\n",
    "for dir_type in direction_types:\n",
    "    type_count = df_total[dir_type].sum()\n",
    "    types_dict[dir_type] = type_count"
   ]
  },
  {
   "cell_type": "code",
   "execution_count": 13,
   "metadata": {
    "scrolled": false
   },
   "outputs": [],
   "source": [
    "x = []\n",
    "plot_labels = []\n",
    "\n",
    "for i, dir_type in enumerate(types_dict):\n",
    "    x.append(i)\n",
    "    plot_labels.append(dir_type)\n",
    "\n",
    "height = [types_dict[dirtype] for dirtype in plot_labels]"
   ]
  },
  {
   "cell_type": "code",
   "execution_count": 31,
   "metadata": {},
   "outputs": [
    {
     "data": {
      "text/plain": [
       "<BarContainer object of 8 artists>"
      ]
     },
     "execution_count": 31,
     "metadata": {},
     "output_type": "execute_result"
    },
    {
     "data": {
      "image/png": "[encoded data removed]",
      "text/plain": [
       "<Figure size 576x576 with 1 Axes>"
      ]
     },
     "metadata": {
      "needs_background": "light"
     },
     "output_type": "display_data"
    }
   ],
   "source": [
    "plt.figure(figsize=(8,8))\n",
    "for i, v in enumerate(height):\n",
    "    plt.text(x[i], v, str(v))\n",
    "plt.title(\"Types distribution\", fontsize=20)\n",
    "plt.xticks(x, plot_labels, rotation=45)\n",
    "plt.bar(x, height)"
   ]
  }
 ],
 "metadata": {
  "kernelspec": {
   "display_name": "Python 3",
   "language": "python",
   "name": "python3"
  },
  "language_info": {
   "codemirror_mode": {
    "name": "ipython",
    "version": 3
   },
   "file_extension": ".py",
   "mimetype": "text/x-python",
   "name": "python",
   "nbconvert_exporter": "python",
   "pygments_lexer": "ipython3",
   "version": "3.6.8"
  }
 },
 "nbformat": 4,
 "nbformat_minor": 2
}
