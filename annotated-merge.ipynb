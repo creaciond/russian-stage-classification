{
 "cells": [
  {
   "cell_type": "markdown",
   "metadata": {},
   "source": [
    "# Annotated directions analysis"
   ]
  },
  {
   "cell_type": "code",
   "execution_count": 1,
   "metadata": {},
   "outputs": [],
   "source": [
    "import os\n",
    "import tqdm"
   ]
  },
  {
   "cell_type": "markdown",
   "metadata": {},
   "source": [
    "## 1 &emsp; Preparation\n",
    "\n",
    "Gathering paths to plays' `.csv` files and their IDs (which are basically author's name and play title):"
   ]
  },
  {
   "cell_type": "code",
   "execution_count": 2,
   "metadata": {},
   "outputs": [],
   "source": [
    "path_to_annot = \"./data/stage/annotated/\"\n",
    "plays_csv = [play_id for play_id in os.listdir(path_to_annot) if play_id != \".DS_Store\"]\n",
    "play_paths = [path_to_annot + play_id for play_id in plays_csv]\n",
    "play_ids = [play_csv[:-4] for play_csv in plays_csv]"
   ]
  },
  {
   "cell_type": "markdown",
   "metadata": {},
   "source": [
    "### 1.1 &emsp; Data not present in .csv\n",
    "\n",
    "Additional functions: adding year of the play and `play_id`:"
   ]
  },
  {
   "cell_type": "code",
   "execution_count": 3,
   "metadata": {},
   "outputs": [],
   "source": [
    "import requests\n",
    "import json"
   ]
  },
  {
   "cell_type": "markdown",
   "metadata": {},
   "source": [
    "Extracting **year of the play**, fetched from corpus metadata:"
   ]
  },
  {
   "cell_type": "code",
   "execution_count": null,
   "metadata": {},
   "outputs": [],
   "source": [
    "request_link = \"https://dracor.org/api/corpora/rus/metadata\"\n",
    "response = requests.get(request_link)\n",
    "if response.status_code == 200:\n",
    "    play_metadata = response.json()"
   ]
  },
  {
   "cell_type": "code",
   "execution_count": null,
   "metadata": {},
   "outputs": [],
   "source": [
    "def append_play_year(play_id, play_metadata):\n",
    "    \"\"\"Using metadata from DraCor API, extracts yearNormalized\n",
    "    for the play.\n",
    "    \n",
    "    Calculation of yearNormalized:\n",
    "    > if date_print and date_premiere:\n",
    "    >     yearNormalized = min(date_print, date_premiere)\n",
    "    > elif date_premiere:\n",
    "    >     yearNormalized = date_premiere\n",
    "    > else:\n",
    "    >     yearNormalized = date_print\n",
    "    > if date_written and yearNormalized:\n",
    "    >     if yearNormalized - date_written > 10:\n",
    "    >         yearNormalized = date_written\n",
    "    >     elif date_written and not yearNormalized:\n",
    "    >         yearNormalized = date_written\n",
    "    \n",
    "    :args play_id (str) — author's name and title of the play\n",
    "    play_metadata (json) — metadata for all the plays currently\n",
    "    present in the corpus\n",
    "    \n",
    "    :returns year (int) — normalized year of the play\n",
    "    \"\"\"\n",
    "    \n",
    "    for play in play_metadata:\n",
    "        if play[\"playName\"] == play_id:\n",
    "            year = int(play[\"yearNormalized\"])\n",
    "        else:\n",
    "            print(\"Couldn't retrieve year.\\n\\t- play: {}\\n\\t- status code: {} \\\n",
    "            \\n=> Returning 0\".format(play_id, response.status_code))\n",
    "            year = 0\n",
    "    return year"
   ]
  },
  {
   "cell_type": "markdown",
   "metadata": {},
   "source": [
    "## 2 &emsp; Assembling everything together"
   ]
  },
  {
   "cell_type": "code",
   "execution_count": null,
   "metadata": {},
   "outputs": [],
   "source": [
    "import pandas as pd"
   ]
  },
  {
   "cell_type": "code",
   "execution_count": null,
   "metadata": {},
   "outputs": [],
   "source": [
    "def csv_to_full_df(play_id):\n",
    "    \"\"\"Converts .csv files for /data/stage/annotated into a \n",
    "    pd.DataFrame, then adds \n",
    "        (1) directions' origin, \n",
    "        (2) normalized year of the play (see append_play_year()).\n",
    "            \n",
    "    :args play_id (str) — author's name and title of the play\n",
    "    \n",
    "    :returns play_df (pd.DataFrame) — converted data of a single play\n",
    "    \"\"\"\n",
    "    \n",
    "    play_csv_path = \"./data/stage/annotated/\" + play_id +\".csv\"\n",
    "    play_df = pd.read_csv(play_csv_path, sep=\";\", encoding=\"utf-8\").fillna(0)\n",
    "    \n",
    "    # convert direction marks to categories\n",
    "    for dir_type in play_df.columns[1:]:\n",
    "        play_df[dir_type] = play_df[dir_type].astype(\"category\")\n",
    "    \n",
    "    # add play_id so that we know directions' origin\n",
    "    add_play_name = lambda play_id : play_id\n",
    "    play_df[\"play\"] = [add_play_name(play_id)] * len(play_df)\n",
    "    \n",
    "    # add yearNormalized\n",
    "    play_df[\"year\"] = [append_play_year(play_id)] * len(play_df)\n",
    "    \n",
    "    return play_df"
   ]
  },
  {
   "cell_type": "code",
   "execution_count": null,
   "metadata": {
    "scrolled": false
   },
   "outputs": [],
   "source": [
    "for play_id in tqdm(play_ids):\n",
    "    try:\n",
    "        play_df = csv_to_full_df(play_id)\n",
    "        df_total = pd.concat(df_total, play_df)\n",
    "    except:\n",
    "        print(play_id)"
   ]
  },
  {
   "cell_type": "markdown",
   "metadata": {},
   "source": [
    "Checking that everything is OK:"
   ]
  },
  {
   "cell_type": "code",
   "execution_count": null,
   "metadata": {},
   "outputs": [],
   "source": [
    "df_total.head()"
   ]
  },
  {
   "cell_type": "code",
   "execution_count": null,
   "metadata": {},
   "outputs": [],
   "source": [
    "len(df_total)"
   ]
  },
  {
   "cell_type": "code",
   "execution_count": null,
   "metadata": {},
   "outputs": [],
   "source": [
    "df_total[\"play\"].values"
   ]
  },
  {
   "cell_type": "markdown",
   "metadata": {},
   "source": [
    "## 3 &emsp; Saving\n",
    "\n",
    "This data is raw — we haven't done any analysis yet. Nevertheless, it might be useful to save it for later research."
   ]
  },
  {
   "cell_type": "code",
   "execution_count": null,
   "metadata": {},
   "outputs": [],
   "source": [
    "df_total.to_csv(\"./data/csv/annot_merged_raw.csv\", sep=\";\", encoding=\"utf-8\", index=False)"
   ]
  }
 ],
 "metadata": {
  "kernelspec": {
   "display_name": "Python 3",
   "language": "python",
   "name": "python3"
  },
  "language_info": {
   "codemirror_mode": {
    "name": "ipython",
    "version": 3
   },
   "file_extension": ".py",
   "mimetype": "text/x-python",
   "name": "python",
   "nbconvert_exporter": "python",
   "pygments_lexer": "ipython3",
   "version": "3.6.8"
  }
 },
 "nbformat": 4,
 "nbformat_minor": 2
}
