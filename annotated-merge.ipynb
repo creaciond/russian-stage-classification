{
 "cells": [
  {
   "cell_type": "markdown",
   "metadata": {},
   "source": [
    "# Annotated directions analysis"
   ]
  },
  {
   "cell_type": "code",
   "execution_count": 4,
   "metadata": {},
   "outputs": [],
   "source": [
    "import os\n",
    "import tqdm"
   ]
  },
  {
   "cell_type": "markdown",
   "metadata": {},
   "source": [
    "## 1 &emsp; Preparation\n",
    "\n",
    "Gathering paths to plays' `.csv` files and their IDs (which are basically author's name and play title):"
   ]
  },
  {
   "cell_type": "code",
   "execution_count": 5,
   "metadata": {},
   "outputs": [],
   "source": [
    "path_to_annot = \"./data/stage/annotated/\"\n",
    "plays_csv = [play_id for play_id in os.listdir(path_to_annot) if play_id != \".DS_Store\"]\n",
    "play_paths = [path_to_annot + play_id for play_id in plays_csv]\n",
    "play_ids = [play_csv[:-4] for play_csv in plays_csv]"
   ]
  },
  {
   "cell_type": "markdown",
   "metadata": {},
   "source": [
    "### 1.1 &emsp; Data not present in .csv\n",
    "\n",
    "Additional functions: adding year of the play and `play_id`:"
   ]
  },
  {
   "cell_type": "code",
   "execution_count": 6,
   "metadata": {},
   "outputs": [],
   "source": [
    "import requests\n",
    "import json"
   ]
  },
  {
   "cell_type": "markdown",
   "metadata": {},
   "source": [
    "Extracting **year of the play**, fetched from corpus metadata:"
   ]
  },
  {
   "cell_type": "code",
   "execution_count": 7,
   "metadata": {},
   "outputs": [],
   "source": [
    "request_link = \"https://dracor.org/api/corpora/rus/metadata\"\n",
    "response = requests.get(request_link)\n",
    "if response.status_code == 200:\n",
    "    play_metadata = response.json()"
   ]
  },
  {
   "cell_type": "code",
   "execution_count": 12,
   "metadata": {},
   "outputs": [],
   "source": [
    "def append_play_year(play_id, play_metadata):\n",
    "    \"\"\"Using metadata from DraCor API, extracts yearNormalized\n",
    "    for the play.\n",
    "    \n",
    "    Calculation of yearNormalized:\n",
    "    > if date_print and date_premiere:\n",
    "    >     yearNormalized = min(date_print, date_premiere)\n",
    "    > elif date_premiere:\n",
    "    >     yearNormalized = date_premiere\n",
    "    > else:\n",
    "    >     yearNormalized = date_print\n",
    "    > if date_written and yearNormalized:\n",
    "    >     if yearNormalized - date_written > 10:\n",
    "    >         yearNormalized = date_written\n",
    "    >     elif date_written and not yearNormalized:\n",
    "    >         yearNormalized = date_written\n",
    "    \n",
    "    :args play_id (str) — author's name and title of the play\n",
    "    play_metadata (json) — metadata for all the plays currently\n",
    "    present in the corpus\n",
    "    \n",
    "    :returns year (int) — normalized year of the play\n",
    "    \"\"\"\n",
    "    \n",
    "    for play in play_metadata:\n",
    "        if play[\"playName\"] == play_id:\n",
    "            year = int(play[\"yearNormalized\"])\n",
    "            break\n",
    "        else:\n",
    "            year = 0\n",
    "    if year == 0:\n",
    "        print(\"Couldn't retrieve year.\\n\\t- play: {}\\n\\t- status code: {} \\\n",
    "            \\n=> Returning 0\".format(play_id, response.status_code))\n",
    "    return year"
   ]
  },
  {
   "cell_type": "markdown",
   "metadata": {},
   "source": [
    "## 2 &emsp; Assembling everything together"
   ]
  },
  {
   "cell_type": "code",
   "execution_count": 102,
   "metadata": {},
   "outputs": [],
   "source": [
    "import pandas as pd\n",
    "import numpy as np"
   ]
  },
  {
   "cell_type": "code",
   "execution_count": 19,
   "metadata": {},
   "outputs": [],
   "source": [
    "def csv_to_full_df(play_id):\n",
    "    \"\"\"Converts .csv files for /data/stage/annotated into a \n",
    "    pd.DataFrame, then adds \n",
    "        (1) directions' origin, \n",
    "        (2) normalized year of the play (see append_play_year()).\n",
    "            \n",
    "    :args play_id (str) — author's name and title of the play\n",
    "    \n",
    "    :returns play_df (pd.DataFrame) — converted data of a single play\n",
    "    \"\"\"\n",
    "    \n",
    "    play_csv_path = \"./data/stage/annotated/{}.csv\".format(play_id)\n",
    "    play_df = pd.read_csv(play_csv_path, sep=\";\", encoding=\"utf-8\").fillna(0)\n",
    "    \n",
    "    # convert direction marks to categories\n",
    "    for dir_type in play_df.columns[1:]:\n",
    "        play_df[dir_type] = play_df[dir_type].astype(\"category\")\n",
    "    \n",
    "    # add play_id so that we know directions' origin\n",
    "    add_play_name = lambda play_id : play_id\n",
    "    play_df[\"play\"] = [add_play_name(play_id)] * len(play_df)\n",
    "    \n",
    "    # add yearNormalized\n",
    "    play_df[\"year\"] = [append_play_year(play_id, play_metadata)] * len(play_df)\n",
    "    \n",
    "    return play_df"
   ]
  },
  {
   "cell_type": "markdown",
   "metadata": {},
   "source": [
    "Demo check:"
   ]
  },
  {
   "cell_type": "code",
   "execution_count": 21,
   "metadata": {
    "scrolled": true
   },
   "outputs": [
    {
     "data": {
      "text/html": [
       "<div>\n",
       "<style scoped>\n",
       "    .dataframe tbody tr th:only-of-type {\n",
       "        vertical-align: middle;\n",
       "    }\n",
       "\n",
       "    .dataframe tbody tr th {\n",
       "        vertical-align: top;\n",
       "    }\n",
       "\n",
       "    .dataframe thead th {\n",
       "        text-align: right;\n",
       "    }\n",
       "</style>\n",
       "<table border=\"1\" class=\"dataframe\">\n",
       "  <thead>\n",
       "    <tr style=\"text-align: right;\">\n",
       "      <th></th>\n",
       "      <th>text</th>\n",
       "      <th>setting</th>\n",
       "      <th>entrance</th>\n",
       "      <th>exit</th>\n",
       "      <th>business</th>\n",
       "      <th>delivery</th>\n",
       "      <th>modifier</th>\n",
       "      <th>location</th>\n",
       "      <th>unknown</th>\n",
       "      <th>play</th>\n",
       "      <th>year</th>\n",
       "    </tr>\n",
       "  </thead>\n",
       "  <tbody>\n",
       "    <tr>\n",
       "      <th>0</th>\n",
       "      <td>Игроки, князь Звездич, Казарин и Шприх. За сто...</td>\n",
       "      <td>1.0</td>\n",
       "      <td>0.0</td>\n",
       "      <td>0.0</td>\n",
       "      <td>1.0</td>\n",
       "      <td>0.0</td>\n",
       "      <td>0.0</td>\n",
       "      <td>0.0</td>\n",
       "      <td>0.0</td>\n",
       "      <td>lermontov-maskarad</td>\n",
       "      <td>1842</td>\n",
       "    </tr>\n",
       "    <tr>\n",
       "      <th>1</th>\n",
       "      <td>(тихо первому)</td>\n",
       "      <td>0.0</td>\n",
       "      <td>0.0</td>\n",
       "      <td>0.0</td>\n",
       "      <td>0.0</td>\n",
       "      <td>1.0</td>\n",
       "      <td>0.0</td>\n",
       "      <td>0.0</td>\n",
       "      <td>0.0</td>\n",
       "      <td>lermontov-maskarad</td>\n",
       "      <td>1842</td>\n",
       "    </tr>\n",
       "    <tr>\n",
       "      <th>2</th>\n",
       "      <td>(насмешливо)</td>\n",
       "      <td>0.0</td>\n",
       "      <td>0.0</td>\n",
       "      <td>0.0</td>\n",
       "      <td>0.0</td>\n",
       "      <td>1.0</td>\n",
       "      <td>0.0</td>\n",
       "      <td>0.0</td>\n",
       "      <td>0.0</td>\n",
       "      <td>lermontov-maskarad</td>\n",
       "      <td>1842</td>\n",
       "    </tr>\n",
       "    <tr>\n",
       "      <th>3</th>\n",
       "      <td>(сквозь зубы, уходя)</td>\n",
       "      <td>0.0</td>\n",
       "      <td>0.0</td>\n",
       "      <td>1.0</td>\n",
       "      <td>0.0</td>\n",
       "      <td>1.0</td>\n",
       "      <td>0.0</td>\n",
       "      <td>0.0</td>\n",
       "      <td>0.0</td>\n",
       "      <td>lermontov-maskarad</td>\n",
       "      <td>1842</td>\n",
       "    </tr>\n",
       "    <tr>\n",
       "      <th>4</th>\n",
       "      <td>Князь, выпив стакан лимонаду, садится к сторон...</td>\n",
       "      <td>0.0</td>\n",
       "      <td>0.0</td>\n",
       "      <td>0.0</td>\n",
       "      <td>1.0</td>\n",
       "      <td>0.0</td>\n",
       "      <td>0.0</td>\n",
       "      <td>0.0</td>\n",
       "      <td>0.0</td>\n",
       "      <td>lermontov-maskarad</td>\n",
       "      <td>1842</td>\n",
       "    </tr>\n",
       "  </tbody>\n",
       "</table>\n",
       "</div>"
      ],
      "text/plain": [
       "                                                text setting entrance exit  \\\n",
       "0  Игроки, князь Звездич, Казарин и Шприх. За сто...     1.0      0.0  0.0   \n",
       "1                                     (тихо первому)     0.0      0.0  0.0   \n",
       "2                                       (насмешливо)     0.0      0.0  0.0   \n",
       "3                               (сквозь зубы, уходя)     0.0      0.0  1.0   \n",
       "4  Князь, выпив стакан лимонаду, садится к сторон...     0.0      0.0  0.0   \n",
       "\n",
       "  business delivery modifier location unknown                play  year  \n",
       "0      1.0      0.0      0.0      0.0     0.0  lermontov-maskarad  1842  \n",
       "1      0.0      1.0      0.0      0.0     0.0  lermontov-maskarad  1842  \n",
       "2      0.0      1.0      0.0      0.0     0.0  lermontov-maskarad  1842  \n",
       "3      0.0      1.0      0.0      0.0     0.0  lermontov-maskarad  1842  \n",
       "4      1.0      0.0      0.0      0.0     0.0  lermontov-maskarad  1842  "
      ]
     },
     "execution_count": 21,
     "metadata": {},
     "output_type": "execute_result"
    }
   ],
   "source": [
    "csv_to_full_df(\"lermontov-maskarad\").head()"
   ]
  },
  {
   "cell_type": "markdown",
   "metadata": {},
   "source": [
    "Concatenating all plays in a single dataset:"
   ]
  },
  {
   "cell_type": "code",
   "execution_count": 29,
   "metadata": {},
   "outputs": [],
   "source": [
    "df_total = pd.DataFrame(columns=[\"text\", \"setting\", \"entrance\", \"exit\", \"business\", \"delivery\", \n",
    "                                 \"modifier\", \"location\", \"unknown\", \"play\", \"year\"])"
   ]
  },
  {
   "cell_type": "code",
   "execution_count": 32,
   "metadata": {
    "scrolled": false
   },
   "outputs": [],
   "source": [
    "for play_id in play_ids:\n",
    "    play_df = csv_to_full_df(play_id)\n",
    "    df_total = pd.concat([df_total, play_df], ignore_index=True)\n",
    "    # except:\n",
    "    #   print(\"Error at play: {}\".format(play_id))"
   ]
  },
  {
   "cell_type": "markdown",
   "metadata": {},
   "source": [
    "Checking that everything is OK:"
   ]
  },
  {
   "cell_type": "code",
   "execution_count": 33,
   "metadata": {
    "scrolled": true
   },
   "outputs": [
    {
     "data": {
      "text/html": [
       "<div>\n",
       "<style scoped>\n",
       "    .dataframe tbody tr th:only-of-type {\n",
       "        vertical-align: middle;\n",
       "    }\n",
       "\n",
       "    .dataframe tbody tr th {\n",
       "        vertical-align: top;\n",
       "    }\n",
       "\n",
       "    .dataframe thead th {\n",
       "        text-align: right;\n",
       "    }\n",
       "</style>\n",
       "<table border=\"1\" class=\"dataframe\">\n",
       "  <thead>\n",
       "    <tr style=\"text-align: right;\">\n",
       "      <th></th>\n",
       "      <th>text</th>\n",
       "      <th>setting</th>\n",
       "      <th>entrance</th>\n",
       "      <th>exit</th>\n",
       "      <th>business</th>\n",
       "      <th>delivery</th>\n",
       "      <th>modifier</th>\n",
       "      <th>location</th>\n",
       "      <th>unknown</th>\n",
       "      <th>play</th>\n",
       "      <th>year</th>\n",
       "    </tr>\n",
       "  </thead>\n",
       "  <tbody>\n",
       "    <tr>\n",
       "      <th>0</th>\n",
       "      <td>Игроки, князь Звездич, Казарин и Шприх. За сто...</td>\n",
       "      <td>1</td>\n",
       "      <td>0</td>\n",
       "      <td>0</td>\n",
       "      <td>1</td>\n",
       "      <td>0</td>\n",
       "      <td>0</td>\n",
       "      <td>0</td>\n",
       "      <td>0</td>\n",
       "      <td>lermontov-maskarad</td>\n",
       "      <td>1842</td>\n",
       "    </tr>\n",
       "    <tr>\n",
       "      <th>1</th>\n",
       "      <td>(тихо первому)</td>\n",
       "      <td>0</td>\n",
       "      <td>0</td>\n",
       "      <td>0</td>\n",
       "      <td>0</td>\n",
       "      <td>1</td>\n",
       "      <td>0</td>\n",
       "      <td>0</td>\n",
       "      <td>0</td>\n",
       "      <td>lermontov-maskarad</td>\n",
       "      <td>1842</td>\n",
       "    </tr>\n",
       "    <tr>\n",
       "      <th>2</th>\n",
       "      <td>(насмешливо)</td>\n",
       "      <td>0</td>\n",
       "      <td>0</td>\n",
       "      <td>0</td>\n",
       "      <td>0</td>\n",
       "      <td>1</td>\n",
       "      <td>0</td>\n",
       "      <td>0</td>\n",
       "      <td>0</td>\n",
       "      <td>lermontov-maskarad</td>\n",
       "      <td>1842</td>\n",
       "    </tr>\n",
       "    <tr>\n",
       "      <th>3</th>\n",
       "      <td>(сквозь зубы, уходя)</td>\n",
       "      <td>0</td>\n",
       "      <td>0</td>\n",
       "      <td>1</td>\n",
       "      <td>0</td>\n",
       "      <td>1</td>\n",
       "      <td>0</td>\n",
       "      <td>0</td>\n",
       "      <td>0</td>\n",
       "      <td>lermontov-maskarad</td>\n",
       "      <td>1842</td>\n",
       "    </tr>\n",
       "    <tr>\n",
       "      <th>4</th>\n",
       "      <td>Князь, выпив стакан лимонаду, садится к сторон...</td>\n",
       "      <td>0</td>\n",
       "      <td>0</td>\n",
       "      <td>0</td>\n",
       "      <td>1</td>\n",
       "      <td>0</td>\n",
       "      <td>0</td>\n",
       "      <td>0</td>\n",
       "      <td>0</td>\n",
       "      <td>lermontov-maskarad</td>\n",
       "      <td>1842</td>\n",
       "    </tr>\n",
       "  </tbody>\n",
       "</table>\n",
       "</div>"
      ],
      "text/plain": [
       "                                                text setting entrance exit  \\\n",
       "0  Игроки, князь Звездич, Казарин и Шприх. За сто...       1        0    0   \n",
       "1                                     (тихо первому)       0        0    0   \n",
       "2                                       (насмешливо)       0        0    0   \n",
       "3                               (сквозь зубы, уходя)       0        0    1   \n",
       "4  Князь, выпив стакан лимонаду, садится к сторон...       0        0    0   \n",
       "\n",
       "  business delivery modifier location unknown                play  year  \n",
       "0        1        0        0        0       0  lermontov-maskarad  1842  \n",
       "1        0        1        0        0       0  lermontov-maskarad  1842  \n",
       "2        0        1        0        0       0  lermontov-maskarad  1842  \n",
       "3        0        1        0        0       0  lermontov-maskarad  1842  \n",
       "4        1        0        0        0       0  lermontov-maskarad  1842  "
      ]
     },
     "execution_count": 33,
     "metadata": {},
     "output_type": "execute_result"
    }
   ],
   "source": [
    "df_total.head()"
   ]
  },
  {
   "cell_type": "code",
   "execution_count": 42,
   "metadata": {},
   "outputs": [
    {
     "data": {
      "text/html": [
       "<div>\n",
       "<style scoped>\n",
       "    .dataframe tbody tr th:only-of-type {\n",
       "        vertical-align: middle;\n",
       "    }\n",
       "\n",
       "    .dataframe tbody tr th {\n",
       "        vertical-align: top;\n",
       "    }\n",
       "\n",
       "    .dataframe thead th {\n",
       "        text-align: right;\n",
       "    }\n",
       "</style>\n",
       "<table border=\"1\" class=\"dataframe\">\n",
       "  <thead>\n",
       "    <tr style=\"text-align: right;\">\n",
       "      <th></th>\n",
       "      <th>text</th>\n",
       "      <th>setting</th>\n",
       "      <th>entrance</th>\n",
       "      <th>exit</th>\n",
       "      <th>business</th>\n",
       "      <th>delivery</th>\n",
       "      <th>modifier</th>\n",
       "      <th>location</th>\n",
       "      <th>unknown</th>\n",
       "      <th>play</th>\n",
       "      <th>year</th>\n",
       "    </tr>\n",
       "  </thead>\n",
       "  <tbody>\n",
       "    <tr>\n",
       "      <th>401</th>\n",
       "      <td>Даша, Семен и потом Лиза.</td>\n",
       "      <td>0</td>\n",
       "      <td>1</td>\n",
       "      <td>0</td>\n",
       "      <td>0</td>\n",
       "      <td>0</td>\n",
       "      <td>0</td>\n",
       "      <td>0</td>\n",
       "      <td>0</td>\n",
       "      <td>krylov-urok-dochkam</td>\n",
       "      <td>1807</td>\n",
       "    </tr>\n",
       "    <tr>\n",
       "      <th>402</th>\n",
       "      <td>(выглядывая из другой комнаты.)</td>\n",
       "      <td>0</td>\n",
       "      <td>0</td>\n",
       "      <td>0</td>\n",
       "      <td>1</td>\n",
       "      <td>0</td>\n",
       "      <td>0</td>\n",
       "      <td>0</td>\n",
       "      <td>0</td>\n",
       "      <td>krylov-urok-dochkam</td>\n",
       "      <td>1807</td>\n",
       "    </tr>\n",
       "    <tr>\n",
       "      <th>403</th>\n",
       "      <td>(показываясь.)</td>\n",
       "      <td>0</td>\n",
       "      <td>0</td>\n",
       "      <td>0</td>\n",
       "      <td>1</td>\n",
       "      <td>0</td>\n",
       "      <td>0</td>\n",
       "      <td>0</td>\n",
       "      <td>0</td>\n",
       "      <td>krylov-urok-dochkam</td>\n",
       "      <td>1807</td>\n",
       "    </tr>\n",
       "    <tr>\n",
       "      <th>404</th>\n",
       "      <td>(Уходит.)</td>\n",
       "      <td>0</td>\n",
       "      <td>0</td>\n",
       "      <td>1</td>\n",
       "      <td>0</td>\n",
       "      <td>0</td>\n",
       "      <td>0</td>\n",
       "      <td>0</td>\n",
       "      <td>0</td>\n",
       "      <td>krylov-urok-dochkam</td>\n",
       "      <td>1807</td>\n",
       "    </tr>\n",
       "    <tr>\n",
       "      <th>405</th>\n",
       "      <td>(почесывая лоб.)</td>\n",
       "      <td>0</td>\n",
       "      <td>0</td>\n",
       "      <td>0</td>\n",
       "      <td>1</td>\n",
       "      <td>0</td>\n",
       "      <td>0</td>\n",
       "      <td>0</td>\n",
       "      <td>0</td>\n",
       "      <td>krylov-urok-dochkam</td>\n",
       "      <td>1807</td>\n",
       "    </tr>\n",
       "  </tbody>\n",
       "</table>\n",
       "</div>"
      ],
      "text/plain": [
       "                                text setting entrance exit business delivery  \\\n",
       "401        Даша, Семен и потом Лиза.       0        1    0        0        0   \n",
       "402  (выглядывая из другой комнаты.)       0        0    0        1        0   \n",
       "403                   (показываясь.)       0        0    0        1        0   \n",
       "404                        (Уходит.)       0        0    1        0        0   \n",
       "405                 (почесывая лоб.)       0        0    0        1        0   \n",
       "\n",
       "    modifier location unknown                 play  year  \n",
       "401        0        0       0  krylov-urok-dochkam  1807  \n",
       "402        0        0       0  krylov-urok-dochkam  1807  \n",
       "403        0        0       0  krylov-urok-dochkam  1807  \n",
       "404        0        0       0  krylov-urok-dochkam  1807  \n",
       "405        0        0       0  krylov-urok-dochkam  1807  "
      ]
     },
     "execution_count": 42,
     "metadata": {},
     "output_type": "execute_result"
    }
   ],
   "source": [
    "df_total[df_total[\"play\"] == \"krylov-urok-dochkam\"].head()"
   ]
  },
  {
   "cell_type": "code",
   "execution_count": 34,
   "metadata": {},
   "outputs": [
    {
     "data": {
      "text/plain": [
       "6541"
      ]
     },
     "execution_count": 34,
     "metadata": {},
     "output_type": "execute_result"
    }
   ],
   "source": [
    "len(df_total)"
   ]
  },
  {
   "cell_type": "code",
   "execution_count": 40,
   "metadata": {},
   "outputs": [
    {
     "data": {
      "text/plain": [
       "array(['lermontov-maskarad', 'krylov-urok-dochkam', 'tolstoy-tsar-boris',\n",
       "       'griboyedov-gore-ot-uma', 'chekhov-tri-sestry',\n",
       "       'ostrovsky-svoi-ljudi', 'chekhov-djadja-vanja',\n",
       "       'fonvizin-nedorosl', 'chekhov-chaika', 'sumarokov-horev',\n",
       "       'ostrovsky-bespridannitsa', 'chekhov-vishnevyi-sad',\n",
       "       'ostrovsky-les', 'tolstoy-zhivoy-trup', 'turgenev-holostjak',\n",
       "       'gogol-zhenitba', 'gogol-revizor', 'pushkin-boris-godunov'],\n",
       "      dtype=object)"
      ]
     },
     "execution_count": 40,
     "metadata": {},
     "output_type": "execute_result"
    }
   ],
   "source": [
    "df_total[\"play\"].unique()"
   ]
  },
  {
   "cell_type": "markdown",
   "metadata": {},
   "source": [
    "## 3 &emsp; Saving\n",
    "\n",
    "This data is raw — we haven't done any analysis yet. Nevertheless, it might be useful to save it for later research."
   ]
  },
  {
   "cell_type": "code",
   "execution_count": 43,
   "metadata": {},
   "outputs": [],
   "source": [
    "df_total.to_csv(\"./data/csv/annot_merged_raw.csv\", sep=\";\", encoding=\"utf-8\", index=False)"
   ]
  },
  {
   "cell_type": "markdown",
   "metadata": {},
   "source": [
    "## 4 &emsp; Directions distribution among plays"
   ]
  },
  {
   "cell_type": "markdown",
   "metadata": {},
   "source": [
    "### 4.1 &emsp; How many directions are there in the plays year-wise?"
   ]
  },
  {
   "cell_type": "code",
   "execution_count": 224,
   "metadata": {},
   "outputs": [],
   "source": [
    "import matplotlib.pyplot as plt\n",
    "%matplotlib inline\n",
    "import collections"
   ]
  },
  {
   "cell_type": "code",
   "execution_count": 216,
   "metadata": {},
   "outputs": [],
   "source": [
    "direction_types = [\"setting\", \"entrance\", \"exit\", \"business\", \"delivery\", \n",
    "                   \"modifier\", \"location\", \"unknown\"]\n",
    "plays = df_total[\"play\"].unique()\n",
    "\n",
    "dir_amount = []\n",
    "years = []\n",
    "\n",
    "dict_plays = {}\n",
    "for play in plays:\n",
    "    year = df_total[df_total[\"play\"] == play][\"year\"].unique()[0]\n",
    "    amount = df_total[df_total[\"play\"] == play][\"text\"].count()\n",
    "    dict_plays[play] = [amount, year]"
   ]
  },
  {
   "cell_type": "code",
   "execution_count": 245,
   "metadata": {
    "scrolled": true
   },
   "outputs": [],
   "source": [
    "def key_from_value(dict_plays, search_year):\n",
    "    for play, data in dict_plays.items():\n",
    "        if data[1] == search_year:\n",
    "            return play\n",
    "        else:\n",
    "            pass"
   ]
  },
  {
   "cell_type": "code",
   "execution_count": 248,
   "metadata": {},
   "outputs": [],
   "source": [
    "years_sorted = sorted([value[1] for value in dict_plays.values()])\n",
    "directions_amounts = [value[0] for value in dict_plays.values()]\n",
    "plays_sorted = [key_from_value(dict_plays, year) for year in years_sorted]"
   ]
  },
  {
   "cell_type": "code",
   "execution_count": 253,
   "metadata": {
    "scrolled": true
   },
   "outputs": [
    {
     "data": {
      "text/plain": [
       "[<matplotlib.lines.Line2D at 0x117d993c8>]"
      ]
     },
     "execution_count": 253,
     "metadata": {},
     "output_type": "execute_result"
    },
    {
     "data": {
      "image/png": "[encoded data removed]",
      "text/plain": [
       "<Figure size 1152x432 with 1 Axes>"
      ]
     },
     "metadata": {
      "needs_background": "light"
     },
     "output_type": "display_data"
    }
   ],
   "source": [
    "plt.figure(figsize=(16,6))\n",
    "plt.xticks(years_sorted, labels=plays_sorted, rotation=45)\n",
    "dict_plays_sorted = sorted(dict_plays)\n",
    "plt.plot(years_sorted, directions_amounts)"
   ]
  },
  {
   "cell_type": "markdown",
   "metadata": {},
   "source": [
    "### 4.2 &emsp; What are the proportions of different types in the plays?"
   ]
  },
  {
   "cell_type": "markdown",
   "metadata": {},
   "source": [
    "First, we have to gather the data, i.e. to sum up all the types for a certain play."
   ]
  },
  {
   "cell_type": "code",
   "execution_count": 274,
   "metadata": {},
   "outputs": [],
   "source": [
    "types_dict = {\n",
    "    dir_type: [] for dir_type in direction_types + [\"play\"]\n",
    "}\n",
    "for play in plays:\n",
    "    types_dict[\"play\"].append(play)\n",
    "    types_values = df_total[df_total[\"play\"] == play].sum()[direction_types]\n",
    "    for ty in types_values.keys():\n",
    "        types_dict[ty].append(types_values[ty])"
   ]
  },
  {
   "cell_type": "code",
   "execution_count": 285,
   "metadata": {},
   "outputs": [
    {
     "data": {
      "text/html": [
       "<div>\n",
       "<style scoped>\n",
       "    .dataframe tbody tr th:only-of-type {\n",
       "        vertical-align: middle;\n",
       "    }\n",
       "\n",
       "    .dataframe tbody tr th {\n",
       "        vertical-align: top;\n",
       "    }\n",
       "\n",
       "    .dataframe thead th {\n",
       "        text-align: right;\n",
       "    }\n",
       "</style>\n",
       "<table border=\"1\" class=\"dataframe\">\n",
       "  <thead>\n",
       "    <tr style=\"text-align: right;\">\n",
       "      <th></th>\n",
       "      <th>setting</th>\n",
       "      <th>entrance</th>\n",
       "      <th>exit</th>\n",
       "      <th>business</th>\n",
       "      <th>delivery</th>\n",
       "      <th>modifier</th>\n",
       "      <th>location</th>\n",
       "      <th>unknown</th>\n",
       "    </tr>\n",
       "    <tr>\n",
       "      <th>play</th>\n",
       "      <th></th>\n",
       "      <th></th>\n",
       "      <th></th>\n",
       "      <th></th>\n",
       "      <th></th>\n",
       "      <th></th>\n",
       "      <th></th>\n",
       "      <th></th>\n",
       "    </tr>\n",
       "  </thead>\n",
       "  <tbody>\n",
       "    <tr>\n",
       "      <th>lermontov-maskarad</th>\n",
       "      <td>8.0</td>\n",
       "      <td>66.0</td>\n",
       "      <td>44.0</td>\n",
       "      <td>212.0</td>\n",
       "      <td>93.0</td>\n",
       "      <td>0.0</td>\n",
       "      <td>2.0</td>\n",
       "      <td>4.0</td>\n",
       "    </tr>\n",
       "    <tr>\n",
       "      <th>krylov-urok-dochkam</th>\n",
       "      <td>0.0</td>\n",
       "      <td>21.0</td>\n",
       "      <td>11.0</td>\n",
       "      <td>73.0</td>\n",
       "      <td>45.0</td>\n",
       "      <td>0.0</td>\n",
       "      <td>2.0</td>\n",
       "      <td>1.0</td>\n",
       "    </tr>\n",
       "    <tr>\n",
       "      <th>tolstoy-tsar-boris</th>\n",
       "      <td>5.0</td>\n",
       "      <td>68.0</td>\n",
       "      <td>44.0</td>\n",
       "      <td>152.0</td>\n",
       "      <td>34.0</td>\n",
       "      <td>0.0</td>\n",
       "      <td>15.0</td>\n",
       "      <td>1.0</td>\n",
       "    </tr>\n",
       "    <tr>\n",
       "      <th>griboyedov-gore-ot-uma</th>\n",
       "      <td>3.0</td>\n",
       "      <td>39.0</td>\n",
       "      <td>29.0</td>\n",
       "      <td>83.0</td>\n",
       "      <td>61.0</td>\n",
       "      <td>0.0</td>\n",
       "      <td>9.0</td>\n",
       "      <td>0.0</td>\n",
       "    </tr>\n",
       "    <tr>\n",
       "      <th>chekhov-tri-sestry</th>\n",
       "      <td>5.0</td>\n",
       "      <td>57.0</td>\n",
       "      <td>51.0</td>\n",
       "      <td>459.0</td>\n",
       "      <td>104.0</td>\n",
       "      <td>8.0</td>\n",
       "      <td>35.0</td>\n",
       "      <td>4.0</td>\n",
       "    </tr>\n",
       "  </tbody>\n",
       "</table>\n",
       "</div>"
      ],
      "text/plain": [
       "                        setting  entrance  exit  business  delivery  modifier  \\\n",
       "play                                                                            \n",
       "lermontov-maskarad          8.0      66.0  44.0     212.0      93.0       0.0   \n",
       "krylov-urok-dochkam         0.0      21.0  11.0      73.0      45.0       0.0   \n",
       "tolstoy-tsar-boris          5.0      68.0  44.0     152.0      34.0       0.0   \n",
       "griboyedov-gore-ot-uma      3.0      39.0  29.0      83.0      61.0       0.0   \n",
       "chekhov-tri-sestry          5.0      57.0  51.0     459.0     104.0       8.0   \n",
       "\n",
       "                        location  unknown  \n",
       "play                                       \n",
       "lermontov-maskarad           2.0      4.0  \n",
       "krylov-urok-dochkam          2.0      1.0  \n",
       "tolstoy-tsar-boris          15.0      1.0  \n",
       "griboyedov-gore-ot-uma       9.0      0.0  \n",
       "chekhov-tri-sestry          35.0      4.0  "
      ]
     },
     "execution_count": 285,
     "metadata": {},
     "output_type": "execute_result"
    }
   ],
   "source": [
    "df_types = pd.DataFrame.from_dict(types_dict).set_index(\"play\")\n",
    "df_types.head()"
   ]
  },
  {
   "cell_type": "code",
   "execution_count": 286,
   "metadata": {},
   "outputs": [
    {
     "data": {
      "text/plain": [
       "<matplotlib.axes._subplots.AxesSubplot at 0x12f7eba20>"
      ]
     },
     "execution_count": 286,
     "metadata": {},
     "output_type": "execute_result"
    },
    {
     "data": {
      "image/png": "[encoded data removed]",
      "text/plain": [
       "<Figure size 1152x432 with 1 Axes>"
      ]
     },
     "metadata": {
      "needs_background": "light"
     },
     "output_type": "display_data"
    }
   ],
   "source": [
    "df_types.plot.bar(stacked=True, figsize=(16,6))"
   ]
  }
 ],
 "metadata": {
  "kernelspec": {
   "display_name": "Python 3",
   "language": "python",
   "name": "python3"
  },
  "language_info": {
   "codemirror_mode": {
    "name": "ipython",
    "version": 3
   },
   "file_extension": ".py",
   "mimetype": "text/x-python",
   "name": "python",
   "nbconvert_exporter": "python",
   "pygments_lexer": "ipython3",
   "version": "3.6.8"
  }
 },
 "nbformat": 4,
 "nbformat_minor": 2
}
