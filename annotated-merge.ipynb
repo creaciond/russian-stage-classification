{
 "cells": [
  {
   "cell_type": "markdown",
   "metadata": {},
   "source": [
    "# Annotated directions analysis"
   ]
  },
  {
   "cell_type": "code",
   "execution_count": 1,
   "metadata": {},
   "outputs": [],
   "source": [
    "import json\n",
    "import numpy as np\n",
    "import os\n",
    "import pandas as pd\n",
    "import requests\n",
    "\n",
    "import matplotlib.pyplot as plt\n",
    "%matplotlib inline"
   ]
  },
  {
   "cell_type": "markdown",
   "metadata": {},
   "source": [
    "## 1 &emsp; Preparation\n",
    "\n",
    "Gathering paths to plays' `.csv` files and their IDs (which are basically author's name and play title):"
   ]
  },
  {
   "cell_type": "code",
   "execution_count": 10,
   "metadata": {},
   "outputs": [],
   "source": [
    "# if you're doing this for the first time — run everything until Part 3\n",
    "path_to_annot = \"./data/stage/annotated/\"\n",
    "plays_csv = [play_id for play_id in os.listdir(path_to_annot) if play_id != \".DS_Store\"]\n",
    "play_paths = [path_to_annot + play_id for play_id in plays_csv]\n",
    "play_ids = [play_csv[:-4] for play_csv in plays_csv]"
   ]
  },
  {
   "cell_type": "markdown",
   "metadata": {},
   "source": [
    "### 1.1 &emsp; Data not present in .csv\n",
    "\n",
    "Additional functions: adding year of the play and `play_id`:"
   ]
  },
  {
   "cell_type": "markdown",
   "metadata": {},
   "source": [
    "Extracting **year of the play**, fetched from corpus metadata:"
   ]
  },
  {
   "cell_type": "code",
   "execution_count": 11,
   "metadata": {},
   "outputs": [],
   "source": [
    "request_link = \"https://dracor.org/api/corpora/rus/metadata\"\n",
    "response = requests.get(request_link)\n",
    "if response.status_code == 200:\n",
    "    play_metadata = response.json()"
   ]
  },
  {
   "cell_type": "code",
   "execution_count": 12,
   "metadata": {},
   "outputs": [],
   "source": [
    "def append_play_year(play_id, play_metadata):\n",
    "    \"\"\"Using metadata from DraCor API, extracts yearNormalized\n",
    "    for the play.\n",
    "    \n",
    "    Calculation of yearNormalized:\n",
    "    > if date_print and date_premiere:\n",
    "    >     yearNormalized = min(date_print, date_premiere)\n",
    "    > elif date_premiere:\n",
    "    >     yearNormalized = date_premiere\n",
    "    > else:\n",
    "    >     yearNormalized = date_print\n",
    "    > if date_written and yearNormalized:\n",
    "    >     if yearNormalized - date_written > 10:\n",
    "    >         yearNormalized = date_written\n",
    "    >     elif date_written and not yearNormalized:\n",
    "    >         yearNormalized = date_written\n",
    "    \n",
    "    :args play_id (str) — author's name and title of the play\n",
    "    play_metadata (json) — metadata for all the plays currently\n",
    "    present in the corpus\n",
    "    \n",
    "    :returns year (int) — normalized year of the play\n",
    "    \"\"\"\n",
    "    \n",
    "    for play in play_metadata:\n",
    "        if play[\"playName\"] == play_id:\n",
    "            year = int(play[\"yearNormalized\"])\n",
    "            break\n",
    "        else:\n",
    "            year = 0\n",
    "    if year == 0:\n",
    "        print(\"Couldn't retrieve year.\\n\\t- play: {}\\n\\t- status code: {} \\\n",
    "            \\n=> Returning 0\".format(play_id, response.status_code))\n",
    "    return year"
   ]
  },
  {
   "cell_type": "markdown",
   "metadata": {},
   "source": [
    "## 2 &emsp; Assembling everything together"
   ]
  },
  {
   "cell_type": "code",
   "execution_count": 13,
   "metadata": {},
   "outputs": [],
   "source": [
    "def csv_to_full_df(play_id):\n",
    "    \"\"\"Converts .csv files for /data/stage/annotated into a \n",
    "    pd.DataFrame, then adds \n",
    "        (1) directions' origin, \n",
    "        (2) normalized year of the play (see append_play_year()).\n",
    "            \n",
    "    :args play_id (str) — author's name and title of the play\n",
    "    \n",
    "    :returns play_df (pd.DataFrame) — converted data of a single play\n",
    "    \"\"\"\n",
    "    \n",
    "    play_csv_path = \"./data/stage/annotated/{}.csv\".format(play_id)\n",
    "    play_df = pd.read_csv(play_csv_path, sep=\";\", encoding=\"utf-8\").fillna(0)\n",
    "    \n",
    "    # convert direction marks to categories\n",
    "    for dir_type in play_df.columns[1:]:\n",
    "        play_df[dir_type] = play_df[dir_type].astype(\"category\")\n",
    "    \n",
    "    # add play_id so that we know directions' origin\n",
    "    add_play_name = lambda play_id : play_id\n",
    "    play_df[\"play\"] = [add_play_name(play_id)] * len(play_df)\n",
    "    \n",
    "    # add yearNormalized\n",
    "    play_df[\"year\"] = [append_play_year(play_id, play_metadata)] * len(play_df)\n",
    "    \n",
    "    return play_df"
   ]
  },
  {
   "cell_type": "markdown",
   "metadata": {},
   "source": [
    "Concatenating all plays in a single dataset:"
   ]
  },
  {
   "cell_type": "code",
   "execution_count": 14,
   "metadata": {},
   "outputs": [],
   "source": [
    "df_total = pd.DataFrame(columns=[\"text\", \"setting\", \"entrance\", \"exit\", \"business\", \"delivery\", \n",
    "                                 \"modifier\", \"location\", \"unknown\", \"play\", \"year\"])"
   ]
  },
  {
   "cell_type": "code",
   "execution_count": 15,
   "metadata": {
    "scrolled": false
   },
   "outputs": [],
   "source": [
    "for play_id in play_ids:\n",
    "    play_df = csv_to_full_df(play_id)\n",
    "    df_total = pd.concat([df_total, play_df], ignore_index=True)"
   ]
  },
  {
   "cell_type": "markdown",
   "metadata": {},
   "source": [
    "Sanity checks:"
   ]
  },
  {
   "cell_type": "code",
   "execution_count": 16,
   "metadata": {
    "scrolled": true
   },
   "outputs": [
    {
     "data": {
      "text/html": [
       "<div>\n",
       "<style scoped>\n",
       "    .dataframe tbody tr th:only-of-type {\n",
       "        vertical-align: middle;\n",
       "    }\n",
       "\n",
       "    .dataframe tbody tr th {\n",
       "        vertical-align: top;\n",
       "    }\n",
       "\n",
       "    .dataframe thead th {\n",
       "        text-align: right;\n",
       "    }\n",
       "</style>\n",
       "<table border=\"1\" class=\"dataframe\">\n",
       "  <thead>\n",
       "    <tr style=\"text-align: right;\">\n",
       "      <th></th>\n",
       "      <th>text</th>\n",
       "      <th>setting</th>\n",
       "      <th>entrance</th>\n",
       "      <th>exit</th>\n",
       "      <th>business</th>\n",
       "      <th>delivery</th>\n",
       "      <th>modifier</th>\n",
       "      <th>location</th>\n",
       "      <th>unknown</th>\n",
       "      <th>play</th>\n",
       "      <th>year</th>\n",
       "    </tr>\n",
       "  </thead>\n",
       "  <tbody>\n",
       "    <tr>\n",
       "      <th>0</th>\n",
       "      <td>Игроки, князь Звездич, Казарин и Шприх. За сто...</td>\n",
       "      <td>1</td>\n",
       "      <td>0</td>\n",
       "      <td>0</td>\n",
       "      <td>1</td>\n",
       "      <td>0</td>\n",
       "      <td>0</td>\n",
       "      <td>0</td>\n",
       "      <td>0</td>\n",
       "      <td>lermontov-maskarad</td>\n",
       "      <td>1842</td>\n",
       "    </tr>\n",
       "    <tr>\n",
       "      <th>1</th>\n",
       "      <td>(тихо первому)</td>\n",
       "      <td>0</td>\n",
       "      <td>0</td>\n",
       "      <td>0</td>\n",
       "      <td>0</td>\n",
       "      <td>1</td>\n",
       "      <td>0</td>\n",
       "      <td>0</td>\n",
       "      <td>0</td>\n",
       "      <td>lermontov-maskarad</td>\n",
       "      <td>1842</td>\n",
       "    </tr>\n",
       "    <tr>\n",
       "      <th>2</th>\n",
       "      <td>(насмешливо)</td>\n",
       "      <td>0</td>\n",
       "      <td>0</td>\n",
       "      <td>0</td>\n",
       "      <td>0</td>\n",
       "      <td>1</td>\n",
       "      <td>0</td>\n",
       "      <td>0</td>\n",
       "      <td>0</td>\n",
       "      <td>lermontov-maskarad</td>\n",
       "      <td>1842</td>\n",
       "    </tr>\n",
       "    <tr>\n",
       "      <th>3</th>\n",
       "      <td>(сквозь зубы, уходя)</td>\n",
       "      <td>0</td>\n",
       "      <td>0</td>\n",
       "      <td>1</td>\n",
       "      <td>0</td>\n",
       "      <td>1</td>\n",
       "      <td>0</td>\n",
       "      <td>0</td>\n",
       "      <td>0</td>\n",
       "      <td>lermontov-maskarad</td>\n",
       "      <td>1842</td>\n",
       "    </tr>\n",
       "    <tr>\n",
       "      <th>4</th>\n",
       "      <td>Князь, выпив стакан лимонаду, садится к сторон...</td>\n",
       "      <td>0</td>\n",
       "      <td>0</td>\n",
       "      <td>0</td>\n",
       "      <td>1</td>\n",
       "      <td>0</td>\n",
       "      <td>0</td>\n",
       "      <td>0</td>\n",
       "      <td>0</td>\n",
       "      <td>lermontov-maskarad</td>\n",
       "      <td>1842</td>\n",
       "    </tr>\n",
       "  </tbody>\n",
       "</table>\n",
       "</div>"
      ],
      "text/plain": [
       "                                                text setting entrance exit  \\\n",
       "0  Игроки, князь Звездич, Казарин и Шприх. За сто...       1        0    0   \n",
       "1                                     (тихо первому)       0        0    0   \n",
       "2                                       (насмешливо)       0        0    0   \n",
       "3                               (сквозь зубы, уходя)       0        0    1   \n",
       "4  Князь, выпив стакан лимонаду, садится к сторон...       0        0    0   \n",
       "\n",
       "  business delivery modifier location unknown                play  year  \n",
       "0        1        0        0        0       0  lermontov-maskarad  1842  \n",
       "1        0        1        0        0       0  lermontov-maskarad  1842  \n",
       "2        0        1        0        0       0  lermontov-maskarad  1842  \n",
       "3        0        1        0        0       0  lermontov-maskarad  1842  \n",
       "4        1        0        0        0       0  lermontov-maskarad  1842  "
      ]
     },
     "execution_count": 16,
     "metadata": {},
     "output_type": "execute_result"
    }
   ],
   "source": [
    "# dataframe columns\n",
    "df_total.head()"
   ]
  },
  {
   "cell_type": "code",
   "execution_count": 17,
   "metadata": {},
   "outputs": [
    {
     "data": {
      "text/plain": [
       "401"
      ]
     },
     "execution_count": 17,
     "metadata": {},
     "output_type": "execute_result"
    }
   ],
   "source": [
    "# amount of directions\n",
    "df_total[df_total[\"play\"] == \"lermontov-maskarad\"][\"text\"].count()"
   ]
  },
  {
   "cell_type": "code",
   "execution_count": 18,
   "metadata": {},
   "outputs": [
    {
     "data": {
      "text/plain": [
       "6541"
      ]
     },
     "execution_count": 18,
     "metadata": {},
     "output_type": "execute_result"
    }
   ],
   "source": [
    "len(df_total)"
   ]
  },
  {
   "cell_type": "code",
   "execution_count": 19,
   "metadata": {},
   "outputs": [
    {
     "data": {
      "text/plain": [
       "turgenev-holostjak          686\n",
       "chekhov-tri-sestry          653\n",
       "chekhov-vishnevyi-sad       575\n",
       "ostrovsky-les               486\n",
       "chekhov-chaika              474\n",
       "gogol-revizor               433\n",
       "chekhov-djadja-vanja        412\n",
       "lermontov-maskarad          401\n",
       "ostrovsky-bespridannitsa    395\n",
       "tolstoy-zhivoy-trup         371\n",
       "fonvizin-nedorosl           349\n",
       "tolstoy-tsar-boris          258\n",
       "gogol-zhenitba              254\n",
       "ostrovsky-svoi-ljudi        234\n",
       "griboyedov-gore-ot-uma      209\n",
       "pushkin-boris-godunov       172\n",
       "krylov-urok-dochkam         146\n",
       "sumarokov-horev              33\n",
       "Name: play, dtype: int64"
      ]
     },
     "execution_count": 19,
     "metadata": {},
     "output_type": "execute_result"
    }
   ],
   "source": [
    "df_total[\"play\"]"
   ]
  },
  {
   "cell_type": "markdown",
   "metadata": {},
   "source": [
    "## 3 &emsp; Saving\n",
    "\n",
    "This data is raw — we haven't done any analysis yet. Nevertheless, it might be useful to save it for later research."
   ]
  },
  {
   "cell_type": "code",
   "execution_count": 20,
   "metadata": {},
   "outputs": [],
   "source": [
    "# run to_csv if this is the first time you're running the notebook\n",
    "df_total.to_csv(\"./data/csv/annot_merged_raw.csv\", sep=\";\", encoding=\"utf-8\", index=False)\n",
    "# otherwise run read_csv\n",
    "# df_total = pd.read_csv(\"./data/csv/annot_merged_raw.csv\", sep=\";\", encoding=\"utf-8\")\n",
    "# df_total.head()"
   ]
  },
  {
   "cell_type": "markdown",
   "metadata": {},
   "source": [
    "## 4 &emsp; Directions distribution among plays"
   ]
  },
  {
   "cell_type": "markdown",
   "metadata": {},
   "source": [
    "### 4.1 &emsp; How many directions are there in the plays year-wise?"
   ]
  },
  {
   "cell_type": "code",
   "execution_count": 73,
   "metadata": {},
   "outputs": [],
   "source": [
    "direction_types = [\"setting\", \"entrance\", \"exit\", \"business\", \"delivery\", \n",
    "                   \"modifier\", \"location\", \"unknown\"]\n",
    "plays = df_total[\"play\"].unique()\n",
    "\n",
    "dir_amount = []\n",
    "years = []\n",
    "\n",
    "dict_plays = {}\n",
    "for play in plays:\n",
    "    year = df_total[df_total[\"play\"] == play][\"year\"].unique()[0]\n",
    "    amount = df_total[df_total[\"play\"] == play][\"text\"].count()\n",
    "    dict_plays[play] = [amount, year]"
   ]
  },
  {
   "cell_type": "code",
   "execution_count": 80,
   "metadata": {},
   "outputs": [],
   "source": [
    "def match_play_to_directions(play, play_dict):\n",
    "    return play_dict[play][0]"
   ]
  },
  {
   "cell_type": "code",
   "execution_count": 90,
   "metadata": {},
   "outputs": [],
   "source": [
    "def match_play_to_year(year, play_dict, ready_plays):\n",
    "    for play in play_dict:\n",
    "        if year == play_dict[play][1] and play not in ready_plays:\n",
    "            ready_plays.append(play)\n",
    "            return play"
   ]
  },
  {
   "cell_type": "code",
   "execution_count": 91,
   "metadata": {
    "scrolled": true
   },
   "outputs": [
    {
     "data": {
      "text/plain": [
       "['lermontov-maskarad', 'gogol-zhenitba']"
      ]
     },
     "execution_count": 91,
     "metadata": {},
     "output_type": "execute_result"
    }
   ],
   "source": [
    "ready_plays = []\n",
    "[match_play_to_year(year, dict_plays, ready_plays) for year in [1842, 1842]]"
   ]
  },
  {
   "cell_type": "code",
   "execution_count": 82,
   "metadata": {},
   "outputs": [
    {
     "data": {
      "text/plain": [
       "254"
      ]
     },
     "execution_count": 82,
     "metadata": {},
     "output_type": "execute_result"
    }
   ],
   "source": [
    "match_play_to_directions(\"gogol-zhenitba\", dict_plays)"
   ]
  },
  {
   "cell_type": "code",
   "execution_count": 93,
   "metadata": {},
   "outputs": [
    {
     "name": "stdout",
     "output_type": "stream",
     "text": [
      "sumarokov-horev was written in 1747 with 33 directions\n",
      "fonvizin-nedorosl was written in 1782 with 349 directions\n",
      "krylov-urok-dochkam was written in 1807 with 146 directions\n",
      "griboyedov-gore-ot-uma was written in 1825 with 209 directions\n",
      "pushkin-boris-godunov was written in 1831 with 172 directions\n",
      "gogol-revizor was written in 1836 with 433 directions\n",
      "lermontov-maskarad was written in 1842 with 401 directions\n",
      "gogol-zhenitba was written in 1842 with 254 directions\n",
      "turgenev-holostjak was written in 1849 with 686 directions\n",
      "ostrovsky-svoi-ljudi was written in 1850 with 234 directions\n",
      "tolstoy-tsar-boris was written in 1870 with 258 directions\n",
      "ostrovsky-les was written in 1871 with 486 directions\n",
      "ostrovsky-bespridannitsa was written in 1878 with 395 directions\n",
      "chekhov-chaika was written in 1896 with 474 directions\n",
      "chekhov-djadja-vanja was written in 1897 with 412 directions\n",
      "tolstoy-zhivoy-trup was written in 1900 with 371 directions\n",
      "chekhov-tri-sestry was written in 1901 with 653 directions\n",
      "chekhov-vishnevyi-sad was written in 1904 with 575 directions\n"
     ]
    }
   ],
   "source": [
    "ready_plays = []\n",
    "\n",
    "years_sorted = sorted([value[1] for value in dict_plays.values()])\n",
    "plays_sorted = [match_play_to_year(year, dict_plays, ready_plays) for year in years_sorted]\n",
    "directions_amounts = [dict_plays[play][0] for play in plays_sorted]\n",
    "\n",
    "for i in range(len(years_sorted)):\n",
    "    print(\"{} was written in {} with {} directions\".format(plays_sorted[i], years_sorted[i],\n",
    "                                                      directions_amounts[i]))"
   ]
  },
  {
   "cell_type": "code",
   "execution_count": 94,
   "metadata": {
    "scrolled": true
   },
   "outputs": [
    {
     "data": {
      "text/plain": [
       "[<matplotlib.lines.Line2D at 0x11112a860>]"
      ]
     },
     "execution_count": 94,
     "metadata": {},
     "output_type": "execute_result"
    },
    {
     "data": {
      "image/png": "[encoded data removed]",
      "text/plain": [
       "<Figure size 1152x432 with 1 Axes>"
      ]
     },
     "metadata": {
      "needs_background": "light"
     },
     "output_type": "display_data"
    }
   ],
   "source": [
    "plt.figure(figsize=(16,6))\n",
    "plt.xticks(years_sorted, labels=plays_sorted, rotation=90)\n",
    "dict_plays_sorted = sorted(dict_plays)\n",
    "plt.plot(years_sorted, directions_amounts)"
   ]
  },
  {
   "cell_type": "markdown",
   "metadata": {},
   "source": [
    "### 4.2 &emsp; What are the proportions of different types in the plays?\n",
    "\n",
    "First, we have to gather the data, i.e. to sum up all the types for a certain play."
   ]
  },
  {
   "cell_type": "code",
   "execution_count": 95,
   "metadata": {},
   "outputs": [],
   "source": [
    "types_dict = {\n",
    "    dir_type: [] for dir_type in direction_types + [\"play\", \"year\"]\n",
    "}\n",
    "for play in plays:\n",
    "    types_dict[\"play\"].append(play)\n",
    "    types_dict[\"year\"].append(dict_plays[play][1])\n",
    "    types_values = df_total[df_total[\"play\"] == play].sum()[direction_types]\n",
    "    for ty in types_values.keys():\n",
    "        types_dict[ty].append(types_values[ty])"
   ]
  },
  {
   "cell_type": "code",
   "execution_count": 96,
   "metadata": {
    "scrolled": false
   },
   "outputs": [
    {
     "data": {
      "text/html": [
       "<div>\n",
       "<style scoped>\n",
       "    .dataframe tbody tr th:only-of-type {\n",
       "        vertical-align: middle;\n",
       "    }\n",
       "\n",
       "    .dataframe tbody tr th {\n",
       "        vertical-align: top;\n",
       "    }\n",
       "\n",
       "    .dataframe thead th {\n",
       "        text-align: right;\n",
       "    }\n",
       "</style>\n",
       "<table border=\"1\" class=\"dataframe\">\n",
       "  <thead>\n",
       "    <tr style=\"text-align: right;\">\n",
       "      <th></th>\n",
       "      <th>setting</th>\n",
       "      <th>entrance</th>\n",
       "      <th>exit</th>\n",
       "      <th>business</th>\n",
       "      <th>delivery</th>\n",
       "      <th>modifier</th>\n",
       "      <th>location</th>\n",
       "      <th>unknown</th>\n",
       "      <th>year</th>\n",
       "    </tr>\n",
       "    <tr>\n",
       "      <th>play</th>\n",
       "      <th></th>\n",
       "      <th></th>\n",
       "      <th></th>\n",
       "      <th></th>\n",
       "      <th></th>\n",
       "      <th></th>\n",
       "      <th></th>\n",
       "      <th></th>\n",
       "      <th></th>\n",
       "    </tr>\n",
       "  </thead>\n",
       "  <tbody>\n",
       "    <tr>\n",
       "      <th>lermontov-maskarad</th>\n",
       "      <td>8.0</td>\n",
       "      <td>66.0</td>\n",
       "      <td>44.0</td>\n",
       "      <td>212.0</td>\n",
       "      <td>93.0</td>\n",
       "      <td>0.0</td>\n",
       "      <td>2.0</td>\n",
       "      <td>4.0</td>\n",
       "      <td>1842</td>\n",
       "    </tr>\n",
       "    <tr>\n",
       "      <th>krylov-urok-dochkam</th>\n",
       "      <td>0.0</td>\n",
       "      <td>21.0</td>\n",
       "      <td>11.0</td>\n",
       "      <td>73.0</td>\n",
       "      <td>45.0</td>\n",
       "      <td>0.0</td>\n",
       "      <td>2.0</td>\n",
       "      <td>1.0</td>\n",
       "      <td>1807</td>\n",
       "    </tr>\n",
       "    <tr>\n",
       "      <th>tolstoy-tsar-boris</th>\n",
       "      <td>5.0</td>\n",
       "      <td>68.0</td>\n",
       "      <td>44.0</td>\n",
       "      <td>152.0</td>\n",
       "      <td>34.0</td>\n",
       "      <td>0.0</td>\n",
       "      <td>15.0</td>\n",
       "      <td>1.0</td>\n",
       "      <td>1870</td>\n",
       "    </tr>\n",
       "    <tr>\n",
       "      <th>griboyedov-gore-ot-uma</th>\n",
       "      <td>3.0</td>\n",
       "      <td>39.0</td>\n",
       "      <td>29.0</td>\n",
       "      <td>83.0</td>\n",
       "      <td>61.0</td>\n",
       "      <td>0.0</td>\n",
       "      <td>9.0</td>\n",
       "      <td>0.0</td>\n",
       "      <td>1825</td>\n",
       "    </tr>\n",
       "    <tr>\n",
       "      <th>chekhov-tri-sestry</th>\n",
       "      <td>5.0</td>\n",
       "      <td>57.0</td>\n",
       "      <td>51.0</td>\n",
       "      <td>459.0</td>\n",
       "      <td>104.0</td>\n",
       "      <td>8.0</td>\n",
       "      <td>35.0</td>\n",
       "      <td>4.0</td>\n",
       "      <td>1901</td>\n",
       "    </tr>\n",
       "  </tbody>\n",
       "</table>\n",
       "</div>"
      ],
      "text/plain": [
       "                        setting  entrance  exit  business  delivery  modifier  \\\n",
       "play                                                                            \n",
       "lermontov-maskarad          8.0      66.0  44.0     212.0      93.0       0.0   \n",
       "krylov-urok-dochkam         0.0      21.0  11.0      73.0      45.0       0.0   \n",
       "tolstoy-tsar-boris          5.0      68.0  44.0     152.0      34.0       0.0   \n",
       "griboyedov-gore-ot-uma      3.0      39.0  29.0      83.0      61.0       0.0   \n",
       "chekhov-tri-sestry          5.0      57.0  51.0     459.0     104.0       8.0   \n",
       "\n",
       "                        location  unknown  year  \n",
       "play                                             \n",
       "lermontov-maskarad           2.0      4.0  1842  \n",
       "krylov-urok-dochkam          2.0      1.0  1807  \n",
       "tolstoy-tsar-boris          15.0      1.0  1870  \n",
       "griboyedov-gore-ot-uma       9.0      0.0  1825  \n",
       "chekhov-tri-sestry          35.0      4.0  1901  "
      ]
     },
     "execution_count": 96,
     "metadata": {},
     "output_type": "execute_result"
    }
   ],
   "source": [
    "df_types = pd.DataFrame.from_dict(types_dict).set_index(\"play\")\n",
    "df_types.head()"
   ]
  },
  {
   "cell_type": "code",
   "execution_count": 97,
   "metadata": {},
   "outputs": [
    {
     "data": {
      "text/html": [
       "<div>\n",
       "<style scoped>\n",
       "    .dataframe tbody tr th:only-of-type {\n",
       "        vertical-align: middle;\n",
       "    }\n",
       "\n",
       "    .dataframe tbody tr th {\n",
       "        vertical-align: top;\n",
       "    }\n",
       "\n",
       "    .dataframe thead th {\n",
       "        text-align: right;\n",
       "    }\n",
       "</style>\n",
       "<table border=\"1\" class=\"dataframe\">\n",
       "  <thead>\n",
       "    <tr style=\"text-align: right;\">\n",
       "      <th></th>\n",
       "      <th>setting</th>\n",
       "      <th>entrance</th>\n",
       "      <th>exit</th>\n",
       "      <th>business</th>\n",
       "      <th>delivery</th>\n",
       "      <th>modifier</th>\n",
       "      <th>location</th>\n",
       "      <th>unknown</th>\n",
       "      <th>year</th>\n",
       "    </tr>\n",
       "    <tr>\n",
       "      <th>play</th>\n",
       "      <th></th>\n",
       "      <th></th>\n",
       "      <th></th>\n",
       "      <th></th>\n",
       "      <th></th>\n",
       "      <th></th>\n",
       "      <th></th>\n",
       "      <th></th>\n",
       "      <th></th>\n",
       "    </tr>\n",
       "  </thead>\n",
       "  <tbody>\n",
       "    <tr>\n",
       "      <th>sumarokov-horev</th>\n",
       "      <td>0.0</td>\n",
       "      <td>26.0</td>\n",
       "      <td>1.0</td>\n",
       "      <td>4.0</td>\n",
       "      <td>1.0</td>\n",
       "      <td>0.0</td>\n",
       "      <td>0.0</td>\n",
       "      <td>1.0</td>\n",
       "      <td>1747</td>\n",
       "    </tr>\n",
       "    <tr>\n",
       "      <th>fonvizin-nedorosl</th>\n",
       "      <td>0.0</td>\n",
       "      <td>46.0</td>\n",
       "      <td>22.0</td>\n",
       "      <td>151.0</td>\n",
       "      <td>133.0</td>\n",
       "      <td>9.0</td>\n",
       "      <td>3.0</td>\n",
       "      <td>5.0</td>\n",
       "      <td>1782</td>\n",
       "    </tr>\n",
       "    <tr>\n",
       "      <th>krylov-urok-dochkam</th>\n",
       "      <td>0.0</td>\n",
       "      <td>21.0</td>\n",
       "      <td>11.0</td>\n",
       "      <td>73.0</td>\n",
       "      <td>45.0</td>\n",
       "      <td>0.0</td>\n",
       "      <td>2.0</td>\n",
       "      <td>1.0</td>\n",
       "      <td>1807</td>\n",
       "    </tr>\n",
       "    <tr>\n",
       "      <th>griboyedov-gore-ot-uma</th>\n",
       "      <td>3.0</td>\n",
       "      <td>39.0</td>\n",
       "      <td>29.0</td>\n",
       "      <td>83.0</td>\n",
       "      <td>61.0</td>\n",
       "      <td>0.0</td>\n",
       "      <td>9.0</td>\n",
       "      <td>0.0</td>\n",
       "      <td>1825</td>\n",
       "    </tr>\n",
       "    <tr>\n",
       "      <th>pushkin-boris-godunov</th>\n",
       "      <td>9.0</td>\n",
       "      <td>37.0</td>\n",
       "      <td>22.0</td>\n",
       "      <td>89.0</td>\n",
       "      <td>23.0</td>\n",
       "      <td>0.0</td>\n",
       "      <td>6.0</td>\n",
       "      <td>1.0</td>\n",
       "      <td>1831</td>\n",
       "    </tr>\n",
       "  </tbody>\n",
       "</table>\n",
       "</div>"
      ],
      "text/plain": [
       "                        setting  entrance  exit  business  delivery  modifier  \\\n",
       "play                                                                            \n",
       "sumarokov-horev             0.0      26.0   1.0       4.0       1.0       0.0   \n",
       "fonvizin-nedorosl           0.0      46.0  22.0     151.0     133.0       9.0   \n",
       "krylov-urok-dochkam         0.0      21.0  11.0      73.0      45.0       0.0   \n",
       "griboyedov-gore-ot-uma      3.0      39.0  29.0      83.0      61.0       0.0   \n",
       "pushkin-boris-godunov       9.0      37.0  22.0      89.0      23.0       0.0   \n",
       "\n",
       "                        location  unknown  year  \n",
       "play                                             \n",
       "sumarokov-horev              0.0      1.0  1747  \n",
       "fonvizin-nedorosl            3.0      5.0  1782  \n",
       "krylov-urok-dochkam          2.0      1.0  1807  \n",
       "griboyedov-gore-ot-uma       9.0      0.0  1825  \n",
       "pushkin-boris-godunov        6.0      1.0  1831  "
      ]
     },
     "execution_count": 97,
     "metadata": {},
     "output_type": "execute_result"
    }
   ],
   "source": [
    "df_types = df_types.sort_values(by=[\"year\"])\n",
    "df_types.head()"
   ]
  },
  {
   "cell_type": "code",
   "execution_count": 99,
   "metadata": {},
   "outputs": [
    {
     "data": {
      "text/plain": [
       "<matplotlib.axes._subplots.AxesSubplot at 0x11515d4a8>"
      ]
     },
     "execution_count": 99,
     "metadata": {},
     "output_type": "execute_result"
    },
    {
     "data": {
      "image/png": "[encoded data removed]",
      "text/plain": [
       "<Figure size 1152x432 with 1 Axes>"
      ]
     },
     "metadata": {
      "needs_background": "light"
     },
     "output_type": "display_data"
    }
   ],
   "source": [
    "df_types[direction_types].plot.bar(stacked=True, figsize=(16,6))"
   ]
  }
 ],
 "metadata": {
  "kernelspec": {
   "display_name": "Python 3",
   "language": "python",
   "name": "python3"
  },
  "language_info": {
   "codemirror_mode": {
    "name": "ipython",
    "version": 3
   },
   "file_extension": ".py",
   "mimetype": "text/x-python",
   "name": "python",
   "nbconvert_exporter": "python",
   "pygments_lexer": "ipython3",
   "version": "3.6.8"
  }
 },
 "nbformat": 4,
 "nbformat_minor": 2
}
