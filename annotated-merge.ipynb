{
 "cells": [
  {
   "cell_type": "markdown",
   "metadata": {},
   "source": [
    "# Annotated directions analysis"
   ]
  },
  {
   "cell_type": "code",
   "execution_count": 4,
   "metadata": {},
   "outputs": [],
   "source": [
    "import os\n",
    "import tqdm"
   ]
  },
  {
   "cell_type": "markdown",
   "metadata": {},
   "source": [
    "## 1 &emsp; Preparation\n",
    "\n",
    "Gathering paths to plays' `.csv` files and their IDs (which are basically author's name and play title):"
   ]
  },
  {
   "cell_type": "code",
   "execution_count": 5,
   "metadata": {},
   "outputs": [],
   "source": [
    "path_to_annot = \"./data/stage/annotated/\"\n",
    "plays_csv = [play_id for play_id in os.listdir(path_to_annot) if play_id != \".DS_Store\"]\n",
    "play_paths = [path_to_annot + play_id for play_id in plays_csv]\n",
    "play_ids = [play_csv[:-4] for play_csv in plays_csv]"
   ]
  },
  {
   "cell_type": "markdown",
   "metadata": {},
   "source": [
    "### 1.1 &emsp; Data not present in .csv\n",
    "\n",
    "Additional functions: adding year of the play and `play_id`:"
   ]
  },
  {
   "cell_type": "code",
   "execution_count": 6,
   "metadata": {},
   "outputs": [],
   "source": [
    "import requests\n",
    "import json"
   ]
  },
  {
   "cell_type": "markdown",
   "metadata": {},
   "source": [
    "Extracting **year of the play**, fetched from corpus metadata:"
   ]
  },
  {
   "cell_type": "code",
   "execution_count": 7,
   "metadata": {},
   "outputs": [],
   "source": [
    "request_link = \"https://dracor.org/api/corpora/rus/metadata\"\n",
    "response = requests.get(request_link)\n",
    "if response.status_code == 200:\n",
    "    play_metadata = response.json()"
   ]
  },
  {
   "cell_type": "code",
   "execution_count": 12,
   "metadata": {},
   "outputs": [],
   "source": [
    "def append_play_year(play_id, play_metadata):\n",
    "    \"\"\"Using metadata from DraCor API, extracts yearNormalized\n",
    "    for the play.\n",
    "    \n",
    "    Calculation of yearNormalized:\n",
    "    > if date_print and date_premiere:\n",
    "    >     yearNormalized = min(date_print, date_premiere)\n",
    "    > elif date_premiere:\n",
    "    >     yearNormalized = date_premiere\n",
    "    > else:\n",
    "    >     yearNormalized = date_print\n",
    "    > if date_written and yearNormalized:\n",
    "    >     if yearNormalized - date_written > 10:\n",
    "    >         yearNormalized = date_written\n",
    "    >     elif date_written and not yearNormalized:\n",
    "    >         yearNormalized = date_written\n",
    "    \n",
    "    :args play_id (str) — author's name and title of the play\n",
    "    play_metadata (json) — metadata for all the plays currently\n",
    "    present in the corpus\n",
    "    \n",
    "    :returns year (int) — normalized year of the play\n",
    "    \"\"\"\n",
    "    \n",
    "    for play in play_metadata:\n",
    "        if play[\"playName\"] == play_id:\n",
    "            year = int(play[\"yearNormalized\"])\n",
    "            break\n",
    "        else:\n",
    "            year = 0\n",
    "    if year == 0:\n",
    "        print(\"Couldn't retrieve year.\\n\\t- play: {}\\n\\t- status code: {} \\\n",
    "            \\n=> Returning 0\".format(play_id, response.status_code))\n",
    "    return year"
   ]
  },
  {
   "cell_type": "markdown",
   "metadata": {},
   "source": [
    "## 2 &emsp; Assembling everything together"
   ]
  },
  {
   "cell_type": "code",
   "execution_count": 15,
   "metadata": {},
   "outputs": [],
   "source": [
    "import pandas as pd"
   ]
  },
  {
   "cell_type": "code",
   "execution_count": 19,
   "metadata": {},
   "outputs": [],
   "source": [
    "def csv_to_full_df(play_id):\n",
    "    \"\"\"Converts .csv files for /data/stage/annotated into a \n",
    "    pd.DataFrame, then adds \n",
    "        (1) directions' origin, \n",
    "        (2) normalized year of the play (see append_play_year()).\n",
    "            \n",
    "    :args play_id (str) — author's name and title of the play\n",
    "    \n",
    "    :returns play_df (pd.DataFrame) — converted data of a single play\n",
    "    \"\"\"\n",
    "    \n",
    "    play_csv_path = \"./data/stage/annotated/{}.csv\".format(play_id)\n",
    "    play_df = pd.read_csv(play_csv_path, sep=\";\", encoding=\"utf-8\").fillna(0)\n",
    "    \n",
    "    # convert direction marks to categories\n",
    "    for dir_type in play_df.columns[1:]:\n",
    "        play_df[dir_type] = play_df[dir_type].astype(\"category\")\n",
    "    \n",
    "    # add play_id so that we know directions' origin\n",
    "    add_play_name = lambda play_id : play_id\n",
    "    play_df[\"play\"] = [add_play_name(play_id)] * len(play_df)\n",
    "    \n",
    "    # add yearNormalized\n",
    "    play_df[\"year\"] = [append_play_year(play_id, play_metadata)] * len(play_df)\n",
    "    \n",
    "    return play_df"
   ]
  },
  {
   "cell_type": "markdown",
   "metadata": {},
   "source": [
    "Demo check:"
   ]
  },
  {
   "cell_type": "code",
   "execution_count": 21,
   "metadata": {
    "scrolled": true
   },
   "outputs": [
    {
     "data": {
      "text/html": [
       "<div>\n",
       "<style scoped>\n",
       "    .dataframe tbody tr th:only-of-type {\n",
       "        vertical-align: middle;\n",
       "    }\n",
       "\n",
       "    .dataframe tbody tr th {\n",
       "        vertical-align: top;\n",
       "    }\n",
       "\n",
       "    .dataframe thead th {\n",
       "        text-align: right;\n",
       "    }\n",
       "</style>\n",
       "<table border=\"1\" class=\"dataframe\">\n",
       "  <thead>\n",
       "    <tr style=\"text-align: right;\">\n",
       "      <th></th>\n",
       "      <th>text</th>\n",
       "      <th>setting</th>\n",
       "      <th>entrance</th>\n",
       "      <th>exit</th>\n",
       "      <th>business</th>\n",
       "      <th>delivery</th>\n",
       "      <th>modifier</th>\n",
       "      <th>location</th>\n",
       "      <th>unknown</th>\n",
       "      <th>play</th>\n",
       "      <th>year</th>\n",
       "    </tr>\n",
       "  </thead>\n",
       "  <tbody>\n",
       "    <tr>\n",
       "      <th>0</th>\n",
       "      <td>Игроки, князь Звездич, Казарин и Шприх. За сто...</td>\n",
       "      <td>1.0</td>\n",
       "      <td>0.0</td>\n",
       "      <td>0.0</td>\n",
       "      <td>1.0</td>\n",
       "      <td>0.0</td>\n",
       "      <td>0.0</td>\n",
       "      <td>0.0</td>\n",
       "      <td>0.0</td>\n",
       "      <td>lermontov-maskarad</td>\n",
       "      <td>1842</td>\n",
       "    </tr>\n",
       "    <tr>\n",
       "      <th>1</th>\n",
       "      <td>(тихо первому)</td>\n",
       "      <td>0.0</td>\n",
       "      <td>0.0</td>\n",
       "      <td>0.0</td>\n",
       "      <td>0.0</td>\n",
       "      <td>1.0</td>\n",
       "      <td>0.0</td>\n",
       "      <td>0.0</td>\n",
       "      <td>0.0</td>\n",
       "      <td>lermontov-maskarad</td>\n",
       "      <td>1842</td>\n",
       "    </tr>\n",
       "    <tr>\n",
       "      <th>2</th>\n",
       "      <td>(насмешливо)</td>\n",
       "      <td>0.0</td>\n",
       "      <td>0.0</td>\n",
       "      <td>0.0</td>\n",
       "      <td>0.0</td>\n",
       "      <td>1.0</td>\n",
       "      <td>0.0</td>\n",
       "      <td>0.0</td>\n",
       "      <td>0.0</td>\n",
       "      <td>lermontov-maskarad</td>\n",
       "      <td>1842</td>\n",
       "    </tr>\n",
       "    <tr>\n",
       "      <th>3</th>\n",
       "      <td>(сквозь зубы, уходя)</td>\n",
       "      <td>0.0</td>\n",
       "      <td>0.0</td>\n",
       "      <td>1.0</td>\n",
       "      <td>0.0</td>\n",
       "      <td>1.0</td>\n",
       "      <td>0.0</td>\n",
       "      <td>0.0</td>\n",
       "      <td>0.0</td>\n",
       "      <td>lermontov-maskarad</td>\n",
       "      <td>1842</td>\n",
       "    </tr>\n",
       "    <tr>\n",
       "      <th>4</th>\n",
       "      <td>Князь, выпив стакан лимонаду, садится к сторон...</td>\n",
       "      <td>0.0</td>\n",
       "      <td>0.0</td>\n",
       "      <td>0.0</td>\n",
       "      <td>1.0</td>\n",
       "      <td>0.0</td>\n",
       "      <td>0.0</td>\n",
       "      <td>0.0</td>\n",
       "      <td>0.0</td>\n",
       "      <td>lermontov-maskarad</td>\n",
       "      <td>1842</td>\n",
       "    </tr>\n",
       "  </tbody>\n",
       "</table>\n",
       "</div>"
      ],
      "text/plain": [
       "                                                text setting entrance exit  \\\n",
       "0  Игроки, князь Звездич, Казарин и Шприх. За сто...     1.0      0.0  0.0   \n",
       "1                                     (тихо первому)     0.0      0.0  0.0   \n",
       "2                                       (насмешливо)     0.0      0.0  0.0   \n",
       "3                               (сквозь зубы, уходя)     0.0      0.0  1.0   \n",
       "4  Князь, выпив стакан лимонаду, садится к сторон...     0.0      0.0  0.0   \n",
       "\n",
       "  business delivery modifier location unknown                play  year  \n",
       "0      1.0      0.0      0.0      0.0     0.0  lermontov-maskarad  1842  \n",
       "1      0.0      1.0      0.0      0.0     0.0  lermontov-maskarad  1842  \n",
       "2      0.0      1.0      0.0      0.0     0.0  lermontov-maskarad  1842  \n",
       "3      0.0      1.0      0.0      0.0     0.0  lermontov-maskarad  1842  \n",
       "4      1.0      0.0      0.0      0.0     0.0  lermontov-maskarad  1842  "
      ]
     },
     "execution_count": 21,
     "metadata": {},
     "output_type": "execute_result"
    }
   ],
   "source": [
    "csv_to_full_df(\"lermontov-maskarad\").head()"
   ]
  },
  {
   "cell_type": "markdown",
   "metadata": {},
   "source": [
    "Concatenating all plays in a single dataset:"
   ]
  },
  {
   "cell_type": "code",
   "execution_count": 29,
   "metadata": {},
   "outputs": [],
   "source": [
    "df_total = pd.DataFrame(columns=[\"text\", \"setting\", \"entrance\", \"exit\", \"business\", \"delivery\", \n",
    "                                 \"modifier\", \"location\", \"unknown\", \"play\", \"year\"])"
   ]
  },
  {
   "cell_type": "code",
   "execution_count": 32,
   "metadata": {
    "scrolled": false
   },
   "outputs": [],
   "source": [
    "for play_id in play_ids:\n",
    "    play_df = csv_to_full_df(play_id)\n",
    "    df_total = pd.concat([df_total, play_df], ignore_index=True)\n",
    "    # except:\n",
    "    #   print(\"Error at play: {}\".format(play_id))"
   ]
  },
  {
   "cell_type": "markdown",
   "metadata": {},
   "source": [
    "Checking that everything is OK:"
   ]
  },
  {
   "cell_type": "code",
   "execution_count": 33,
   "metadata": {
    "scrolled": true
   },
   "outputs": [
    {
     "data": {
      "text/html": [
       "<div>\n",
       "<style scoped>\n",
       "    .dataframe tbody tr th:only-of-type {\n",
       "        vertical-align: middle;\n",
       "    }\n",
       "\n",
       "    .dataframe tbody tr th {\n",
       "        vertical-align: top;\n",
       "    }\n",
       "\n",
       "    .dataframe thead th {\n",
       "        text-align: right;\n",
       "    }\n",
       "</style>\n",
       "<table border=\"1\" class=\"dataframe\">\n",
       "  <thead>\n",
       "    <tr style=\"text-align: right;\">\n",
       "      <th></th>\n",
       "      <th>text</th>\n",
       "      <th>setting</th>\n",
       "      <th>entrance</th>\n",
       "      <th>exit</th>\n",
       "      <th>business</th>\n",
       "      <th>delivery</th>\n",
       "      <th>modifier</th>\n",
       "      <th>location</th>\n",
       "      <th>unknown</th>\n",
       "      <th>play</th>\n",
       "      <th>year</th>\n",
       "    </tr>\n",
       "  </thead>\n",
       "  <tbody>\n",
       "    <tr>\n",
       "      <th>0</th>\n",
       "      <td>Игроки, князь Звездич, Казарин и Шприх. За сто...</td>\n",
       "      <td>1</td>\n",
       "      <td>0</td>\n",
       "      <td>0</td>\n",
       "      <td>1</td>\n",
       "      <td>0</td>\n",
       "      <td>0</td>\n",
       "      <td>0</td>\n",
       "      <td>0</td>\n",
       "      <td>lermontov-maskarad</td>\n",
       "      <td>1842</td>\n",
       "    </tr>\n",
       "    <tr>\n",
       "      <th>1</th>\n",
       "      <td>(тихо первому)</td>\n",
       "      <td>0</td>\n",
       "      <td>0</td>\n",
       "      <td>0</td>\n",
       "      <td>0</td>\n",
       "      <td>1</td>\n",
       "      <td>0</td>\n",
       "      <td>0</td>\n",
       "      <td>0</td>\n",
       "      <td>lermontov-maskarad</td>\n",
       "      <td>1842</td>\n",
       "    </tr>\n",
       "    <tr>\n",
       "      <th>2</th>\n",
       "      <td>(насмешливо)</td>\n",
       "      <td>0</td>\n",
       "      <td>0</td>\n",
       "      <td>0</td>\n",
       "      <td>0</td>\n",
       "      <td>1</td>\n",
       "      <td>0</td>\n",
       "      <td>0</td>\n",
       "      <td>0</td>\n",
       "      <td>lermontov-maskarad</td>\n",
       "      <td>1842</td>\n",
       "    </tr>\n",
       "    <tr>\n",
       "      <th>3</th>\n",
       "      <td>(сквозь зубы, уходя)</td>\n",
       "      <td>0</td>\n",
       "      <td>0</td>\n",
       "      <td>1</td>\n",
       "      <td>0</td>\n",
       "      <td>1</td>\n",
       "      <td>0</td>\n",
       "      <td>0</td>\n",
       "      <td>0</td>\n",
       "      <td>lermontov-maskarad</td>\n",
       "      <td>1842</td>\n",
       "    </tr>\n",
       "    <tr>\n",
       "      <th>4</th>\n",
       "      <td>Князь, выпив стакан лимонаду, садится к сторон...</td>\n",
       "      <td>0</td>\n",
       "      <td>0</td>\n",
       "      <td>0</td>\n",
       "      <td>1</td>\n",
       "      <td>0</td>\n",
       "      <td>0</td>\n",
       "      <td>0</td>\n",
       "      <td>0</td>\n",
       "      <td>lermontov-maskarad</td>\n",
       "      <td>1842</td>\n",
       "    </tr>\n",
       "  </tbody>\n",
       "</table>\n",
       "</div>"
      ],
      "text/plain": [
       "                                                text setting entrance exit  \\\n",
       "0  Игроки, князь Звездич, Казарин и Шприх. За сто...       1        0    0   \n",
       "1                                     (тихо первому)       0        0    0   \n",
       "2                                       (насмешливо)       0        0    0   \n",
       "3                               (сквозь зубы, уходя)       0        0    1   \n",
       "4  Князь, выпив стакан лимонаду, садится к сторон...       0        0    0   \n",
       "\n",
       "  business delivery modifier location unknown                play  year  \n",
       "0        1        0        0        0       0  lermontov-maskarad  1842  \n",
       "1        0        1        0        0       0  lermontov-maskarad  1842  \n",
       "2        0        1        0        0       0  lermontov-maskarad  1842  \n",
       "3        0        1        0        0       0  lermontov-maskarad  1842  \n",
       "4        1        0        0        0       0  lermontov-maskarad  1842  "
      ]
     },
     "execution_count": 33,
     "metadata": {},
     "output_type": "execute_result"
    }
   ],
   "source": [
    "df_total.head()"
   ]
  },
  {
   "cell_type": "code",
   "execution_count": 42,
   "metadata": {},
   "outputs": [
    {
     "data": {
      "text/html": [
       "<div>\n",
       "<style scoped>\n",
       "    .dataframe tbody tr th:only-of-type {\n",
       "        vertical-align: middle;\n",
       "    }\n",
       "\n",
       "    .dataframe tbody tr th {\n",
       "        vertical-align: top;\n",
       "    }\n",
       "\n",
       "    .dataframe thead th {\n",
       "        text-align: right;\n",
       "    }\n",
       "</style>\n",
       "<table border=\"1\" class=\"dataframe\">\n",
       "  <thead>\n",
       "    <tr style=\"text-align: right;\">\n",
       "      <th></th>\n",
       "      <th>text</th>\n",
       "      <th>setting</th>\n",
       "      <th>entrance</th>\n",
       "      <th>exit</th>\n",
       "      <th>business</th>\n",
       "      <th>delivery</th>\n",
       "      <th>modifier</th>\n",
       "      <th>location</th>\n",
       "      <th>unknown</th>\n",
       "      <th>play</th>\n",
       "      <th>year</th>\n",
       "    </tr>\n",
       "  </thead>\n",
       "  <tbody>\n",
       "    <tr>\n",
       "      <th>401</th>\n",
       "      <td>Даша, Семен и потом Лиза.</td>\n",
       "      <td>0</td>\n",
       "      <td>1</td>\n",
       "      <td>0</td>\n",
       "      <td>0</td>\n",
       "      <td>0</td>\n",
       "      <td>0</td>\n",
       "      <td>0</td>\n",
       "      <td>0</td>\n",
       "      <td>krylov-urok-dochkam</td>\n",
       "      <td>1807</td>\n",
       "    </tr>\n",
       "    <tr>\n",
       "      <th>402</th>\n",
       "      <td>(выглядывая из другой комнаты.)</td>\n",
       "      <td>0</td>\n",
       "      <td>0</td>\n",
       "      <td>0</td>\n",
       "      <td>1</td>\n",
       "      <td>0</td>\n",
       "      <td>0</td>\n",
       "      <td>0</td>\n",
       "      <td>0</td>\n",
       "      <td>krylov-urok-dochkam</td>\n",
       "      <td>1807</td>\n",
       "    </tr>\n",
       "    <tr>\n",
       "      <th>403</th>\n",
       "      <td>(показываясь.)</td>\n",
       "      <td>0</td>\n",
       "      <td>0</td>\n",
       "      <td>0</td>\n",
       "      <td>1</td>\n",
       "      <td>0</td>\n",
       "      <td>0</td>\n",
       "      <td>0</td>\n",
       "      <td>0</td>\n",
       "      <td>krylov-urok-dochkam</td>\n",
       "      <td>1807</td>\n",
       "    </tr>\n",
       "    <tr>\n",
       "      <th>404</th>\n",
       "      <td>(Уходит.)</td>\n",
       "      <td>0</td>\n",
       "      <td>0</td>\n",
       "      <td>1</td>\n",
       "      <td>0</td>\n",
       "      <td>0</td>\n",
       "      <td>0</td>\n",
       "      <td>0</td>\n",
       "      <td>0</td>\n",
       "      <td>krylov-urok-dochkam</td>\n",
       "      <td>1807</td>\n",
       "    </tr>\n",
       "    <tr>\n",
       "      <th>405</th>\n",
       "      <td>(почесывая лоб.)</td>\n",
       "      <td>0</td>\n",
       "      <td>0</td>\n",
       "      <td>0</td>\n",
       "      <td>1</td>\n",
       "      <td>0</td>\n",
       "      <td>0</td>\n",
       "      <td>0</td>\n",
       "      <td>0</td>\n",
       "      <td>krylov-urok-dochkam</td>\n",
       "      <td>1807</td>\n",
       "    </tr>\n",
       "  </tbody>\n",
       "</table>\n",
       "</div>"
      ],
      "text/plain": [
       "                                text setting entrance exit business delivery  \\\n",
       "401        Даша, Семен и потом Лиза.       0        1    0        0        0   \n",
       "402  (выглядывая из другой комнаты.)       0        0    0        1        0   \n",
       "403                   (показываясь.)       0        0    0        1        0   \n",
       "404                        (Уходит.)       0        0    1        0        0   \n",
       "405                 (почесывая лоб.)       0        0    0        1        0   \n",
       "\n",
       "    modifier location unknown                 play  year  \n",
       "401        0        0       0  krylov-urok-dochkam  1807  \n",
       "402        0        0       0  krylov-urok-dochkam  1807  \n",
       "403        0        0       0  krylov-urok-dochkam  1807  \n",
       "404        0        0       0  krylov-urok-dochkam  1807  \n",
       "405        0        0       0  krylov-urok-dochkam  1807  "
      ]
     },
     "execution_count": 42,
     "metadata": {},
     "output_type": "execute_result"
    }
   ],
   "source": [
    "df_total[df_total[\"play\"] == \"krylov-urok-dochkam\"].head()"
   ]
  },
  {
   "cell_type": "code",
   "execution_count": 34,
   "metadata": {},
   "outputs": [
    {
     "data": {
      "text/plain": [
       "6541"
      ]
     },
     "execution_count": 34,
     "metadata": {},
     "output_type": "execute_result"
    }
   ],
   "source": [
    "len(df_total)"
   ]
  },
  {
   "cell_type": "code",
   "execution_count": 40,
   "metadata": {},
   "outputs": [
    {
     "data": {
      "text/plain": [
       "array(['lermontov-maskarad', 'krylov-urok-dochkam', 'tolstoy-tsar-boris',\n",
       "       'griboyedov-gore-ot-uma', 'chekhov-tri-sestry',\n",
       "       'ostrovsky-svoi-ljudi', 'chekhov-djadja-vanja',\n",
       "       'fonvizin-nedorosl', 'chekhov-chaika', 'sumarokov-horev',\n",
       "       'ostrovsky-bespridannitsa', 'chekhov-vishnevyi-sad',\n",
       "       'ostrovsky-les', 'tolstoy-zhivoy-trup', 'turgenev-holostjak',\n",
       "       'gogol-zhenitba', 'gogol-revizor', 'pushkin-boris-godunov'],\n",
       "      dtype=object)"
      ]
     },
     "execution_count": 40,
     "metadata": {},
     "output_type": "execute_result"
    }
   ],
   "source": [
    "df_total[\"play\"].unique()"
   ]
  },
  {
   "cell_type": "markdown",
   "metadata": {},
   "source": [
    "## 3 &emsp; Saving\n",
    "\n",
    "This data is raw — we haven't done any analysis yet. Nevertheless, it might be useful to save it for later research."
   ]
  },
  {
   "cell_type": "code",
   "execution_count": 43,
   "metadata": {},
   "outputs": [],
   "source": [
    "df_total.to_csv(\"./data/csv/annot_merged_raw.csv\", sep=\";\", encoding=\"utf-8\", index=False)"
   ]
  }
 ],
 "metadata": {
  "kernelspec": {
   "display_name": "Python 3",
   "language": "python",
   "name": "python3"
  },
  "language_info": {
   "codemirror_mode": {
    "name": "ipython",
    "version": 3
   },
   "file_extension": ".py",
   "mimetype": "text/x-python",
   "name": "python",
   "nbconvert_exporter": "python",
   "pygments_lexer": "ipython3",
   "version": "3.6.8"
  }
 },
 "nbformat": 4,
 "nbformat_minor": 2
}
