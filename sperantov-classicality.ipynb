{
 "cells": [
  {
   "cell_type": "markdown",
   "metadata": {},
   "source": [
    "# Measuring the \"classicality\" of RusDraCor plays\n",
    "\n",
    "Based on [Sperantov 1998](https://rvb.ru/philologica/05/05sperantov.htm)"
   ]
  },
  {
   "cell_type": "markdown",
   "metadata": {},
   "source": [
    "## Data preparation\n",
    "\n",
    "- plays in a corpus,\n",
    "\n",
    "- for each play in a corpus:\n",
    "\n",
    "    - year,\n",
    "    \n",
    "    - amount of `<stage>` entries,\n",
    "\n",
    "    - amount of `sp` entries,\n",
    "\n",
    "    - stage directions themselves"
   ]
  },
  {
   "cell_type": "code",
   "execution_count": 1,
   "metadata": {},
   "outputs": [],
   "source": [
    "import json\n",
    "import requests"
   ]
  },
  {
   "cell_type": "markdown",
   "metadata": {},
   "source": [
    "**Quantitative data** — titles and amounts:"
   ]
  },
  {
   "cell_type": "code",
   "execution_count": 2,
   "metadata": {},
   "outputs": [
    {
     "name": "stdout",
     "output_type": "stream",
     "text": [
      "141\n",
      "CPU times: user 44 ms, sys: 10.5 ms, total: 54.5 ms\n",
      "Wall time: 640 ms\n"
     ]
    }
   ],
   "source": [
    "%%time\n",
    "plays = []\n",
    "years = []\n",
    "\n",
    "corpus_response = requests.get(\"https://dracor.org/api/corpora/rus\")\n",
    "for play_json in corpus_response.json()[\"dramas\"]:\n",
    "    plays.append(play_json[\"id\"])\n",
    "    years.append(play_json[\"yearNormalized\"])\n",
    "print(len(plays))"
   ]
  },
  {
   "cell_type": "code",
   "execution_count": 3,
   "metadata": {},
   "outputs": [
    {
     "name": "stdout",
     "output_type": "stream",
     "text": [
      "141\n",
      "CPU times: user 4.14 s, sys: 265 ms, total: 4.4 s\n",
      "Wall time: 1min 1s\n"
     ]
    }
   ],
   "source": [
    "%%time\n",
    "# <stage> entries\n",
    "stage_counts = []\n",
    "\n",
    "for play in plays:\n",
    "    stage_response = requests.get(\"https://dracor.org/api/corpora/rus/play/{}/stage-directions\".format(play))\n",
    "    stage_count = len(stage_response.text.split(\"\\n\"))\n",
    "    stage_counts.append(stage_count)\n",
    "print(len(stage_counts))"
   ]
  },
  {
   "cell_type": "code",
   "execution_count": 4,
   "metadata": {
    "scrolled": true
   },
   "outputs": [
    {
     "name": "stdout",
     "output_type": "stream",
     "text": [
      "141\n",
      "CPU times: user 4.48 s, sys: 309 ms, total: 4.79 s\n",
      "Wall time: 1min 44s\n"
     ]
    }
   ],
   "source": [
    "%%time\n",
    "# <sp> entries\n",
    "sp_counts = []\n",
    "\n",
    "for play in plays:\n",
    "    sp_reponse = requests.get(\"https://dracor.org/api/corpora/rus/play/{}/spoken-text\".format(play))\n",
    "    sp_count = len(sp_reponse.text.split(\"\\n\"))\n",
    "    sp_counts.append(sp_count)\n",
    "print(len(sp_counts))"
   ]
  },
  {
   "cell_type": "markdown",
   "metadata": {},
   "source": [
    "Quick smoke test — is the data extracted properly?"
   ]
  },
  {
   "cell_type": "code",
   "execution_count": 5,
   "metadata": {
    "scrolled": true
   },
   "outputs": [
    {
     "name": "stdout",
     "output_type": "stream",
     "text": [
      "Play: andreyev-ne-ubiy\n",
      "\tyear: 1913\n",
      "\tstage: 341\n",
      "\tsp: 972\n",
      "Play: andreyev-mysl\n",
      "\tyear: 1914\n",
      "\tstage: 233\n",
      "\tsp: 667\n",
      "Play: babel-zakat\n",
      "\tyear: 1927\n",
      "\tstage: 293\n",
      "\tsp: 658\n",
      "Play: babel-marija\n",
      "\tyear: 1935\n",
      "\tstage: 137\n",
      "\tsp: 595\n",
      "Play: blok-korol-na-ploschadi\n",
      "\tyear: 1907\n",
      "\tstage: 133\n",
      "\tsp: 414\n"
     ]
    }
   ],
   "source": [
    "for i, play in enumerate(plays[:5]):\n",
    "    print(\"Play: {}\\n\\tyear: {}\\n\\tstage: {}\\n\\tsp: {}\".format(play, years[i], stage_counts[i], sp_counts[i]))"
   ]
  },
  {
   "cell_type": "markdown",
   "metadata": {},
   "source": [
    "*(looks like it is)*"
   ]
  },
  {
   "cell_type": "markdown",
   "metadata": {},
   "source": [
    "Moving on to **linguistic data** — stage directions. They will be stored at `./data/stage/raw`."
   ]
  },
  {
   "cell_type": "code",
   "execution_count": 6,
   "metadata": {},
   "outputs": [],
   "source": [
    "import os"
   ]
  },
  {
   "cell_type": "code",
   "execution_count": 7,
   "metadata": {},
   "outputs": [],
   "source": [
    "stage_raw_path = \"./data/stage/raw\"\n",
    "\n",
    "if not os.path.exists(stage_raw_path):\n",
    "    os.mkdir(stage_raw_path)"
   ]
  },
  {
   "cell_type": "markdown",
   "metadata": {},
   "source": [
    "Actually, I used the very same API request when counting the amount of stage directions in a play, but in order to make the notebook more straight-forward and easy to read, let's do this again:"
   ]
  },
  {
   "cell_type": "code",
   "execution_count": 8,
   "metadata": {
    "scrolled": true
   },
   "outputs": [],
   "source": [
    "# %%time\n",
    "# for play in plays:\n",
    "#     stage_response = requests.get(\"https://dracor.org/api/corpora/rus/play/{}/stage-directions\".format(play))\n",
    "#     play_stage_text = stage_response.text\n",
    "#     play_stage_path = os.path.join(stage_raw_path, play+\".txt\")\n",
    "#     with open(play_stage_path, \"w\", encoding=\"utf-8\") as play_stage_file:\n",
    "#         play_stage_file.write(play_stage_text)"
   ]
  },
  {
   "cell_type": "markdown",
   "metadata": {},
   "source": [
    "When running the notebook more than once, skip this cell due to the fact that you already have the directions.\n",
    "\n",
    "I won't keep the directions' lists all the time in a Python list due to memory issues."
   ]
  },
  {
   "cell_type": "markdown",
   "metadata": {},
   "source": [
    "#### Side note:\n",
    "to convert everything into a dataframe later, everything will be stored as a dictionary."
   ]
  },
  {
   "cell_type": "code",
   "execution_count": 9,
   "metadata": {},
   "outputs": [],
   "source": [
    "aggregated_plays_dict = {\n",
    "    \"play\": plays,\n",
    "    \"year\": years,\n",
    "    \"sp\": sp_counts,\n",
    "    \"stage\": stage_counts\n",
    "}"
   ]
  },
  {
   "cell_type": "markdown",
   "metadata": {},
   "source": [
    "## Metric 1: &emsp; Stage directions' density\n",
    "\n",
    "**Question:** How frequently stage directions occur in a given play?\n",
    "\n",
    "**Originally calculated as:** $P = (n/N)\\times100$\n",
    "\n",
    "$P$ — density coefficient,\n",
    "\n",
    "$n$ — number of stage directions in a text,\n",
    "\n",
    "$N$ — number of verses\n",
    "\n",
    "**Adaptation:** take $N$ as a number of preformance texts, tagged by `<sp>` tag (see [TEI-P5](http://www.tei-c.org/release/doc/tei-p5-doc/en/html/ref-sp.html) `<sp>` description: *an individual speech in a performance text, or a passage presented as such in a prose or verse text*)."
   ]
  },
  {
   "cell_type": "code",
   "execution_count": 10,
   "metadata": {},
   "outputs": [],
   "source": [
    "p_metric = []\n",
    "for i, stage_num in enumerate(stage_counts):\n",
    "    sp_num = sp_counts[i]\n",
    "    p = stage_num/sp_num*100\n",
    "    p_metric.append(p)"
   ]
  },
  {
   "cell_type": "code",
   "execution_count": 11,
   "metadata": {},
   "outputs": [],
   "source": [
    "aggregated_plays_dict[\"P\"] = p_metric"
   ]
  },
  {
   "cell_type": "markdown",
   "metadata": {},
   "source": [
    "Check for presence of `P`:"
   ]
  },
  {
   "cell_type": "code",
   "execution_count": 12,
   "metadata": {
    "scrolled": true
   },
   "outputs": [
    {
     "data": {
      "text/plain": [
       "dict_keys(['play', 'year', 'sp', 'stage', 'P'])"
      ]
     },
     "execution_count": 12,
     "metadata": {},
     "output_type": "execute_result"
    }
   ],
   "source": [
    "aggregated_plays_dict.keys()"
   ]
  },
  {
   "cell_type": "markdown",
   "metadata": {},
   "source": [
    "## Metric 2: &emsp; Average stage direction length\n",
    "\n",
    "**Question:** how many words does an average stage direction comprise?\n",
    "\n",
    "**Originally calculated as:** $S=L/n$\n",
    "\n",
    "$L$ — wordform count,\n",
    "\n",
    "$n$ — stage directions count\n",
    "\n",
    "**Adaptation:** \n",
    "\n",
    "(a) in this case, assume that wordforms = tokens; \n",
    "\n",
    "(b) morphology analysis is performed via Mystem"
   ]
  },
  {
   "cell_type": "code",
   "execution_count": 13,
   "metadata": {},
   "outputs": [],
   "source": [
    "from pymystem3 import Mystem"
   ]
  },
  {
   "cell_type": "code",
   "execution_count": 14,
   "metadata": {},
   "outputs": [],
   "source": [
    "mystem = Mystem()"
   ]
  },
  {
   "cell_type": "code",
   "execution_count": 15,
   "metadata": {},
   "outputs": [],
   "source": [
    "def add_wordforms(stage_line, mystem, wordform_count):\n",
    "    words_analyzed = mystem.analyze(stage_line)\n",
    "    for analysis in words_analyzed:\n",
    "        if analysis.get(\"analysis\"):\n",
    "            wordform_count += 1\n",
    "    return wordform_count"
   ]
  },
  {
   "cell_type": "code",
   "execution_count": 16,
   "metadata": {},
   "outputs": [],
   "source": [
    "l_metric = []\n",
    "\n",
    "for play in plays:\n",
    "    stage_count = 0\n",
    "    wordform_count = 0\n",
    "    stage_play_raw = os.path.join(\"./data/stage/raw\", play+\".txt\")\n",
    "    with open(stage_play_raw, \"r\", encoding=\"utf-8\") as stage_raw_file:\n",
    "        play_stage_list = [line.strip(\"\\n\") for line in stage_raw_file.readlines()]\n",
    "    for play_stage in play_stage_list:\n",
    "        wordform_count = add_wordforms(play_stage, mystem, wordform_count)\n",
    "        stage_count += 1\n",
    "    l = wordform_count/stage_count\n",
    "    l_metric.append(l)"
   ]
  },
  {
   "cell_type": "code",
   "execution_count": 17,
   "metadata": {},
   "outputs": [],
   "source": [
    "aggregated_plays_dict[\"L\"] = l_metric"
   ]
  },
  {
   "cell_type": "markdown",
   "metadata": {},
   "source": [
    "## Metric 3: &emsp; Lexical variety\n",
    "\n",
    "**Question:** to what extent is the vocabulary of the given play rich?\n",
    "\n",
    "**Originally calculated as:** $V=l/L$\n",
    "\n",
    "$l$ — lemmas amount\n",
    "\n",
    "$L$ — wordforms amount\n",
    "\n",
    "**Adaptation:** it wasn't stated in a clear manner, but it seems as if both parameters should only include *unique* items (i.e., unique lemmas and unique wordforms)."
   ]
  },
  {
   "cell_type": "code",
   "execution_count": 18,
   "metadata": {},
   "outputs": [],
   "source": [
    "def add_unique_lemmas(stage_line, mystem, lemmas_set):\n",
    "    words_analyzed = mystem.analyze(stage_line)\n",
    "    for parse in words_analyzed:\n",
    "        if parse.get(\"analysis\"):\n",
    "            lemma = parse[\"analysis\"][0][\"lex\"]\n",
    "            lemmas_set.add(lemma)\n",
    "    return lemmas_set"
   ]
  },
  {
   "cell_type": "code",
   "execution_count": 19,
   "metadata": {},
   "outputs": [],
   "source": [
    "def add_unique_wordforms(stage_line, mystem, wordforms_set):\n",
    "    words_analyzed = mystem.analyze(stage_line)\n",
    "    for parse in words_analyzed:\n",
    "        if parse.get(\"analysis\"):\n",
    "            wf = parse[\"text\"]\n",
    "            wordforms_set.add(wf)\n",
    "    return wordforms_set"
   ]
  },
  {
   "cell_type": "code",
   "execution_count": 20,
   "metadata": {
    "scrolled": true
   },
   "outputs": [],
   "source": [
    "v_metric = []\n",
    "\n",
    "for play in plays:\n",
    "    lemmas = set()\n",
    "    wordforms = set()\n",
    "    \n",
    "    stage_play_raw = os.path.join(\"./data/stage/raw\", play+\".txt\")\n",
    "    with open(stage_play_raw, \"r\", encoding=\"utf-8\") as stage_raw_file:\n",
    "        play_stage_list = [line.strip(\"\\n\") for line in stage_raw_file.readlines()]\n",
    "\n",
    "    for play_stage in play_stage_list:\n",
    "        lemmas = add_unique_lemmas(play_stage, mystem, lemmas)\n",
    "        wordforms = add_unique_wordforms(play_stage, mystem, wordforms)\n",
    "        v = len(lemmas)/len(wordforms)\n",
    "    v_metric.append(v)"
   ]
  },
  {
   "cell_type": "code",
   "execution_count": 21,
   "metadata": {},
   "outputs": [],
   "source": [
    "aggregated_plays_dict[\"V\"] = v_metric"
   ]
  },
  {
   "cell_type": "markdown",
   "metadata": {},
   "source": [
    "## Normalizing the metrics\n",
    "\n",
    "To be able to compare the metrics (i.e. makes them comparable between each other), normalization is required. Formula introduced by Sperantov is the following:\n",
    "\n",
    "$$n' = \\frac{n-n_{min}}{n_{max}-n_{min}}\\times100%$$\n",
    "\n",
    "$n$ stands for each metric calculated before. After normalization, all the values of a specific metric should belong to the interval $[0..100]$."
   ]
  },
  {
   "cell_type": "code",
   "execution_count": 22,
   "metadata": {},
   "outputs": [],
   "source": [
    "def normalize_metric(n_list):\n",
    "    n_max = max(n_list)\n",
    "    n_min = min(n_list)\n",
    "    n_normalized = []\n",
    "    for n in n_list:\n",
    "        n_norm = (n-n_min)/(n_max-n_min)*100\n",
    "        n_normalized.append(n_norm)\n",
    "    return n_normalized"
   ]
  },
  {
   "cell_type": "code",
   "execution_count": 23,
   "metadata": {
    "scrolled": true
   },
   "outputs": [
    {
     "name": "stdout",
     "output_type": "stream",
     "text": [
      "L normalized: max=100.0, min=0.0\n"
     ]
    }
   ],
   "source": [
    "l_norm = normalize_metric(l_metric)\n",
    "print(\"L normalized: max={}, min={}\".format(max(l_norm), min(l_norm)))"
   ]
  },
  {
   "cell_type": "code",
   "execution_count": 24,
   "metadata": {},
   "outputs": [
    {
     "name": "stdout",
     "output_type": "stream",
     "text": [
      "P normalized: max=100.0, min=0.0\n"
     ]
    }
   ],
   "source": [
    "p_norm = normalize_metric(p_metric)\n",
    "print(\"P normalized: max={}, min={}\".format(max(p_norm), min(p_norm)))"
   ]
  },
  {
   "cell_type": "code",
   "execution_count": 25,
   "metadata": {},
   "outputs": [
    {
     "name": "stdout",
     "output_type": "stream",
     "text": [
      "V normalized: max=100.0, min=0.0\n"
     ]
    }
   ],
   "source": [
    "v_norm = normalize_metric(v_metric)\n",
    "print(\"V normalized: max={}, min={}\".format(max(v_norm), min(v_norm)))"
   ]
  },
  {
   "cell_type": "markdown",
   "metadata": {},
   "source": [
    "Original data is not used further; instead, it is replaced by normalized values."
   ]
  },
  {
   "cell_type": "code",
   "execution_count": 26,
   "metadata": {},
   "outputs": [],
   "source": [
    "aggregated_plays_dict[\"L\"] = l_norm\n",
    "aggregated_plays_dict[\"V\"] = v_norm\n",
    "aggregated_plays_dict[\"P\"] = p_norm"
   ]
  },
  {
   "cell_type": "markdown",
   "metadata": {},
   "source": [
    "## Goal metric: *classicality*\n",
    "\n",
    "When speaking of **classicality**, Sperantov indicates that this metric shows to what extent classic playwriting features, canon, and peculiarities are present."
   ]
  },
  {
   "cell_type": "code",
   "execution_count": 29,
   "metadata": {},
   "outputs": [],
   "source": [
    "def calculate_classicality(l, v, p):\n",
    "    return (l+v+p)/3"
   ]
  },
  {
   "cell_type": "code",
   "execution_count": 30,
   "metadata": {},
   "outputs": [],
   "source": [
    "classicality_metric = []\n",
    "for i, play in enumerate(plays):\n",
    "    cls = calculate_classicality(l_metric[i], v_metric[i], p_metric[i])\n",
    "    classicality_metric.append(cls)\n",
    "aggregated_plays_dict[\"Classicality\"] = classicality_metric"
   ]
  },
  {
   "cell_type": "code",
   "execution_count": 33,
   "metadata": {},
   "outputs": [
    {
     "name": "stdout",
     "output_type": "stream",
     "text": [
      "Classicality max=37.16347103147648, min=2.2507097651860177\n"
     ]
    }
   ],
   "source": [
    "print(\"Classicality max={}, min={}\".format(max(classicality_metric), min(classicality_metric)))"
   ]
  },
  {
   "cell_type": "markdown",
   "metadata": {},
   "source": [
    "## Getting the data together: dataframe"
   ]
  },
  {
   "cell_type": "code",
   "execution_count": 31,
   "metadata": {},
   "outputs": [],
   "source": [
    "import pandas as pd"
   ]
  },
  {
   "cell_type": "code",
   "execution_count": 32,
   "metadata": {
    "scrolled": false
   },
   "outputs": [
    {
     "data": {
      "text/html": [
       "<div>\n",
       "<style scoped>\n",
       "    .dataframe tbody tr th:only-of-type {\n",
       "        vertical-align: middle;\n",
       "    }\n",
       "\n",
       "    .dataframe tbody tr th {\n",
       "        vertical-align: top;\n",
       "    }\n",
       "\n",
       "    .dataframe thead th {\n",
       "        text-align: right;\n",
       "    }\n",
       "</style>\n",
       "<table border=\"1\" class=\"dataframe\">\n",
       "  <thead>\n",
       "    <tr style=\"text-align: right;\">\n",
       "      <th></th>\n",
       "      <th>play</th>\n",
       "      <th>year</th>\n",
       "      <th>sp</th>\n",
       "      <th>stage</th>\n",
       "      <th>P</th>\n",
       "      <th>L</th>\n",
       "      <th>V</th>\n",
       "      <th>Classicality</th>\n",
       "    </tr>\n",
       "  </thead>\n",
       "  <tbody>\n",
       "    <tr>\n",
       "      <th>0</th>\n",
       "      <td>andreyev-ne-ubiy</td>\n",
       "      <td>1913</td>\n",
       "      <td>972</td>\n",
       "      <td>341</td>\n",
       "      <td>30.995093</td>\n",
       "      <td>34.293643</td>\n",
       "      <td>21.636029</td>\n",
       "      <td>14.989895</td>\n",
       "    </tr>\n",
       "    <tr>\n",
       "      <th>1</th>\n",
       "      <td>andreyev-mysl</td>\n",
       "      <td>1914</td>\n",
       "      <td>667</td>\n",
       "      <td>233</td>\n",
       "      <td>30.852307</td>\n",
       "      <td>30.894992</td>\n",
       "      <td>18.867388</td>\n",
       "      <td>14.702793</td>\n",
       "    </tr>\n",
       "    <tr>\n",
       "      <th>2</th>\n",
       "      <td>babel-zakat</td>\n",
       "      <td>1927</td>\n",
       "      <td>658</td>\n",
       "      <td>293</td>\n",
       "      <td>40.001121</td>\n",
       "      <td>30.715635</td>\n",
       "      <td>28.864571</td>\n",
       "      <td>17.901761</td>\n",
       "    </tr>\n",
       "    <tr>\n",
       "      <th>3</th>\n",
       "      <td>babel-marija</td>\n",
       "      <td>1935</td>\n",
       "      <td>595</td>\n",
       "      <td>137</td>\n",
       "      <td>19.500284</td>\n",
       "      <td>30.157126</td>\n",
       "      <td>36.347854</td>\n",
       "      <td>10.704839</td>\n",
       "    </tr>\n",
       "    <tr>\n",
       "      <th>4</th>\n",
       "      <td>blok-korol-na-ploschadi</td>\n",
       "      <td>1907</td>\n",
       "      <td>414</td>\n",
       "      <td>133</td>\n",
       "      <td>28.176279</td>\n",
       "      <td>50.214123</td>\n",
       "      <td>20.552878</td>\n",
       "      <td>15.097754</td>\n",
       "    </tr>\n",
       "  </tbody>\n",
       "</table>\n",
       "</div>"
      ],
      "text/plain": [
       "                      play  year   sp  stage          P          L          V  \\\n",
       "0         andreyev-ne-ubiy  1913  972    341  30.995093  34.293643  21.636029   \n",
       "1            andreyev-mysl  1914  667    233  30.852307  30.894992  18.867388   \n",
       "2              babel-zakat  1927  658    293  40.001121  30.715635  28.864571   \n",
       "3             babel-marija  1935  595    137  19.500284  30.157126  36.347854   \n",
       "4  blok-korol-na-ploschadi  1907  414    133  28.176279  50.214123  20.552878   \n",
       "\n",
       "   Classicality  \n",
       "0     14.989895  \n",
       "1     14.702793  \n",
       "2     17.901761  \n",
       "3     10.704839  \n",
       "4     15.097754  "
      ]
     },
     "execution_count": 32,
     "metadata": {},
     "output_type": "execute_result"
    }
   ],
   "source": [
    "df = pd.DataFrame.from_dict(aggregated_plays_dict)\n",
    "df.head()"
   ]
  },
  {
   "cell_type": "markdown",
   "metadata": {},
   "source": [
    "## Play types based on classicality"
   ]
  },
  {
   "cell_type": "markdown",
   "metadata": {},
   "source": [
    "Sperantov classifies the plays in a following manner:\n",
    "\n",
    "|**Classicality**|      **Type**     |            **Description**             |\n",
    "|:---------------|:------------------|:---------------------------------------|\n",
    "|2–10%           |classic            |follow the canon with maximum precision |\n",
    "|10–20%          |minor retreat      |follow the canon with minor changes     |\n",
    "|20–45%          |significant retreat|depart from canon in a dramatic way     |\n",
    "|50–75%          |not classic        |subverting the canon and throwing it off|"
   ]
  },
  {
   "cell_type": "code",
   "execution_count": 34,
   "metadata": {},
   "outputs": [],
   "source": [
    "def get_type(play_cls):\n",
    "    if play_cls > 2 and play_cls < 10:\n",
    "        play_type = \"classic\"\n",
    "    elif play_cls >= 10 and play_cls < 20:\n",
    "        play_type = \"minor_retreat\"\n",
    "    elif play_cls >= 20 and play_cls < 45:\n",
    "        play_type = \"significant_retreat\"\n",
    "    elif play_cls >= 50:\n",
    "        play_type = \"non_classic\"\n",
    "    return play_type"
   ]
  },
  {
   "cell_type": "code",
   "execution_count": 36,
   "metadata": {
    "scrolled": true
   },
   "outputs": [
    {
     "data": {
      "text/html": [
       "<div>\n",
       "<style scoped>\n",
       "    .dataframe tbody tr th:only-of-type {\n",
       "        vertical-align: middle;\n",
       "    }\n",
       "\n",
       "    .dataframe tbody tr th {\n",
       "        vertical-align: top;\n",
       "    }\n",
       "\n",
       "    .dataframe thead th {\n",
       "        text-align: right;\n",
       "    }\n",
       "</style>\n",
       "<table border=\"1\" class=\"dataframe\">\n",
       "  <thead>\n",
       "    <tr style=\"text-align: right;\">\n",
       "      <th></th>\n",
       "      <th>play</th>\n",
       "      <th>year</th>\n",
       "      <th>sp</th>\n",
       "      <th>stage</th>\n",
       "      <th>P</th>\n",
       "      <th>L</th>\n",
       "      <th>V</th>\n",
       "      <th>Classicality</th>\n",
       "      <th>Type</th>\n",
       "    </tr>\n",
       "  </thead>\n",
       "  <tbody>\n",
       "    <tr>\n",
       "      <th>0</th>\n",
       "      <td>andreyev-ne-ubiy</td>\n",
       "      <td>1913</td>\n",
       "      <td>972</td>\n",
       "      <td>341</td>\n",
       "      <td>30.995093</td>\n",
       "      <td>34.293643</td>\n",
       "      <td>21.636029</td>\n",
       "      <td>14.989895</td>\n",
       "      <td>minor_retreat</td>\n",
       "    </tr>\n",
       "    <tr>\n",
       "      <th>1</th>\n",
       "      <td>andreyev-mysl</td>\n",
       "      <td>1914</td>\n",
       "      <td>667</td>\n",
       "      <td>233</td>\n",
       "      <td>30.852307</td>\n",
       "      <td>30.894992</td>\n",
       "      <td>18.867388</td>\n",
       "      <td>14.702793</td>\n",
       "      <td>minor_retreat</td>\n",
       "    </tr>\n",
       "    <tr>\n",
       "      <th>2</th>\n",
       "      <td>babel-zakat</td>\n",
       "      <td>1927</td>\n",
       "      <td>658</td>\n",
       "      <td>293</td>\n",
       "      <td>40.001121</td>\n",
       "      <td>30.715635</td>\n",
       "      <td>28.864571</td>\n",
       "      <td>17.901761</td>\n",
       "      <td>minor_retreat</td>\n",
       "    </tr>\n",
       "    <tr>\n",
       "      <th>3</th>\n",
       "      <td>babel-marija</td>\n",
       "      <td>1935</td>\n",
       "      <td>595</td>\n",
       "      <td>137</td>\n",
       "      <td>19.500284</td>\n",
       "      <td>30.157126</td>\n",
       "      <td>36.347854</td>\n",
       "      <td>10.704839</td>\n",
       "      <td>minor_retreat</td>\n",
       "    </tr>\n",
       "    <tr>\n",
       "      <th>4</th>\n",
       "      <td>blok-korol-na-ploschadi</td>\n",
       "      <td>1907</td>\n",
       "      <td>414</td>\n",
       "      <td>133</td>\n",
       "      <td>28.176279</td>\n",
       "      <td>50.214123</td>\n",
       "      <td>20.552878</td>\n",
       "      <td>15.097754</td>\n",
       "      <td>minor_retreat</td>\n",
       "    </tr>\n",
       "  </tbody>\n",
       "</table>\n",
       "</div>"
      ],
      "text/plain": [
       "                      play  year   sp  stage          P          L          V  \\\n",
       "0         andreyev-ne-ubiy  1913  972    341  30.995093  34.293643  21.636029   \n",
       "1            andreyev-mysl  1914  667    233  30.852307  30.894992  18.867388   \n",
       "2              babel-zakat  1927  658    293  40.001121  30.715635  28.864571   \n",
       "3             babel-marija  1935  595    137  19.500284  30.157126  36.347854   \n",
       "4  blok-korol-na-ploschadi  1907  414    133  28.176279  50.214123  20.552878   \n",
       "\n",
       "   Classicality           Type  \n",
       "0     14.989895  minor_retreat  \n",
       "1     14.702793  minor_retreat  \n",
       "2     17.901761  minor_retreat  \n",
       "3     10.704839  minor_retreat  \n",
       "4     15.097754  minor_retreat  "
      ]
     },
     "execution_count": 36,
     "metadata": {},
     "output_type": "execute_result"
    }
   ],
   "source": [
    "df[\"Type\"] = df[\"Classicality\"].apply(get_type)\n",
    "df.head()"
   ]
  },
  {
   "cell_type": "markdown",
   "metadata": {},
   "source": [
    "General type distribution looks like this:"
   ]
  },
  {
   "cell_type": "code",
   "execution_count": 42,
   "metadata": {
    "scrolled": false
   },
   "outputs": [
    {
     "data": {
      "text/plain": [
       "classic                63\n",
       "minor_retreat          51\n",
       "significant_retreat    27\n",
       "Name: Type, dtype: int64"
      ]
     },
     "execution_count": 42,
     "metadata": {},
     "output_type": "execute_result"
    }
   ],
   "source": [
    "df[\"Type\"].value_counts()"
   ]
  }
 ],
 "metadata": {
  "kernelspec": {
   "display_name": "Python 3",
   "language": "python",
   "name": "python3"
  },
  "language_info": {
   "codemirror_mode": {
    "name": "ipython",
    "version": 3
   },
   "file_extension": ".py",
   "mimetype": "text/x-python",
   "name": "python",
   "nbconvert_exporter": "python",
   "pygments_lexer": "ipython3",
   "version": "3.7.1"
  }
 },
 "nbformat": 4,
 "nbformat_minor": 2
}
