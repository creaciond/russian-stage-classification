{
 "cells": [
  {
   "cell_type": "markdown",
   "metadata": {},
   "source": [
    "# Semantic features"
   ]
  },
  {
   "cell_type": "markdown",
   "metadata": {},
   "source": [
    "## Hypotheses\n",
    "\n",
    "We might be able to use a rule-based word2vec model to:\n",
    "\n",
    "1. distinguish entrance and exit,\n",
    "\n",
    "2. distinguish entrance/exit vs. everything else. "
   ]
  },
  {
   "cell_type": "markdown",
   "metadata": {},
   "source": [
    "## 1 &emsp; Preparing the data\n",
    "\n",
    "### 1.1 &ensp; Vector model selection\n",
    "\n",
    "We will be using *CBOW* as it focuses more on the context than on the word itself, i.e. verbs for entrance and exit may be different, yet their contexts might be more or less the same.\n",
    "\n",
    "Models are taken from [https://rusvectores.org/ru/models/](rusvectores.org)."
   ]
  },
  {
   "cell_type": "code",
   "execution_count": 1,
   "metadata": {},
   "outputs": [],
   "source": [
    "import gensim\n",
    "import warnings"
   ]
  },
  {
   "cell_type": "code",
   "execution_count": 2,
   "metadata": {},
   "outputs": [],
   "source": [
    "warnings.simplefilter(\"ignore\")"
   ]
  },
  {
   "cell_type": "markdown",
   "metadata": {},
   "source": [
    "**Option A: tagged CBOW**\n",
    "\n",
    "* Trained on: Russian National Corpus\n",
    "\n",
    "* Vocabulary: 270 000 000 tokens, 189 183 unique\n",
    "\n",
    "* Tagset: Universal Tags (see UD tagset)\n",
    "\n",
    "* min Frequency: 5\n",
    "\n",
    "* Vector size: 300"
   ]
  },
  {
   "cell_type": "code",
   "execution_count": 3,
   "metadata": {},
   "outputs": [],
   "source": [
    "import wget\n",
    "import zipfile"
   ]
  },
  {
   "cell_type": "code",
   "execution_count": 4,
   "metadata": {},
   "outputs": [],
   "source": [
    "model_path = \"./data/models/180.zip\"\n",
    "with zipfile.ZipFile(model_path, \"r\") as archive:\n",
    "    stream = archive.open(\"model.bin\")\n",
    "    model_continious = gensim.models.KeyedVectors.load_word2vec_format(stream, binary=True)"
   ]
  },
  {
   "cell_type": "code",
   "execution_count": 5,
   "metadata": {
    "scrolled": true
   },
   "outputs": [
    {
     "data": {
      "text/plain": [
       "[('войти_VERB', 0.760601818561554),\n",
       " ('воходить_VERB', 0.5944163799285889),\n",
       " ('вбежать_VERB', 0.5676171183586121),\n",
       " ('выходить_VERB', 0.5533232688903809),\n",
       " ('войти_NOUN', 0.5268169045448303),\n",
       " ('вплыть_VERB', 0.520382285118103),\n",
       " ('вбегать_VERB', 0.5187638401985168),\n",
       " ('вводить_VERB', 0.5162067413330078),\n",
       " ('вваливаться_VERB', 0.5069583654403687),\n",
       " ('включать_VERB', 0.5045877695083618)]"
      ]
     },
     "execution_count": 5,
     "metadata": {},
     "output_type": "execute_result"
    }
   ],
   "source": [
    "model_continious.most_similar(\"входить_VERB\")"
   ]
  },
  {
   "cell_type": "markdown",
   "metadata": {},
   "source": [
    "**Option 2: FastText untagged CBOW**\n",
    "\n",
    "* Trained on: Araneum Russian\n",
    "\n",
    "* Vocabulary: approx 10 billion, 195 782 unique\n",
    "\n",
    "* Tagset: none\n",
    "\n",
    "* min Frequency: 5\n",
    "\n",
    "* Vector size: 400"
   ]
  },
  {
   "cell_type": "code",
   "execution_count": 6,
   "metadata": {},
   "outputs": [],
   "source": [
    "path_to_fasttext = \"./data/models/araneum_none_fasttextcbow_300_5_2018/araneum_none_fasttextcbow_300_5_2018.model\"\n",
    "model_fasttext = gensim.models.KeyedVectors.load(path_to_fasttext)"
   ]
  },
  {
   "cell_type": "code",
   "execution_count": 7,
   "metadata": {
    "scrolled": true
   },
   "outputs": [
    {
     "data": {
      "text/plain": [
       "[('привходить', 0.868297815322876),\n",
       " ('включать', 0.7789416313171387),\n",
       " ('включаться', 0.7182040810585022),\n",
       " ('дреходить', 0.7058184146881104),\n",
       " ('произходить', 0.6974779963493347),\n",
       " ('бреходить', 0.6909902691841125),\n",
       " ('вляться', 0.6862760782241821),\n",
       " ('включаеться', 0.6861984729766846),\n",
       " ('влючать', 0.6828867197036743),\n",
       " ('всовываться', 0.679784893989563)]"
      ]
     },
     "execution_count": 7,
     "metadata": {},
     "output_type": "execute_result"
    }
   ],
   "source": [
    "model_fasttext.most_similar(\"входить\")"
   ]
  },
  {
   "cell_type": "markdown",
   "metadata": {},
   "source": [
    "**Result:** we'll use Option A (it looks as if tagging was a crucial feature)."
   ]
  },
  {
   "cell_type": "markdown",
   "metadata": {},
   "source": [
    "### 1.2 &ensp; Dividing point\n",
    "\n",
    "When a verb starts to be similar to another one? Let's take a look at the most similar verbs (once again) and calculate an average of their similarity."
   ]
  },
  {
   "cell_type": "markdown",
   "metadata": {},
   "source": [
    "**Entrance** "
   ]
  },
  {
   "cell_type": "code",
   "execution_count": 8,
   "metadata": {
    "scrolled": false
   },
   "outputs": [
    {
     "data": {
      "text/plain": [
       "[('войти_VERB', 0.760601818561554),\n",
       " ('воходить_VERB', 0.5944163799285889),\n",
       " ('вбежать_VERB', 0.5676171183586121),\n",
       " ('выходить_VERB', 0.5533232688903809),\n",
       " ('войти_NOUN', 0.5268169045448303),\n",
       " ('вплыть_VERB', 0.520382285118103),\n",
       " ('вбегать_VERB', 0.5187638401985168),\n",
       " ('вводить_VERB', 0.5162067413330078),\n",
       " ('вваливаться_VERB', 0.5069583654403687),\n",
       " ('включать_VERB', 0.5045877695083618)]"
      ]
     },
     "execution_count": 8,
     "metadata": {},
     "output_type": "execute_result"
    }
   ],
   "source": [
    "model_continious.most_similar(\"входить_VERB\")"
   ]
  },
  {
   "cell_type": "code",
   "execution_count": 9,
   "metadata": {},
   "outputs": [],
   "source": [
    "from statistics import mean"
   ]
  },
  {
   "cell_type": "code",
   "execution_count": 10,
   "metadata": {
    "scrolled": true
   },
   "outputs": [
    {
     "data": {
      "text/plain": [
       "0.5569674491882324"
      ]
     },
     "execution_count": 10,
     "metadata": {},
     "output_type": "execute_result"
    }
   ],
   "source": [
    "mean([sim_t[1] for sim_t in model_continious.most_similar(\"входить_VERB\")])"
   ]
  },
  {
   "cell_type": "markdown",
   "metadata": {},
   "source": [
    "**Exit**"
   ]
  },
  {
   "cell_type": "code",
   "execution_count": 11,
   "metadata": {
    "scrolled": false
   },
   "outputs": [
    {
     "data": {
      "text/plain": [
       "[('уйти_VERB', 0.6411738991737366),\n",
       " ('убегать_VERB', 0.6407353281974792),\n",
       " ('уводить_VERB', 0.6357207298278809),\n",
       " ('пойти_VERB', 0.6315332651138306),\n",
       " ('убежать_VERB', 0.6295132637023926),\n",
       " ('отходить_VERB', 0.6092807054519653),\n",
       " ('увести_VERB', 0.5756492018699646),\n",
       " ('убраться_VERB', 0.5727350115776062),\n",
       " ('сбегать_VERB', 0.5644490718841553),\n",
       " ('уезжать_VERB', 0.5639676451683044)]"
      ]
     },
     "execution_count": 11,
     "metadata": {},
     "output_type": "execute_result"
    }
   ],
   "source": [
    "model_continious.most_similar(\"уходить_VERB\")"
   ]
  },
  {
   "cell_type": "code",
   "execution_count": 12,
   "metadata": {
    "scrolled": true
   },
   "outputs": [
    {
     "data": {
      "text/plain": [
       "0.6064758121967315"
      ]
     },
     "execution_count": 12,
     "metadata": {},
     "output_type": "execute_result"
    }
   ],
   "source": [
    "mean([sim_t[1] for sim_t in model_continious.most_similar(\"уходить_VERB\")])"
   ]
  },
  {
   "cell_type": "markdown",
   "metadata": {},
   "source": [
    "**Conclusion:** using average similarity doesn't make any sense."
   ]
  },
  {
   "cell_type": "markdown",
   "metadata": {},
   "source": [
    "### 1.3 &ensp; Loading directions\n",
    "\n",
    "So far — using 2018 dataset again."
   ]
  },
  {
   "cell_type": "code",
   "execution_count": 13,
   "metadata": {},
   "outputs": [],
   "source": [
    "import pandas as pd\n",
    "import numpy as np"
   ]
  },
  {
   "cell_type": "code",
   "execution_count": 14,
   "metadata": {
    "scrolled": true
   },
   "outputs": [
    {
     "data": {
      "text/html": [
       "<div>\n",
       "<style scoped>\n",
       "    .dataframe tbody tr th:only-of-type {\n",
       "        vertical-align: middle;\n",
       "    }\n",
       "\n",
       "    .dataframe tbody tr th {\n",
       "        vertical-align: top;\n",
       "    }\n",
       "\n",
       "    .dataframe thead th {\n",
       "        text-align: right;\n",
       "    }\n",
       "</style>\n",
       "<table border=\"1\" class=\"dataframe\">\n",
       "  <thead>\n",
       "    <tr style=\"text-align: right;\">\n",
       "      <th></th>\n",
       "      <th>Text</th>\n",
       "      <th>TEI type</th>\n",
       "      <th>ADJ</th>\n",
       "      <th>ADVB</th>\n",
       "      <th>INTJ</th>\n",
       "      <th>NOUN</th>\n",
       "      <th>PREP</th>\n",
       "      <th>VERB</th>\n",
       "    </tr>\n",
       "  </thead>\n",
       "  <tbody>\n",
       "    <tr>\n",
       "      <th>0</th>\n",
       "      <td>«да куда ж он делся-то, господи?»</td>\n",
       "      <td>setting</td>\n",
       "      <td>0.000000</td>\n",
       "      <td>0.000000</td>\n",
       "      <td>0.0</td>\n",
       "      <td>0.181818</td>\n",
       "      <td>0.000000</td>\n",
       "      <td>0.090909</td>\n",
       "    </tr>\n",
       "    <tr>\n",
       "      <th>1</th>\n",
       "      <td>«дома, что ли-ча, лазарь?»</td>\n",
       "      <td>setting</td>\n",
       "      <td>0.000000</td>\n",
       "      <td>0.000000</td>\n",
       "      <td>0.0</td>\n",
       "      <td>0.200000</td>\n",
       "      <td>0.000000</td>\n",
       "      <td>0.000000</td>\n",
       "    </tr>\n",
       "    <tr>\n",
       "      <th>2</th>\n",
       "      <td>автор опять испуганно высовывается, но быстро ...</td>\n",
       "      <td>mixed</td>\n",
       "      <td>0.000000</td>\n",
       "      <td>0.166667</td>\n",
       "      <td>0.0</td>\n",
       "      <td>0.111111</td>\n",
       "      <td>0.055556</td>\n",
       "      <td>0.166667</td>\n",
       "    </tr>\n",
       "    <tr>\n",
       "      <th>3</th>\n",
       "      <td>автор хочет соединить руки коломбины и пьеро. ...</td>\n",
       "      <td>setting</td>\n",
       "      <td>0.142857</td>\n",
       "      <td>0.081633</td>\n",
       "      <td>0.0</td>\n",
       "      <td>0.285714</td>\n",
       "      <td>0.081633</td>\n",
       "      <td>0.163265</td>\n",
       "    </tr>\n",
       "    <tr>\n",
       "      <th>4</th>\n",
       "      <td>аграфена кондратьевна и липочка (разряженная</td>\n",
       "      <td>modifier</td>\n",
       "      <td>0.000000</td>\n",
       "      <td>0.000000</td>\n",
       "      <td>0.0</td>\n",
       "      <td>0.500000</td>\n",
       "      <td>0.000000</td>\n",
       "      <td>0.000000</td>\n",
       "    </tr>\n",
       "  </tbody>\n",
       "</table>\n",
       "</div>"
      ],
      "text/plain": [
       "                                                Text  TEI type       ADJ  \\\n",
       "0                  «да куда ж он делся-то, господи?»   setting  0.000000   \n",
       "1                         «дома, что ли-ча, лазарь?»   setting  0.000000   \n",
       "2  автор опять испуганно высовывается, но быстро ...     mixed  0.000000   \n",
       "3  автор хочет соединить руки коломбины и пьеро. ...   setting  0.142857   \n",
       "4       аграфена кондратьевна и липочка (разряженная  modifier  0.000000   \n",
       "\n",
       "       ADVB  INTJ      NOUN      PREP      VERB  \n",
       "0  0.000000   0.0  0.181818  0.000000  0.090909  \n",
       "1  0.000000   0.0  0.200000  0.000000  0.000000  \n",
       "2  0.166667   0.0  0.111111  0.055556  0.166667  \n",
       "3  0.081633   0.0  0.285714  0.081633  0.163265  \n",
       "4  0.000000   0.0  0.500000  0.000000  0.000000  "
      ]
     },
     "execution_count": 14,
     "metadata": {},
     "output_type": "execute_result"
    }
   ],
   "source": [
    "df_path = \"./data/csv/2018_annotated_dirs.csv\"\n",
    "df = pd.read_csv(df_path, sep=\";\")\n",
    "df.head()"
   ]
  },
  {
   "cell_type": "markdown",
   "metadata": {},
   "source": [
    "## 2 &emsp; Developing the general algorithm\n",
    "\n",
    "\n",
    "Now, let's assign TEI types based on semantic similarity:\n",
    "\n",
    "1. Check whether the list of verbs contains a verb from top-10 most similar lists for entrance and exit respectively,\n",
    "\n",
    "2. Otherwise — calculate an overall vector for the verbs,\n",
    "\n",
    "3. Compare it with the vector for *entrance* and *exit*: the one that is closer \"wins\" and the direction is assigned that type."
   ]
  },
  {
   "cell_type": "markdown",
   "metadata": {},
   "source": [
    "### 2.1 &emsp; Data preparation\n",
    "\n",
    "Top-10 `entrance` similarities with their POS tag removed:"
   ]
  },
  {
   "cell_type": "code",
   "execution_count": 15,
   "metadata": {},
   "outputs": [],
   "source": [
    "most_similar_entrance = []\n",
    "for entrance_tuple in  model_continious.most_similar(\"входить_VERB\"):\n",
    "    verb = entrance_tuple[0].split(\"_\")[0]\n",
    "    new_tuple = (verb, entrance_tuple[1])\n",
    "    most_similar_entrance.append(new_tuple)"
   ]
  },
  {
   "cell_type": "code",
   "execution_count": 16,
   "metadata": {},
   "outputs": [
    {
     "data": {
      "text/plain": [
       "[('войти', 0.760601818561554),\n",
       " ('воходить', 0.5944163799285889),\n",
       " ('вбежать', 0.5676171183586121),\n",
       " ('выходить', 0.5533232688903809),\n",
       " ('войти', 0.5268169045448303),\n",
       " ('вплыть', 0.520382285118103),\n",
       " ('вбегать', 0.5187638401985168),\n",
       " ('вводить', 0.5162067413330078),\n",
       " ('вваливаться', 0.5069583654403687),\n",
       " ('включать', 0.5045877695083618)]"
      ]
     },
     "execution_count": 16,
     "metadata": {},
     "output_type": "execute_result"
    }
   ],
   "source": [
    "most_similar_entrance"
   ]
  },
  {
   "cell_type": "markdown",
   "metadata": {},
   "source": [
    "Top-10 `exit` similarities, processed the same way:"
   ]
  },
  {
   "cell_type": "code",
   "execution_count": 17,
   "metadata": {},
   "outputs": [],
   "source": [
    "most_similar_exit = []\n",
    "for exit_tuple in  model_continious.most_similar(\"уходить_VERB\"):\n",
    "    verb = exit_tuple[0].split(\"_\")[0]\n",
    "    new_tuple = (verb, exit_tuple[1])\n",
    "    most_similar_exit.append(new_tuple)"
   ]
  },
  {
   "cell_type": "code",
   "execution_count": 18,
   "metadata": {},
   "outputs": [
    {
     "data": {
      "text/plain": [
       "[('уйти', 0.6411738991737366),\n",
       " ('убегать', 0.6407353281974792),\n",
       " ('уводить', 0.6357207298278809),\n",
       " ('пойти', 0.6315332651138306),\n",
       " ('убежать', 0.6295132637023926),\n",
       " ('отходить', 0.6092807054519653),\n",
       " ('увести', 0.5756492018699646),\n",
       " ('убраться', 0.5727350115776062),\n",
       " ('сбегать', 0.5644490718841553),\n",
       " ('уезжать', 0.5639676451683044)]"
      ]
     },
     "execution_count": 18,
     "metadata": {},
     "output_type": "execute_result"
    }
   ],
   "source": [
    "most_similar_exit"
   ]
  },
  {
   "cell_type": "markdown",
   "metadata": {},
   "source": [
    "### 2.2 &emsp; Developing the algorithm"
   ]
  },
  {
   "cell_type": "markdown",
   "metadata": {},
   "source": [
    "**Similarity measure:** calculating cosine similarity between two random vectors:"
   ]
  },
  {
   "cell_type": "code",
   "execution_count": 19,
   "metadata": {},
   "outputs": [],
   "source": [
    "from gensim import matutils"
   ]
  },
  {
   "cell_type": "code",
   "execution_count": 20,
   "metadata": {},
   "outputs": [],
   "source": [
    "def vec_similarity(v1, v2):\n",
    "    v1_norm = matutils.unitvec(np.array(v1).astype(float))\n",
    "    v2_norm = matutils.unitvec(np.array(v2).astype(float))\n",
    "    return np.dot(v1_norm, v2_norm)"
   ]
  },
  {
   "cell_type": "markdown",
   "metadata": {},
   "source": [
    "Retrieving a **total vector** for all the verbs from the directions in general:"
   ]
  },
  {
   "cell_type": "code",
   "execution_count": 21,
   "metadata": {},
   "outputs": [],
   "source": [
    "def get_w2v_vectors(text):\n",
    "    total_counter = 0\n",
    "    total_vector = np.zeros(300)\n",
    "    for word in text:\n",
    "        try:\n",
    "            vector = np.array(model_similarity.wv[word])\n",
    "            total_vector += vector\n",
    "            total_counter += 1\n",
    "        except:\n",
    "            continue\n",
    "    res_vector = total_vector / total_counter\n",
    "    return res_vector"
   ]
  },
  {
   "cell_type": "markdown",
   "metadata": {},
   "source": [
    "Finally, a **TEI type decision**.\n",
    "\n",
    "The idea visualisation: \n",
    "\n",
    "![semantic algorithm — a scheme](data/figures/semantic_algorithm.png)"
   ]
  },
  {
   "cell_type": "code",
   "execution_count": 22,
   "metadata": {},
   "outputs": [],
   "source": [
    "def assign_tei_type(verbs_list, most_similar_entrance, most_similar_exit):\n",
    "    tei_type = \"\"\n",
    "    total_counter = 0\n",
    "    total_vector = np.zeros(300)\n",
    "    for verb in verbs_list:\n",
    "        # case 1 -- verb in most_common for a type\n",
    "        # in this case, we return the type immediately\n",
    "        if verb in most_similar_entrance:\n",
    "            tei_type = \"entrance\"\n",
    "            return tei_type\n",
    "        elif verb in most_similar_exit:\n",
    "            tei_type = \"exit\"\n",
    "            return tei_type\n",
    "        # case 2 -- verb is unknown\n",
    "        else:\n",
    "            try:\n",
    "                verb_vec = np.array(model_continious.wv[verb+\"_VERB\"])\n",
    "                total_vector += verb_vec\n",
    "                total_counter += 1\n",
    "            except:\n",
    "                 # verb not in model vocabulary\n",
    "                pass\n",
    "    # case 2 -- calculating the total vector and comparing\n",
    "    direction_vector = total_vector/total_counter\n",
    "    similarity_entrance = vec_similarity(direction_vector, model_continious.wv[\"войти_VERB\"])\n",
    "    similarity_exit = vec_similarity(direction_vector, model_continious.wv[\"выйти_VERB\"])\n",
    "    if similarity_entrance > similarity_exit:\n",
    "        tei_type = \"entrance\"\n",
    "    elif similarity_entrance < similarity_exit:\n",
    "        tei_type = \"exit\"\n",
    "    else:\n",
    "        tei_type = \"unknown\"\n",
    "    return tei_type"
   ]
  },
  {
   "cell_type": "markdown",
   "metadata": {},
   "source": [
    "## 3 &emsp; Testing the hypotheses"
   ]
  },
  {
   "cell_type": "markdown",
   "metadata": {},
   "source": [
    "### 3.1 &emsp; Distinguishing `entrance` and `exit`\n",
    "\n",
    "**Hypothesis:** we might be able to use a rule-based word2vec model to distinguish `entrance` and `exit`. \n",
    "\n",
    "#### 3.1.1 &emsp; Calculating and development"
   ]
  },
  {
   "cell_type": "markdown",
   "metadata": {},
   "source": [
    "**Step 1:** Leaving out only `entrance` and `exit`:"
   ]
  },
  {
   "cell_type": "code",
   "execution_count": 23,
   "metadata": {
    "scrolled": false
   },
   "outputs": [
    {
     "data": {
      "text/html": [
       "<div>\n",
       "<style scoped>\n",
       "    .dataframe tbody tr th:only-of-type {\n",
       "        vertical-align: middle;\n",
       "    }\n",
       "\n",
       "    .dataframe tbody tr th {\n",
       "        vertical-align: top;\n",
       "    }\n",
       "\n",
       "    .dataframe thead th {\n",
       "        text-align: right;\n",
       "    }\n",
       "</style>\n",
       "<table border=\"1\" class=\"dataframe\">\n",
       "  <thead>\n",
       "    <tr style=\"text-align: right;\">\n",
       "      <th></th>\n",
       "      <th>Text</th>\n",
       "      <th>TEI type</th>\n",
       "      <th>ADJ</th>\n",
       "      <th>ADVB</th>\n",
       "      <th>INTJ</th>\n",
       "      <th>NOUN</th>\n",
       "      <th>PREP</th>\n",
       "      <th>VERB</th>\n",
       "    </tr>\n",
       "  </thead>\n",
       "  <tbody>\n",
       "    <tr>\n",
       "      <th>0</th>\n",
       "      <td>аграфена кондратьевна уходит</td>\n",
       "      <td>exit</td>\n",
       "      <td>0.00</td>\n",
       "      <td>0.000000</td>\n",
       "      <td>0.0</td>\n",
       "      <td>0.666667</td>\n",
       "      <td>0.000000</td>\n",
       "      <td>0.333333</td>\n",
       "    </tr>\n",
       "    <tr>\n",
       "      <th>1</th>\n",
       "      <td>аграфена кондратьевна уходит с олимпиадой самс...</td>\n",
       "      <td>exit</td>\n",
       "      <td>0.00</td>\n",
       "      <td>0.000000</td>\n",
       "      <td>0.0</td>\n",
       "      <td>0.666667</td>\n",
       "      <td>0.166667</td>\n",
       "      <td>0.166667</td>\n",
       "    </tr>\n",
       "    <tr>\n",
       "      <th>2</th>\n",
       "      <td>анна андреевна и марья антоновна вбегают на сцену</td>\n",
       "      <td>entrance</td>\n",
       "      <td>0.00</td>\n",
       "      <td>0.000000</td>\n",
       "      <td>0.0</td>\n",
       "      <td>0.625000</td>\n",
       "      <td>0.125000</td>\n",
       "      <td>0.125000</td>\n",
       "    </tr>\n",
       "    <tr>\n",
       "      <th>3</th>\n",
       "      <td>быстро уходит; телегин идет за ним</td>\n",
       "      <td>exit</td>\n",
       "      <td>0.00</td>\n",
       "      <td>0.142857</td>\n",
       "      <td>0.0</td>\n",
       "      <td>0.142857</td>\n",
       "      <td>0.142857</td>\n",
       "      <td>0.285714</td>\n",
       "    </tr>\n",
       "    <tr>\n",
       "      <th>4</th>\n",
       "      <td>в сильном волнении уходит</td>\n",
       "      <td>exit</td>\n",
       "      <td>0.25</td>\n",
       "      <td>0.000000</td>\n",
       "      <td>0.0</td>\n",
       "      <td>0.250000</td>\n",
       "      <td>0.250000</td>\n",
       "      <td>0.250000</td>\n",
       "    </tr>\n",
       "  </tbody>\n",
       "</table>\n",
       "</div>"
      ],
      "text/plain": [
       "                                                Text  TEI type   ADJ  \\\n",
       "0                       аграфена кондратьевна уходит      exit  0.00   \n",
       "1  аграфена кондратьевна уходит с олимпиадой самс...      exit  0.00   \n",
       "2  анна андреевна и марья антоновна вбегают на сцену  entrance  0.00   \n",
       "3                 быстро уходит; телегин идет за ним      exit  0.00   \n",
       "4                          в сильном волнении уходит      exit  0.25   \n",
       "\n",
       "       ADVB  INTJ      NOUN      PREP      VERB  \n",
       "0  0.000000   0.0  0.666667  0.000000  0.333333  \n",
       "1  0.000000   0.0  0.666667  0.166667  0.166667  \n",
       "2  0.000000   0.0  0.625000  0.125000  0.125000  \n",
       "3  0.142857   0.0  0.142857  0.142857  0.285714  \n",
       "4  0.000000   0.0  0.250000  0.250000  0.250000  "
      ]
     },
     "execution_count": 23,
     "metadata": {},
     "output_type": "execute_result"
    }
   ],
   "source": [
    "entr_exit_types = [\"entrance\", \"exit\"]\n",
    "df_entrance_exit = df.loc[df[\"TEI type\"].isin(entr_exit_types)].reset_index(drop=True)\n",
    "df_entrance_exit.head()"
   ]
  },
  {
   "cell_type": "markdown",
   "metadata": {},
   "source": [
    "**Step 2:** the only part of speech that matters for this task is the verb. Basically, the direction might be as simple as *входит*  or *уходит*, so let's extract all the verbs."
   ]
  },
  {
   "cell_type": "code",
   "execution_count": 24,
   "metadata": {},
   "outputs": [],
   "source": [
    "from pymystem3 import Mystem\n",
    "\n",
    "mystem = Mystem()"
   ]
  },
  {
   "cell_type": "code",
   "execution_count": 25,
   "metadata": {},
   "outputs": [],
   "source": [
    "def leave_out_verbs(direction):\n",
    "    direction_verbs = []\n",
    "    word_analyses = mystem.analyze(str(direction))\n",
    "    for parse in word_analyses:\n",
    "        if parse.get(\"analysis\"):\n",
    "            pos = parse[\"analysis\"][0][\"gr\"].split(\",\")[0]\n",
    "            if pos == \"V\":\n",
    "                direction_verbs.append(parse[\"analysis\"][0][\"lex\"])\n",
    "    return direction_verbs"
   ]
  },
  {
   "cell_type": "code",
   "execution_count": 26,
   "metadata": {
    "scrolled": true
   },
   "outputs": [
    {
     "data": {
      "text/html": [
       "<div>\n",
       "<style scoped>\n",
       "    .dataframe tbody tr th:only-of-type {\n",
       "        vertical-align: middle;\n",
       "    }\n",
       "\n",
       "    .dataframe tbody tr th {\n",
       "        vertical-align: top;\n",
       "    }\n",
       "\n",
       "    .dataframe thead th {\n",
       "        text-align: right;\n",
       "    }\n",
       "</style>\n",
       "<table border=\"1\" class=\"dataframe\">\n",
       "  <thead>\n",
       "    <tr style=\"text-align: right;\">\n",
       "      <th></th>\n",
       "      <th>Text</th>\n",
       "      <th>TEI type</th>\n",
       "      <th>ADJ</th>\n",
       "      <th>ADVB</th>\n",
       "      <th>INTJ</th>\n",
       "      <th>NOUN</th>\n",
       "      <th>PREP</th>\n",
       "      <th>VERB</th>\n",
       "      <th>Verbs</th>\n",
       "    </tr>\n",
       "  </thead>\n",
       "  <tbody>\n",
       "    <tr>\n",
       "      <th>0</th>\n",
       "      <td>аграфена кондратьевна уходит</td>\n",
       "      <td>exit</td>\n",
       "      <td>0.00</td>\n",
       "      <td>0.000000</td>\n",
       "      <td>0.0</td>\n",
       "      <td>0.666667</td>\n",
       "      <td>0.000000</td>\n",
       "      <td>0.333333</td>\n",
       "      <td>[уходить]</td>\n",
       "    </tr>\n",
       "    <tr>\n",
       "      <th>1</th>\n",
       "      <td>аграфена кондратьевна уходит с олимпиадой самс...</td>\n",
       "      <td>exit</td>\n",
       "      <td>0.00</td>\n",
       "      <td>0.000000</td>\n",
       "      <td>0.0</td>\n",
       "      <td>0.666667</td>\n",
       "      <td>0.166667</td>\n",
       "      <td>0.166667</td>\n",
       "      <td>[уходить]</td>\n",
       "    </tr>\n",
       "    <tr>\n",
       "      <th>2</th>\n",
       "      <td>анна андреевна и марья антоновна вбегают на сцену</td>\n",
       "      <td>entrance</td>\n",
       "      <td>0.00</td>\n",
       "      <td>0.000000</td>\n",
       "      <td>0.0</td>\n",
       "      <td>0.625000</td>\n",
       "      <td>0.125000</td>\n",
       "      <td>0.125000</td>\n",
       "      <td>[вбегать]</td>\n",
       "    </tr>\n",
       "    <tr>\n",
       "      <th>3</th>\n",
       "      <td>быстро уходит; телегин идет за ним</td>\n",
       "      <td>exit</td>\n",
       "      <td>0.00</td>\n",
       "      <td>0.142857</td>\n",
       "      <td>0.0</td>\n",
       "      <td>0.142857</td>\n",
       "      <td>0.142857</td>\n",
       "      <td>0.285714</td>\n",
       "      <td>[уходить, идти]</td>\n",
       "    </tr>\n",
       "    <tr>\n",
       "      <th>4</th>\n",
       "      <td>в сильном волнении уходит</td>\n",
       "      <td>exit</td>\n",
       "      <td>0.25</td>\n",
       "      <td>0.000000</td>\n",
       "      <td>0.0</td>\n",
       "      <td>0.250000</td>\n",
       "      <td>0.250000</td>\n",
       "      <td>0.250000</td>\n",
       "      <td>[уходить]</td>\n",
       "    </tr>\n",
       "  </tbody>\n",
       "</table>\n",
       "</div>"
      ],
      "text/plain": [
       "                                                Text  TEI type   ADJ  \\\n",
       "0                       аграфена кондратьевна уходит      exit  0.00   \n",
       "1  аграфена кондратьевна уходит с олимпиадой самс...      exit  0.00   \n",
       "2  анна андреевна и марья антоновна вбегают на сцену  entrance  0.00   \n",
       "3                 быстро уходит; телегин идет за ним      exit  0.00   \n",
       "4                          в сильном волнении уходит      exit  0.25   \n",
       "\n",
       "       ADVB  INTJ      NOUN      PREP      VERB            Verbs  \n",
       "0  0.000000   0.0  0.666667  0.000000  0.333333        [уходить]  \n",
       "1  0.000000   0.0  0.666667  0.166667  0.166667        [уходить]  \n",
       "2  0.000000   0.0  0.625000  0.125000  0.125000        [вбегать]  \n",
       "3  0.142857   0.0  0.142857  0.142857  0.285714  [уходить, идти]  \n",
       "4  0.000000   0.0  0.250000  0.250000  0.250000        [уходить]  "
      ]
     },
     "execution_count": 26,
     "metadata": {},
     "output_type": "execute_result"
    }
   ],
   "source": [
    "verbs = [leave_out_verbs(direction) for direction in df_entrance_exit[\"Text\"]]\n",
    "df_entrance_exit[\"Verbs\"] = verbs\n",
    "df_entrance_exit.head()"
   ]
  },
  {
   "cell_type": "markdown",
   "metadata": {},
   "source": [
    "**Step 3:** applying the algorithm."
   ]
  },
  {
   "cell_type": "code",
   "execution_count": 27,
   "metadata": {},
   "outputs": [],
   "source": [
    "def get_rule_based_types(df_verb_series):\n",
    "    rule_based_types = []\n",
    "    for direction_verbs in df_verb_series:\n",
    "        str_verbs = [str(verb) for verb in direction_verbs]\n",
    "        rule_type = assign_tei_type(str_verbs, most_similar_entrance, most_similar_exit)\n",
    "        rule_based_types.append(rule_type)\n",
    "    return rule_based_types"
   ]
  },
  {
   "cell_type": "code",
   "execution_count": 28,
   "metadata": {
    "scrolled": true
   },
   "outputs": [
    {
     "data": {
      "text/html": [
       "<div>\n",
       "<style scoped>\n",
       "    .dataframe tbody tr th:only-of-type {\n",
       "        vertical-align: middle;\n",
       "    }\n",
       "\n",
       "    .dataframe tbody tr th {\n",
       "        vertical-align: top;\n",
       "    }\n",
       "\n",
       "    .dataframe thead th {\n",
       "        text-align: right;\n",
       "    }\n",
       "</style>\n",
       "<table border=\"1\" class=\"dataframe\">\n",
       "  <thead>\n",
       "    <tr style=\"text-align: right;\">\n",
       "      <th></th>\n",
       "      <th>Text</th>\n",
       "      <th>TEI type</th>\n",
       "      <th>ADJ</th>\n",
       "      <th>ADVB</th>\n",
       "      <th>INTJ</th>\n",
       "      <th>NOUN</th>\n",
       "      <th>PREP</th>\n",
       "      <th>VERB</th>\n",
       "      <th>Verbs</th>\n",
       "      <th>Rule-based</th>\n",
       "    </tr>\n",
       "  </thead>\n",
       "  <tbody>\n",
       "    <tr>\n",
       "      <th>0</th>\n",
       "      <td>аграфена кондратьевна уходит</td>\n",
       "      <td>exit</td>\n",
       "      <td>0.00</td>\n",
       "      <td>0.000000</td>\n",
       "      <td>0.0</td>\n",
       "      <td>0.666667</td>\n",
       "      <td>0.000000</td>\n",
       "      <td>0.333333</td>\n",
       "      <td>[уходить]</td>\n",
       "      <td>exit</td>\n",
       "    </tr>\n",
       "    <tr>\n",
       "      <th>1</th>\n",
       "      <td>аграфена кондратьевна уходит с олимпиадой самс...</td>\n",
       "      <td>exit</td>\n",
       "      <td>0.00</td>\n",
       "      <td>0.000000</td>\n",
       "      <td>0.0</td>\n",
       "      <td>0.666667</td>\n",
       "      <td>0.166667</td>\n",
       "      <td>0.166667</td>\n",
       "      <td>[уходить]</td>\n",
       "      <td>exit</td>\n",
       "    </tr>\n",
       "    <tr>\n",
       "      <th>2</th>\n",
       "      <td>анна андреевна и марья антоновна вбегают на сцену</td>\n",
       "      <td>entrance</td>\n",
       "      <td>0.00</td>\n",
       "      <td>0.000000</td>\n",
       "      <td>0.0</td>\n",
       "      <td>0.625000</td>\n",
       "      <td>0.125000</td>\n",
       "      <td>0.125000</td>\n",
       "      <td>[вбегать]</td>\n",
       "      <td>entrance</td>\n",
       "    </tr>\n",
       "    <tr>\n",
       "      <th>3</th>\n",
       "      <td>быстро уходит; телегин идет за ним</td>\n",
       "      <td>exit</td>\n",
       "      <td>0.00</td>\n",
       "      <td>0.142857</td>\n",
       "      <td>0.0</td>\n",
       "      <td>0.142857</td>\n",
       "      <td>0.142857</td>\n",
       "      <td>0.285714</td>\n",
       "      <td>[уходить, идти]</td>\n",
       "      <td>exit</td>\n",
       "    </tr>\n",
       "    <tr>\n",
       "      <th>4</th>\n",
       "      <td>в сильном волнении уходит</td>\n",
       "      <td>exit</td>\n",
       "      <td>0.25</td>\n",
       "      <td>0.000000</td>\n",
       "      <td>0.0</td>\n",
       "      <td>0.250000</td>\n",
       "      <td>0.250000</td>\n",
       "      <td>0.250000</td>\n",
       "      <td>[уходить]</td>\n",
       "      <td>exit</td>\n",
       "    </tr>\n",
       "  </tbody>\n",
       "</table>\n",
       "</div>"
      ],
      "text/plain": [
       "                                                Text  TEI type   ADJ  \\\n",
       "0                       аграфена кондратьевна уходит      exit  0.00   \n",
       "1  аграфена кондратьевна уходит с олимпиадой самс...      exit  0.00   \n",
       "2  анна андреевна и марья антоновна вбегают на сцену  entrance  0.00   \n",
       "3                 быстро уходит; телегин идет за ним      exit  0.00   \n",
       "4                          в сильном волнении уходит      exit  0.25   \n",
       "\n",
       "       ADVB  INTJ      NOUN      PREP      VERB            Verbs Rule-based  \n",
       "0  0.000000   0.0  0.666667  0.000000  0.333333        [уходить]       exit  \n",
       "1  0.000000   0.0  0.666667  0.166667  0.166667        [уходить]       exit  \n",
       "2  0.000000   0.0  0.625000  0.125000  0.125000        [вбегать]   entrance  \n",
       "3  0.142857   0.0  0.142857  0.142857  0.285714  [уходить, идти]       exit  \n",
       "4  0.000000   0.0  0.250000  0.250000  0.250000        [уходить]       exit  "
      ]
     },
     "execution_count": 28,
     "metadata": {},
     "output_type": "execute_result"
    }
   ],
   "source": [
    "df_entrance_exit[\"Rule-based\"] = get_rule_based_types(df_entrance_exit[\"Verbs\"])\n",
    "df_entrance_exit.head()"
   ]
  },
  {
   "cell_type": "markdown",
   "metadata": {},
   "source": [
    "**Finally:** checking the hypothesis. If it's true, we'll get high scores on the metrics of precision and recall."
   ]
  },
  {
   "cell_type": "code",
   "execution_count": 29,
   "metadata": {},
   "outputs": [],
   "source": [
    "from sklearn.metrics import classification_report"
   ]
  },
  {
   "cell_type": "code",
   "execution_count": 30,
   "metadata": {
    "scrolled": false
   },
   "outputs": [
    {
     "name": "stdout",
     "output_type": "stream",
     "text": [
      "              precision    recall  f1-score   support\n",
      "\n",
      "    entrance       0.97      0.84      0.90        37\n",
      "        exit       0.88      0.95      0.91        39\n",
      "     unknown       0.00      0.00      0.00         0\n",
      "\n",
      "   micro avg       0.89      0.89      0.89        76\n",
      "   macro avg       0.62      0.60      0.60        76\n",
      "weighted avg       0.92      0.89      0.91        76\n",
      "\n"
     ]
    }
   ],
   "source": [
    "print(classification_report(df_entrance_exit[\"TEI type\"], df_entrance_exit[\"Rule-based\"]))"
   ]
  },
  {
   "cell_type": "markdown",
   "metadata": {},
   "source": [
    "Looks like that's true!\n",
    "\n",
    "Let's check what's marked as unknown:"
   ]
  },
  {
   "cell_type": "code",
   "execution_count": 31,
   "metadata": {
    "scrolled": true
   },
   "outputs": [
    {
     "data": {
      "text/html": [
       "<div>\n",
       "<style scoped>\n",
       "    .dataframe tbody tr th:only-of-type {\n",
       "        vertical-align: middle;\n",
       "    }\n",
       "\n",
       "    .dataframe tbody tr th {\n",
       "        vertical-align: top;\n",
       "    }\n",
       "\n",
       "    .dataframe thead th {\n",
       "        text-align: right;\n",
       "    }\n",
       "</style>\n",
       "<table border=\"1\" class=\"dataframe\">\n",
       "  <thead>\n",
       "    <tr style=\"text-align: right;\">\n",
       "      <th></th>\n",
       "      <th>Text</th>\n",
       "      <th>TEI type</th>\n",
       "      <th>ADJ</th>\n",
       "      <th>ADVB</th>\n",
       "      <th>INTJ</th>\n",
       "      <th>NOUN</th>\n",
       "      <th>PREP</th>\n",
       "      <th>VERB</th>\n",
       "      <th>Verbs</th>\n",
       "      <th>Rule-based</th>\n",
       "    </tr>\n",
       "  </thead>\n",
       "  <tbody>\n",
       "    <tr>\n",
       "      <th>7</th>\n",
       "      <td>вошед</td>\n",
       "      <td>entrance</td>\n",
       "      <td>0.0</td>\n",
       "      <td>0.000</td>\n",
       "      <td>0.0</td>\n",
       "      <td>1.000</td>\n",
       "      <td>0.000</td>\n",
       "      <td>0.00</td>\n",
       "      <td>[]</td>\n",
       "      <td>unknown</td>\n",
       "    </tr>\n",
       "    <tr>\n",
       "      <th>56</th>\n",
       "      <td>слуга убирает и уносит тарелки вместе с осипом</td>\n",
       "      <td>exit</td>\n",
       "      <td>0.0</td>\n",
       "      <td>0.125</td>\n",
       "      <td>0.0</td>\n",
       "      <td>0.375</td>\n",
       "      <td>0.125</td>\n",
       "      <td>0.25</td>\n",
       "      <td>[]</td>\n",
       "      <td>unknown</td>\n",
       "    </tr>\n",
       "  </tbody>\n",
       "</table>\n",
       "</div>"
      ],
      "text/plain": [
       "                                              Text  TEI type  ADJ   ADVB  \\\n",
       "7                                            вошед  entrance  0.0  0.000   \n",
       "56  слуга убирает и уносит тарелки вместе с осипом      exit  0.0  0.125   \n",
       "\n",
       "    INTJ   NOUN   PREP  VERB Verbs Rule-based  \n",
       "7    0.0  1.000  0.000  0.00    []    unknown  \n",
       "56   0.0  0.375  0.125  0.25    []    unknown  "
      ]
     },
     "execution_count": 31,
     "metadata": {},
     "output_type": "execute_result"
    }
   ],
   "source": [
    "df_entrance_exit[df_entrance_exit[\"Rule-based\"] == \"unknown\"]"
   ]
  },
  {
   "cell_type": "markdown",
   "metadata": {},
   "source": [
    "These two are special in their own way: no.7 (*вошед* = \"having entered\") is a no longer used gerund, no.56 mixes business and exit (*убирает и уносит* = \"cleans and takes away\" [apparently, exiting the scene])."
   ]
  },
  {
   "cell_type": "markdown",
   "metadata": {},
   "source": [
    "### 3.1 &emsp; Hypothesis 1 result\n",
    "\n",
    "We **certainly can** use rule- and word2vec-based algorithm to distinguish between `entrance` and `exit` types."
   ]
  },
  {
   "cell_type": "markdown",
   "metadata": {},
   "source": [
    "### 3.2 &emsp; `entrance`/`exit` vs. everything else\n",
    "\n",
    "Now, let's check whether the algorithm still works well on all the directions. In this case, it should distinguish entrance/exit from everything else (these directions should be marked as *unknown*)."
   ]
  },
  {
   "cell_type": "code",
   "execution_count": 32,
   "metadata": {},
   "outputs": [],
   "source": [
    "known_types = set([\"entrance\", \"exit\"])\n",
    "def rename_type(tei_type):\n",
    "    if tei_type not in known_types:\n",
    "        tei_type = \"unknown\"\n",
    "    return tei_type"
   ]
  },
  {
   "cell_type": "code",
   "execution_count": 33,
   "metadata": {},
   "outputs": [],
   "source": [
    "unknown_types = []\n",
    "for dir_type in df[\"TEI type\"]:\n",
    "    unknown_types.append(rename_type(dir_type))"
   ]
  },
  {
   "cell_type": "code",
   "execution_count": 34,
   "metadata": {},
   "outputs": [],
   "source": [
    "from copy import copy"
   ]
  },
  {
   "cell_type": "code",
   "execution_count": 35,
   "metadata": {
    "scrolled": true
   },
   "outputs": [
    {
     "data": {
      "text/html": [
       "<div>\n",
       "<style scoped>\n",
       "    .dataframe tbody tr th:only-of-type {\n",
       "        vertical-align: middle;\n",
       "    }\n",
       "\n",
       "    .dataframe tbody tr th {\n",
       "        vertical-align: top;\n",
       "    }\n",
       "\n",
       "    .dataframe thead th {\n",
       "        text-align: right;\n",
       "    }\n",
       "</style>\n",
       "<table border=\"1\" class=\"dataframe\">\n",
       "  <thead>\n",
       "    <tr style=\"text-align: right;\">\n",
       "      <th></th>\n",
       "      <th>Text</th>\n",
       "      <th>TEI type</th>\n",
       "      <th>ADJ</th>\n",
       "      <th>ADVB</th>\n",
       "      <th>INTJ</th>\n",
       "      <th>NOUN</th>\n",
       "      <th>PREP</th>\n",
       "      <th>VERB</th>\n",
       "      <th>Manual type</th>\n",
       "      <th>Verbs</th>\n",
       "    </tr>\n",
       "  </thead>\n",
       "  <tbody>\n",
       "    <tr>\n",
       "      <th>0</th>\n",
       "      <td>«да куда ж он делся-то, господи?»</td>\n",
       "      <td>setting</td>\n",
       "      <td>0.000000</td>\n",
       "      <td>0.000000</td>\n",
       "      <td>0.0</td>\n",
       "      <td>0.181818</td>\n",
       "      <td>0.000000</td>\n",
       "      <td>0.090909</td>\n",
       "      <td>unknown</td>\n",
       "      <td>[деваться]</td>\n",
       "    </tr>\n",
       "    <tr>\n",
       "      <th>1</th>\n",
       "      <td>«дома, что ли-ча, лазарь?»</td>\n",
       "      <td>setting</td>\n",
       "      <td>0.000000</td>\n",
       "      <td>0.000000</td>\n",
       "      <td>0.0</td>\n",
       "      <td>0.200000</td>\n",
       "      <td>0.000000</td>\n",
       "      <td>0.000000</td>\n",
       "      <td>unknown</td>\n",
       "      <td>[]</td>\n",
       "    </tr>\n",
       "    <tr>\n",
       "      <th>2</th>\n",
       "      <td>автор опять испуганно высовывается, но быстро ...</td>\n",
       "      <td>mixed</td>\n",
       "      <td>0.000000</td>\n",
       "      <td>0.166667</td>\n",
       "      <td>0.0</td>\n",
       "      <td>0.111111</td>\n",
       "      <td>0.055556</td>\n",
       "      <td>0.166667</td>\n",
       "      <td>unknown</td>\n",
       "      <td>[высовываться, исчезать, оттягивать]</td>\n",
       "    </tr>\n",
       "    <tr>\n",
       "      <th>3</th>\n",
       "      <td>автор хочет соединить руки коломбины и пьеро. ...</td>\n",
       "      <td>setting</td>\n",
       "      <td>0.142857</td>\n",
       "      <td>0.081633</td>\n",
       "      <td>0.0</td>\n",
       "      <td>0.285714</td>\n",
       "      <td>0.081633</td>\n",
       "      <td>0.163265</td>\n",
       "      <td>unknown</td>\n",
       "      <td>[хотеть, соединять, взвиваться, улетать, разбе...</td>\n",
       "    </tr>\n",
       "    <tr>\n",
       "      <th>4</th>\n",
       "      <td>аграфена кондратьевна и липочка (разряженная</td>\n",
       "      <td>modifier</td>\n",
       "      <td>0.000000</td>\n",
       "      <td>0.000000</td>\n",
       "      <td>0.0</td>\n",
       "      <td>0.500000</td>\n",
       "      <td>0.000000</td>\n",
       "      <td>0.000000</td>\n",
       "      <td>unknown</td>\n",
       "      <td>[]</td>\n",
       "    </tr>\n",
       "  </tbody>\n",
       "</table>\n",
       "</div>"
      ],
      "text/plain": [
       "                                                Text  TEI type       ADJ  \\\n",
       "0                  «да куда ж он делся-то, господи?»   setting  0.000000   \n",
       "1                         «дома, что ли-ча, лазарь?»   setting  0.000000   \n",
       "2  автор опять испуганно высовывается, но быстро ...     mixed  0.000000   \n",
       "3  автор хочет соединить руки коломбины и пьеро. ...   setting  0.142857   \n",
       "4       аграфена кондратьевна и липочка (разряженная  modifier  0.000000   \n",
       "\n",
       "       ADVB  INTJ      NOUN      PREP      VERB Manual type  \\\n",
       "0  0.000000   0.0  0.181818  0.000000  0.090909     unknown   \n",
       "1  0.000000   0.0  0.200000  0.000000  0.000000     unknown   \n",
       "2  0.166667   0.0  0.111111  0.055556  0.166667     unknown   \n",
       "3  0.081633   0.0  0.285714  0.081633  0.163265     unknown   \n",
       "4  0.000000   0.0  0.500000  0.000000  0.000000     unknown   \n",
       "\n",
       "                                               Verbs  \n",
       "0                                         [деваться]  \n",
       "1                                                 []  \n",
       "2               [высовываться, исчезать, оттягивать]  \n",
       "3  [хотеть, соединять, взвиваться, улетать, разбе...  \n",
       "4                                                 []  "
      ]
     },
     "execution_count": 35,
     "metadata": {},
     "output_type": "execute_result"
    }
   ],
   "source": [
    "df_unknown = copy(df)\n",
    "df_unknown[\"Manual type\"] = unknown_types\n",
    "verbs = [leave_out_verbs(direction) for direction in df_unknown[\"Text\"]]\n",
    "df_unknown[\"Verbs\"] = verbs\n",
    "df_unknown.head()"
   ]
  },
  {
   "cell_type": "code",
   "execution_count": 36,
   "metadata": {
    "scrolled": true
   },
   "outputs": [],
   "source": [
    "rule_types = []\n",
    "for direction_verbs in df_unknown[\"Verbs\"]:\n",
    "    str_verbs = [str(verb) for verb in direction_verbs]\n",
    "    rule_type = assign_tei_type(str_verbs, most_similar_entrance, most_similar_exit)\n",
    "    rule_types.append(rule_type)"
   ]
  },
  {
   "cell_type": "code",
   "execution_count": 37,
   "metadata": {
    "scrolled": true
   },
   "outputs": [
    {
     "data": {
      "text/html": [
       "<div>\n",
       "<style scoped>\n",
       "    .dataframe tbody tr th:only-of-type {\n",
       "        vertical-align: middle;\n",
       "    }\n",
       "\n",
       "    .dataframe tbody tr th {\n",
       "        vertical-align: top;\n",
       "    }\n",
       "\n",
       "    .dataframe thead th {\n",
       "        text-align: right;\n",
       "    }\n",
       "</style>\n",
       "<table border=\"1\" class=\"dataframe\">\n",
       "  <thead>\n",
       "    <tr style=\"text-align: right;\">\n",
       "      <th></th>\n",
       "      <th>Text</th>\n",
       "      <th>TEI type</th>\n",
       "      <th>ADJ</th>\n",
       "      <th>ADVB</th>\n",
       "      <th>INTJ</th>\n",
       "      <th>NOUN</th>\n",
       "      <th>PREP</th>\n",
       "      <th>VERB</th>\n",
       "      <th>Manual type</th>\n",
       "      <th>Verbs</th>\n",
       "      <th>Rule-based</th>\n",
       "    </tr>\n",
       "  </thead>\n",
       "  <tbody>\n",
       "    <tr>\n",
       "      <th>0</th>\n",
       "      <td>«да куда ж он делся-то, господи?»</td>\n",
       "      <td>setting</td>\n",
       "      <td>0.000000</td>\n",
       "      <td>0.000000</td>\n",
       "      <td>0.0</td>\n",
       "      <td>0.181818</td>\n",
       "      <td>0.000000</td>\n",
       "      <td>0.090909</td>\n",
       "      <td>unknown</td>\n",
       "      <td>[деваться]</td>\n",
       "      <td>exit</td>\n",
       "    </tr>\n",
       "    <tr>\n",
       "      <th>1</th>\n",
       "      <td>«дома, что ли-ча, лазарь?»</td>\n",
       "      <td>setting</td>\n",
       "      <td>0.000000</td>\n",
       "      <td>0.000000</td>\n",
       "      <td>0.0</td>\n",
       "      <td>0.200000</td>\n",
       "      <td>0.000000</td>\n",
       "      <td>0.000000</td>\n",
       "      <td>unknown</td>\n",
       "      <td>[]</td>\n",
       "      <td>unknown</td>\n",
       "    </tr>\n",
       "    <tr>\n",
       "      <th>2</th>\n",
       "      <td>автор опять испуганно высовывается, но быстро ...</td>\n",
       "      <td>mixed</td>\n",
       "      <td>0.000000</td>\n",
       "      <td>0.166667</td>\n",
       "      <td>0.0</td>\n",
       "      <td>0.111111</td>\n",
       "      <td>0.055556</td>\n",
       "      <td>0.166667</td>\n",
       "      <td>unknown</td>\n",
       "      <td>[высовываться, исчезать, оттягивать]</td>\n",
       "      <td>exit</td>\n",
       "    </tr>\n",
       "    <tr>\n",
       "      <th>3</th>\n",
       "      <td>автор хочет соединить руки коломбины и пьеро. ...</td>\n",
       "      <td>setting</td>\n",
       "      <td>0.142857</td>\n",
       "      <td>0.081633</td>\n",
       "      <td>0.0</td>\n",
       "      <td>0.285714</td>\n",
       "      <td>0.081633</td>\n",
       "      <td>0.163265</td>\n",
       "      <td>unknown</td>\n",
       "      <td>[хотеть, соединять, взвиваться, улетать, разбе...</td>\n",
       "      <td>exit</td>\n",
       "    </tr>\n",
       "    <tr>\n",
       "      <th>4</th>\n",
       "      <td>аграфена кондратьевна и липочка (разряженная</td>\n",
       "      <td>modifier</td>\n",
       "      <td>0.000000</td>\n",
       "      <td>0.000000</td>\n",
       "      <td>0.0</td>\n",
       "      <td>0.500000</td>\n",
       "      <td>0.000000</td>\n",
       "      <td>0.000000</td>\n",
       "      <td>unknown</td>\n",
       "      <td>[]</td>\n",
       "      <td>unknown</td>\n",
       "    </tr>\n",
       "  </tbody>\n",
       "</table>\n",
       "</div>"
      ],
      "text/plain": [
       "                                                Text  TEI type       ADJ  \\\n",
       "0                  «да куда ж он делся-то, господи?»   setting  0.000000   \n",
       "1                         «дома, что ли-ча, лазарь?»   setting  0.000000   \n",
       "2  автор опять испуганно высовывается, но быстро ...     mixed  0.000000   \n",
       "3  автор хочет соединить руки коломбины и пьеро. ...   setting  0.142857   \n",
       "4       аграфена кондратьевна и липочка (разряженная  modifier  0.000000   \n",
       "\n",
       "       ADVB  INTJ      NOUN      PREP      VERB Manual type  \\\n",
       "0  0.000000   0.0  0.181818  0.000000  0.090909     unknown   \n",
       "1  0.000000   0.0  0.200000  0.000000  0.000000     unknown   \n",
       "2  0.166667   0.0  0.111111  0.055556  0.166667     unknown   \n",
       "3  0.081633   0.0  0.285714  0.081633  0.163265     unknown   \n",
       "4  0.000000   0.0  0.500000  0.000000  0.000000     unknown   \n",
       "\n",
       "                                               Verbs Rule-based  \n",
       "0                                         [деваться]       exit  \n",
       "1                                                 []    unknown  \n",
       "2               [высовываться, исчезать, оттягивать]       exit  \n",
       "3  [хотеть, соединять, взвиваться, улетать, разбе...       exit  \n",
       "4                                                 []    unknown  "
      ]
     },
     "execution_count": 37,
     "metadata": {},
     "output_type": "execute_result"
    }
   ],
   "source": [
    "df_unknown[\"Rule-based\"] = get_rule_based_types(df_unknown[\"Verbs\"])\n",
    "df_unknown.head()"
   ]
  },
  {
   "cell_type": "markdown",
   "metadata": {},
   "source": [
    "**Finally:** checking the hypothesis."
   ]
  },
  {
   "cell_type": "code",
   "execution_count": 38,
   "metadata": {
    "scrolled": true
   },
   "outputs": [
    {
     "name": "stdout",
     "output_type": "stream",
     "text": [
      "              precision    recall  f1-score   support\n",
      "\n",
      "    entrance       0.84      0.09      0.17       336\n",
      "        exit       0.95      0.14      0.24       268\n",
      "     unknown       0.32      0.99      0.49       254\n",
      "\n",
      "   micro avg       0.37      0.37      0.37       858\n",
      "   macro avg       0.70      0.41      0.30       858\n",
      "weighted avg       0.72      0.37      0.28       858\n",
      "\n"
     ]
    }
   ],
   "source": [
    "print(classification_report(df_unknown[\"Rule-based\"], df_unknown[\"Manual type\"]))"
   ]
  },
  {
   "cell_type": "markdown",
   "metadata": {},
   "source": [
    "We have large recall yet small precision on the `entrance` and `exit`. Given that\n",
    "$$Recall = \\frac{True\\ positives}{True\\ positives + False\\ negatives},$$\n",
    "we have correctly assigined the majority of these directions.\n",
    "\n",
    "On the other hand, let's remember that\n",
    "$$Precision = \\frac{True\\ positives}{True\\ positives + False\\ positives},$$\n",
    "and apart from that, we have a very unbalanced data set where the other TEI types altogether are much more frequent than `entrance`+`exit`. Basically, our result means that we get a lot of false positives just because of the dataset size."
   ]
  }
 ],
 "metadata": {
  "kernelspec": {
   "display_name": "Python 3",
   "language": "python",
   "name": "python3"
  },
  "language_info": {
   "codemirror_mode": {
    "name": "ipython",
    "version": 3
   },
   "file_extension": ".py",
   "mimetype": "text/x-python",
   "name": "python",
   "nbconvert_exporter": "python",
   "pygments_lexer": "ipython3",
   "version": "3.7.1"
  }
 },
 "nbformat": 4,
 "nbformat_minor": 2
}
