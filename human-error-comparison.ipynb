{
 "cells": [
  {
   "cell_type": "markdown",
   "metadata": {},
   "source": [
    "# Humans vs. computers when annotating data\n",
    "\n",
    "We've got a classification tool with mean quality around 0,75 which means that we get 3 out of 4 plays placed correctly. That might seem to be a fair but not perfect result\\*. However, the humans are complicated creatures; our data to annotate is also complicated.\n",
    "\n",
    "I handed out the directions of several plays to 7 people with different backgrounds: among them were linguists, constructors, medical students. They all used our Annotation Guide and didn't discuss the types with each other. That means that at the end of the experiment I had 7 different annotations on each of the five chosen plays. \n",
    "\n",
    "This notebook is the comparison of their work to the annotation of my own. In order to understand the difference between different annotations, Cohen kappa is used. \n",
    "\n",
    "---\n",
    "\n",
    "> _Not great, not terrible._\n",
    "\n",
    "— Dyatlov, _Chernobyl_ (an HBO series)"
   ]
  },
  {
   "cell_type": "code",
   "execution_count": 1,
   "metadata": {},
   "outputs": [],
   "source": [
    "import pandas as pd\n",
    "import numpy as np\n",
    "\n",
    "from sklearn.metrics import cohen_kappa_score\n",
    "from statistics import mean"
   ]
  },
  {
   "cell_type": "markdown",
   "metadata": {},
   "source": [
    "## 1 &emsp; Preparation and builing helper functions\n",
    "\n",
    "### 1.1 &emsp; Variables with fixed lists\n",
    "\n",
    "First, let's fix **annotators' names** and play titles so that we'll be able to create file names on the go in a cycle loop.\n",
    "\n",
    "_Acknowledgement:_ I am extremely grateful to Anton B., Dasha K., Dasha M., Liza L., Olya P., Talgat K., and Vlada B. for making this part of research possible. Without you, this hypothesis and general idea would have never been possible."
   ]
  },
  {
   "cell_type": "code",
   "execution_count": 2,
   "metadata": {},
   "outputs": [],
   "source": [
    "annotators = [\"olya\", \"liza\", \"anton\", \"dashak\", \"dasham\", \"talgat\", \"vlada\"]"
   ]
  },
  {
   "cell_type": "markdown",
   "metadata": {},
   "source": [
    "Then, the **play titles**."
   ]
  },
  {
   "cell_type": "code",
   "execution_count": 3,
   "metadata": {},
   "outputs": [],
   "source": [
    "play_titles = [\"chekhov-chaika\", \"lermontov-maskarad\", \"fonvizin-nedorosl\",\n",
    "              \"ostrovsky-svoi-ljudi\", \"pushkin-boris-godunov\"]"
   ]
  },
  {
   "cell_type": "markdown",
   "metadata": {},
   "source": [
    "The final part: list of types we have chosen for classifying."
   ]
  },
  {
   "cell_type": "code",
   "execution_count": 4,
   "metadata": {},
   "outputs": [],
   "source": [
    "dir_original_types = [\"setting\", \"entrance\", \"exit\", \"business\", \"delivery\", \"modifier\", \"location\", \"unknown\"]"
   ]
  },
  {
   "cell_type": "markdown",
   "metadata": {},
   "source": [
    "### 1.2 &emsp; Helper functions to understand the code better"
   ]
  },
  {
   "cell_type": "markdown",
   "metadata": {},
   "source": [
    "First, we load the data of my annotation (we'll believe in general that my annotation, being a person with more experience and having created and written the rules, is to a certain degree closer to the gold standard).\n",
    "\n",
    "The algorithm for measuring the annotation agreement is:\n",
    "\n",
    "1) load the data of both \"gold\" annotation and the annotator,\n",
    "\n",
    "2) get the data on a certain direction type,\n",
    "\n",
    "3) measure it with Cohen kappa.\n",
    "\n",
    "This is done within `get_cohen_kappa`."
   ]
  },
  {
   "cell_type": "code",
   "execution_count": 5,
   "metadata": {},
   "outputs": [],
   "source": [
    "def get_cohen_kappa(original_path, check_annot_path, dtype):\n",
    "    \"\"\"Calculates a Cohen kappa for a given pair of annotations.\n",
    "    \n",
    "    :arg original_path — path to gold standard to measure \n",
    "    against;\n",
    "    :arg check_annot_path — path to annotator's work to check;\n",
    "    :arg dtype — (str) direction type to look at.\n",
    "    \n",
    "    :returns sklearn.cohen_kappa_score — the agreement measure for two\n",
    "    annotation instances\n",
    "    \"\"\"\n",
    "    original_annot = pd.read_csv(original_path, sep=\";\").fillna(0)\n",
    "    dtype_original_vals = original_annot[dtype].values\n",
    "    \n",
    "    check_annot = pd.read_csv(check_annot_path, sep=\"\\t\").fillna(0)\n",
    "    dtype_annot_vals = check_annot[dtype].values\n",
    "    \n",
    "    return cohen_kappa_score(dtype_original_vals, dtype_annot_vals)"
   ]
  },
  {
   "cell_type": "markdown",
   "metadata": {},
   "source": [
    "Secondly, we need to update the `overall_kappa` (see the description below) carefully."
   ]
  },
  {
   "cell_type": "code",
   "execution_count": 6,
   "metadata": {},
   "outputs": [],
   "source": [
    "def update_name_cohen_dict(name_cohen_dict, dtype, dtype_cohen):\n",
    "    \"\"\"Adds a new Cohen kappa corresponding to the direction type.\n",
    "    Is coded as a separate function to ease refactoring and prevent\n",
    "    double-adding the values.\n",
    "    \n",
    "    :arg name_cohen_dict — (dict [str: list of float]) the dictionary \n",
    "    to be updated. Contains the information on all types;\n",
    "    :arg dtype — (str) direction type being updated;\n",
    "    :arg dtype_cohen — (float) Cohen kappa for a given type of a fixed\n",
    "    annotator.\n",
    "    \n",
    "    :returns name_cohen_dict — updated dict from args.\n",
    "    \"\"\"\n",
    "    \n",
    "    current_val = name_cohen_dict[dtype]\n",
    "    name_cohen_dict[dtype] += [dtype_cohen]\n",
    "    \n",
    "    return name_cohen_dict"
   ]
  },
  {
   "cell_type": "markdown",
   "metadata": {},
   "source": [
    "`overall_kappa` is used to store information on names, plays, and their types. It's the most useful and comprehensive dict (or table, when converted to `pandas.DataFrame`) that is used for extracting pieces of data later."
   ]
  },
  {
   "cell_type": "code",
   "execution_count": 7,
   "metadata": {},
   "outputs": [],
   "source": [
    "overall_kappa = {dtype: [] for dtype in dir_original_types+[\"average\", \"name\", \"play\"]}"
   ]
  },
  {
   "cell_type": "markdown",
   "metadata": {},
   "source": [
    "## 2 &emsp; Assembling code, gathering data"
   ]
  },
  {
   "cell_type": "markdown",
   "metadata": {},
   "source": [
    "The most important part of work: calculating and assembling all the numbers."
   ]
  },
  {
   "cell_type": "code",
   "execution_count": 8,
   "metadata": {},
   "outputs": [
    {
     "name": "stdout",
     "output_type": "stream",
     "text": [
      "I'm working with chekhov-chaika\n",
      "I'm working now with data from: Olya\n",
      "I'm working with lermontov-maskarad\n",
      "I'm working now with data from: Olya\n",
      "I'm working with fonvizin-nedorosl\n",
      "I'm working now with data from: Olya\n",
      "I'm working with ostrovsky-svoi-ljudi\n",
      "I'm working now with data from: Olya\n",
      "I'm working with pushkin-boris-godunov\n",
      "I'm working now with data from: Olya\n"
     ]
    }
   ],
   "source": [
    "for play in play_titles:\n",
    "    print(\"I'm working with {}\".format(play))\n",
    "    for annotator in [\"olya\"]:\n",
    "        print(\"I'm working now with data from: {}\".format(annotator.title()))\n",
    "        \n",
    "        # loading original annotation\n",
    "        original_path = \"./hfi/{}.csv\".format(play)\n",
    "        # loading annotator's data\n",
    "        check_annot_path = \"./hfi/{}_{}.tsv\".format(annotator, play)\n",
    "        \n",
    "        annotator_kappas = []\n",
    "        for dtype in dir_original_types:\n",
    "            dtype_kappa = get_cohen_kappa(original_path, check_annot_path, dtype)\n",
    "            overall_kappa = update_name_cohen_dict(overall_kappa, dtype, dtype_kappa)\n",
    "            annotator_kappas.append(dtype_kappa)\n",
    "        \n",
    "        # update non-type fields\n",
    "        overall_kappa = update_name_cohen_dict(overall_kappa, \"name\", annotator)\n",
    "        overall_kappa = update_name_cohen_dict(overall_kappa, \"play\", play)\n",
    "        overall_kappa = update_name_cohen_dict(overall_kappa, \"average\", \n",
    "                                               mean(annotator_kappas))"
   ]
  },
  {
   "cell_type": "markdown",
   "metadata": {},
   "source": [
    "This is what we actually get as a result:"
   ]
  },
  {
   "cell_type": "code",
   "execution_count": 9,
   "metadata": {},
   "outputs": [
    {
     "data": {
      "text/html": [
       "<div>\n",
       "<style scoped>\n",
       "    .dataframe tbody tr th:only-of-type {\n",
       "        vertical-align: middle;\n",
       "    }\n",
       "\n",
       "    .dataframe tbody tr th {\n",
       "        vertical-align: top;\n",
       "    }\n",
       "\n",
       "    .dataframe thead th {\n",
       "        text-align: right;\n",
       "    }\n",
       "</style>\n",
       "<table border=\"1\" class=\"dataframe\">\n",
       "  <thead>\n",
       "    <tr style=\"text-align: right;\">\n",
       "      <th></th>\n",
       "      <th></th>\n",
       "      <th>setting</th>\n",
       "      <th>entrance</th>\n",
       "      <th>exit</th>\n",
       "      <th>business</th>\n",
       "      <th>delivery</th>\n",
       "      <th>modifier</th>\n",
       "      <th>location</th>\n",
       "      <th>unknown</th>\n",
       "      <th>average</th>\n",
       "    </tr>\n",
       "    <tr>\n",
       "      <th>name</th>\n",
       "      <th>play</th>\n",
       "      <th></th>\n",
       "      <th></th>\n",
       "      <th></th>\n",
       "      <th></th>\n",
       "      <th></th>\n",
       "      <th></th>\n",
       "      <th></th>\n",
       "      <th></th>\n",
       "      <th></th>\n",
       "    </tr>\n",
       "  </thead>\n",
       "  <tbody>\n",
       "    <tr>\n",
       "      <th rowspan=\"5\" valign=\"top\">olya</th>\n",
       "      <th>chekhov-chaika</th>\n",
       "      <td>0.402204</td>\n",
       "      <td>0.785461</td>\n",
       "      <td>0.827473</td>\n",
       "      <td>0.594374</td>\n",
       "      <td>0.746619</td>\n",
       "      <td>0.000000</td>\n",
       "      <td>0.318084</td>\n",
       "      <td>0.831257</td>\n",
       "      <td>0.563184</td>\n",
       "    </tr>\n",
       "    <tr>\n",
       "      <th>lermontov-maskarad</th>\n",
       "      <td>0.140995</td>\n",
       "      <td>0.134487</td>\n",
       "      <td>0.194148</td>\n",
       "      <td>0.273921</td>\n",
       "      <td>0.339127</td>\n",
       "      <td>0.000000</td>\n",
       "      <td>-0.008969</td>\n",
       "      <td>-0.008646</td>\n",
       "      <td>0.133133</td>\n",
       "    </tr>\n",
       "    <tr>\n",
       "      <th>fonvizin-nedorosl</th>\n",
       "      <td>0.000000</td>\n",
       "      <td>0.144934</td>\n",
       "      <td>0.865838</td>\n",
       "      <td>0.679283</td>\n",
       "      <td>0.669524</td>\n",
       "      <td>-0.023085</td>\n",
       "      <td>0.663776</td>\n",
       "      <td>1.000000</td>\n",
       "      <td>0.500034</td>\n",
       "    </tr>\n",
       "    <tr>\n",
       "      <th>ostrovsky-svoi-ljudi</th>\n",
       "      <td>0.070335</td>\n",
       "      <td>0.470152</td>\n",
       "      <td>0.955215</td>\n",
       "      <td>0.710591</td>\n",
       "      <td>0.882096</td>\n",
       "      <td>0.000000</td>\n",
       "      <td>0.430310</td>\n",
       "      <td>0.000000</td>\n",
       "      <td>0.439838</td>\n",
       "    </tr>\n",
       "    <tr>\n",
       "      <th>pushkin-boris-godunov</th>\n",
       "      <td>0.205630</td>\n",
       "      <td>0.560919</td>\n",
       "      <td>0.833702</td>\n",
       "      <td>0.745733</td>\n",
       "      <td>0.906496</td>\n",
       "      <td>0.000000</td>\n",
       "      <td>0.533875</td>\n",
       "      <td>1.000000</td>\n",
       "      <td>0.598294</td>\n",
       "    </tr>\n",
       "  </tbody>\n",
       "</table>\n",
       "</div>"
      ],
      "text/plain": [
       "                             setting  entrance      exit  business  delivery  \\\n",
       "name play                                                                      \n",
       "olya chekhov-chaika         0.402204  0.785461  0.827473  0.594374  0.746619   \n",
       "     lermontov-maskarad     0.140995  0.134487  0.194148  0.273921  0.339127   \n",
       "     fonvizin-nedorosl      0.000000  0.144934  0.865838  0.679283  0.669524   \n",
       "     ostrovsky-svoi-ljudi   0.070335  0.470152  0.955215  0.710591  0.882096   \n",
       "     pushkin-boris-godunov  0.205630  0.560919  0.833702  0.745733  0.906496   \n",
       "\n",
       "                            modifier  location   unknown   average  \n",
       "name play                                                           \n",
       "olya chekhov-chaika         0.000000  0.318084  0.831257  0.563184  \n",
       "     lermontov-maskarad     0.000000 -0.008969 -0.008646  0.133133  \n",
       "     fonvizin-nedorosl     -0.023085  0.663776  1.000000  0.500034  \n",
       "     ostrovsky-svoi-ljudi   0.000000  0.430310  0.000000  0.439838  \n",
       "     pushkin-boris-godunov  0.000000  0.533875  1.000000  0.598294  "
      ]
     },
     "execution_count": 9,
     "metadata": {},
     "output_type": "execute_result"
    }
   ],
   "source": [
    "df_names_plays = pd.DataFrame.from_dict(overall_kappa).set_index([\"name\", \"play\"])\n",
    "df_names_plays.head()"
   ]
  },
  {
   "cell_type": "markdown",
   "metadata": {},
   "source": [
    "## 3 &emsp; Formulating questions, proving hypotheses"
   ]
  },
  {
   "cell_type": "markdown",
   "metadata": {},
   "source": [
    "### 3.1 &emsp; How similar did an annotator generally perform on direction types?\n",
    "\n",
    "We could've asked _how well?_, but this is rather not the appropriate question regarding the fact we're exploring the human factor. In here, we need to calculate the mean values of Cohen kappa for all five plays.\n",
    "\n",
    "_Possible meaning:_ how explicit and unambiguous is our Annotation Guide?"
   ]
  },
  {
   "cell_type": "code",
   "execution_count": 10,
   "metadata": {},
   "outputs": [
    {
     "name": "stdout",
     "output_type": "stream",
     "text": [
      "setting \t 0.16383302956386156\n",
      "entrance \t 0.419190630851948\n",
      "exit \t 0.7352753048785889\n",
      "business \t 0.600780447905196\n",
      "delivery \t 0.7087724693394618\n",
      "modifier \t -0.00461707585196045\n",
      "location \t 0.38741547177893343\n",
      "unknown \t 0.564522228366418\n",
      "Overall mean:\t 0.4468965633540559\n"
     ]
    }
   ],
   "source": [
    "# forming a dict to store the data\n",
    "annotator_types = {dtype: [] for dtype in dir_original_types + [\"name\", \"overall\"]}\n",
    "\n",
    "for annotator in [\"Olya\"]: # will change this to \"annotators\" later when more data will be available\n",
    "    annotator_types[\"name\"] += [annotator]\n",
    "    types_list = []\n",
    "    for dtype in dir_original_types:\n",
    "        # grab all scores on a type of this annotator\n",
    "        annotators_on_type = df_names_plays[dtype]\n",
    "        # get its mean\n",
    "        type_mean = mean(annotators_on_type)\n",
    "        print(dtype, \"\\t\", type_mean)\n",
    "        # append it to the main infodict\n",
    "        annotator_types[dtype] += [type_mean]\n",
    "        # get the information on the annotator\n",
    "        types_list.append(type_mean)\n",
    "    # calculate the average on all types for a certain annotator\n",
    "    annotator_types[\"overall\"] += [mean(types_list)]\n",
    "    print(\"Overall mean:\\t\", mean(types_list))"
   ]
  },
  {
   "cell_type": "code",
   "execution_count": 11,
   "metadata": {},
   "outputs": [
    {
     "data": {
      "text/html": [
       "<div>\n",
       "<style scoped>\n",
       "    .dataframe tbody tr th:only-of-type {\n",
       "        vertical-align: middle;\n",
       "    }\n",
       "\n",
       "    .dataframe tbody tr th {\n",
       "        vertical-align: top;\n",
       "    }\n",
       "\n",
       "    .dataframe thead th {\n",
       "        text-align: right;\n",
       "    }\n",
       "</style>\n",
       "<table border=\"1\" class=\"dataframe\">\n",
       "  <thead>\n",
       "    <tr style=\"text-align: right;\">\n",
       "      <th></th>\n",
       "      <th>setting</th>\n",
       "      <th>entrance</th>\n",
       "      <th>exit</th>\n",
       "      <th>business</th>\n",
       "      <th>delivery</th>\n",
       "      <th>modifier</th>\n",
       "      <th>location</th>\n",
       "      <th>unknown</th>\n",
       "      <th>overall</th>\n",
       "    </tr>\n",
       "    <tr>\n",
       "      <th>name</th>\n",
       "      <th></th>\n",
       "      <th></th>\n",
       "      <th></th>\n",
       "      <th></th>\n",
       "      <th></th>\n",
       "      <th></th>\n",
       "      <th></th>\n",
       "      <th></th>\n",
       "      <th></th>\n",
       "    </tr>\n",
       "  </thead>\n",
       "  <tbody>\n",
       "    <tr>\n",
       "      <th>Olya</th>\n",
       "      <td>0.163833</td>\n",
       "      <td>0.419191</td>\n",
       "      <td>0.735275</td>\n",
       "      <td>0.60078</td>\n",
       "      <td>0.708772</td>\n",
       "      <td>-0.004617</td>\n",
       "      <td>0.387415</td>\n",
       "      <td>0.564522</td>\n",
       "      <td>0.446897</td>\n",
       "    </tr>\n",
       "  </tbody>\n",
       "</table>\n",
       "</div>"
      ],
      "text/plain": [
       "       setting  entrance      exit  business  delivery  modifier  location  \\\n",
       "name                                                                         \n",
       "Olya  0.163833  0.419191  0.735275   0.60078  0.708772 -0.004617  0.387415   \n",
       "\n",
       "       unknown   overall  \n",
       "name                      \n",
       "Olya  0.564522  0.446897  "
      ]
     },
     "execution_count": 11,
     "metadata": {},
     "output_type": "execute_result"
    }
   ],
   "source": [
    "pd.DataFrame.from_dict(annotator_types).set_index(\"name\")"
   ]
  },
  {
   "cell_type": "markdown",
   "metadata": {},
   "source": [
    "### 3.2 &emsp; How similar did our annotators generally perform on a certain play?\n",
    "\n",
    "Vice versa study; now we focus on plays instead of people.\n",
    "\n",
    "_Possible meaning:_ how really different different opinions on the same directions are."
   ]
  },
  {
   "cell_type": "code",
   "execution_count": null,
   "metadata": {},
   "outputs": [],
   "source": [
    "# this is kinda more complicated, TDB"
   ]
  }
 ],
 "metadata": {
  "kernelspec": {
   "display_name": "Python 3",
   "language": "python",
   "name": "python3"
  },
  "language_info": {
   "codemirror_mode": {
    "name": "ipython",
    "version": 3
   },
   "file_extension": ".py",
   "mimetype": "text/x-python",
   "name": "python",
   "nbconvert_exporter": "python",
   "pygments_lexer": "ipython3",
   "version": "3.6.8"
  }
 },
 "nbformat": 4,
 "nbformat_minor": 2
}
