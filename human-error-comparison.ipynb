{
 "cells": [
  {
   "cell_type": "markdown",
   "metadata": {},
   "source": [
    "# Humans vs. computers when annotating data\n",
    "\n",
    "We've got a classification tool with mean quality around 0,75 which means that we get 3 out of 4 plays placed correctly. That might seem to be a fair but not perfect result\\*. However, the humans are complicated creatures; our data to annotate is also complicated.\n",
    "\n",
    "I handed out the directions of several plays to 7 people with different backgrounds: among them were linguists, constructors, medical students. They all used our Annotation Guide and didn't discuss the types with each other. That means that at the end of the experiment I had 7 different annotations on each of the five chosen plays. \n",
    "\n",
    "This notebook is the comparison of their work to the annotation of my own. In order to understand the difference between different annotations, Cohen kappa is used. \n",
    "\n",
    "---\n",
    "\n",
    "> _Not great, not terrible._\n",
    "\n",
    "— Anatoly Dyatlov, _Chernobyl_ (an HBO series)"
   ]
  },
  {
   "cell_type": "code",
   "execution_count": 1,
   "metadata": {},
   "outputs": [],
   "source": [
    "import pandas as pd\n",
    "import numpy as np\n",
    "\n",
    "from sklearn.metrics import cohen_kappa_score\n",
    "from statistics import mean"
   ]
  },
  {
   "cell_type": "markdown",
   "metadata": {},
   "source": [
    "## 1 &emsp; Preparation and builing helper functions\n",
    "\n",
    "### 1.1 &emsp; Variables with fixed lists\n",
    "\n",
    "First, let's fix **annotators' names** and play titles so that we'll be able to create file names on the go in a cycle loop.\n",
    "\n",
    "_Acknowledgement:_ I am extremely grateful to Anton B., Darya K., Daria M., Elizaveta L., Olga P., and Vlada B. for making this part of research possible. Without you, this hypothesis and general idea would have never been possible."
   ]
  },
  {
   "cell_type": "code",
   "execution_count": 2,
   "metadata": {},
   "outputs": [],
   "source": [
    "annotators = [\"OP\", \"EL\", \"AB\", \"DK\", \"VB\"]"
   ]
  },
  {
   "cell_type": "markdown",
   "metadata": {},
   "source": [
    "Then, the **play titles**."
   ]
  },
  {
   "cell_type": "code",
   "execution_count": 3,
   "metadata": {},
   "outputs": [],
   "source": [
    "play_titles = [\"chekhov-chaika\", \"lermontov-maskarad\", \"fonvizin-nedorosl\",\n",
    "              \"ostrovsky-svoi-ljudi\", \"pushkin-boris-godunov\"]"
   ]
  },
  {
   "cell_type": "markdown",
   "metadata": {},
   "source": [
    "The final part: list of types we have chosen for classifying."
   ]
  },
  {
   "cell_type": "code",
   "execution_count": 4,
   "metadata": {},
   "outputs": [],
   "source": [
    "dir_original_types = [\"setting\", \"entrance\", \"exit\", \"business\", \"delivery\", \n",
    "                      \"modifier\", \"location\"]"
   ]
  },
  {
   "cell_type": "markdown",
   "metadata": {},
   "source": [
    "### 1.2 &emsp; Helper functions to understand the code better"
   ]
  },
  {
   "cell_type": "markdown",
   "metadata": {},
   "source": [
    "First, we load the data of my annotation (we'll believe in general that my annotation, being a person with more experience and having created and written the rules, is to a certain degree closer to the gold standard).\n",
    "\n",
    "The algorithm for measuring the annotation agreement is:\n",
    "\n",
    "1) load the data of both \"gold\" annotation and the annotator,\n",
    "\n",
    "2) get the data on a certain direction type,\n",
    "\n",
    "3) measure it with Cohen kappa.\n",
    "\n",
    "This is done within `get_cohen_kappa`."
   ]
  },
  {
   "cell_type": "code",
   "execution_count": 5,
   "metadata": {},
   "outputs": [],
   "source": [
    "def get_cohen_kappa(original_path, check_annot_path, dtype):\n",
    "    \"\"\"Calculates a Cohen kappa for a given pair of annotations.\n",
    "    \n",
    "    :arg original_path — path to gold standard to measure \n",
    "    against;\n",
    "    :arg check_annot_path — path to annotator's work to check;\n",
    "    :arg dtype — (str) direction type to look at.\n",
    "    \n",
    "    :returns sklearn.cohen_kappa_score — the agreement measure for two\n",
    "    annotation instances\n",
    "    \"\"\"\n",
    "    original_annot = pd.read_csv(original_path, sep=\";\").fillna(0)\n",
    "    dtype_original_vals = original_annot[dtype].values\n",
    "    \n",
    "    check_annot = pd.read_csv(check_annot_path, sep=\"\\t\").fillna(0)\n",
    "    dtype_annot_vals = check_annot[dtype].values\n",
    "    \n",
    "    return cohen_kappa_score(dtype_original_vals, dtype_annot_vals)"
   ]
  },
  {
   "cell_type": "markdown",
   "metadata": {},
   "source": [
    "Secondly, we need to update the `overall_kappa` (see the description below) carefully."
   ]
  },
  {
   "cell_type": "code",
   "execution_count": 6,
   "metadata": {},
   "outputs": [],
   "source": [
    "def update_name_cohen_dict(name_cohen_dict, dtype, dtype_cohen):\n",
    "    \"\"\"Adds a new Cohen kappa corresponding to the direction type.\n",
    "    Is coded as a separate function to ease refactoring and prevent\n",
    "    double-adding the values.\n",
    "    \n",
    "    :arg name_cohen_dict — (dict [str: list of float]) the dictionary \n",
    "    to be updated. Contains the information on all types;\n",
    "    :arg dtype — (str) direction type being updated;\n",
    "    :arg dtype_cohen — (float) Cohen kappa for a given type of a fixed\n",
    "    annotator.\n",
    "    \n",
    "    :returns name_cohen_dict — updated dict from args.\n",
    "    \"\"\"\n",
    "    \n",
    "    current_val = name_cohen_dict[dtype]\n",
    "    name_cohen_dict[dtype] += [dtype_cohen]\n",
    "    \n",
    "    return name_cohen_dict"
   ]
  },
  {
   "cell_type": "markdown",
   "metadata": {},
   "source": [
    "`overall_kappa` is used to store information on names, plays, and their types. It's the most useful and comprehensive dict (or table, when converted to `pandas.DataFrame`) that is used for extracting pieces of data later."
   ]
  },
  {
   "cell_type": "code",
   "execution_count": 40,
   "metadata": {},
   "outputs": [],
   "source": [
    "overall_kappa = {dtype: [] for dtype in dir_original_types+[\"average\", \"name\", \"play\"]}"
   ]
  },
  {
   "cell_type": "markdown",
   "metadata": {},
   "source": [
    "## 2 &emsp; Assembling code, gathering data"
   ]
  },
  {
   "cell_type": "markdown",
   "metadata": {},
   "source": [
    "The most important part of work: calculating and assembling all the numbers."
   ]
  },
  {
   "cell_type": "code",
   "execution_count": 41,
   "metadata": {},
   "outputs": [
    {
     "name": "stdout",
     "output_type": "stream",
     "text": [
      "I'm working with chekhov-chaika\n",
      "I'm working now with data from: OP\n",
      "I'm working now with data from: EL\n",
      "I'm working now with data from: AB\n",
      "I'm working now with data from: DK\n",
      "I'm working now with data from: VB\n",
      "I'm working with lermontov-maskarad\n",
      "I'm working now with data from: OP\n",
      "I'm working now with data from: EL\n",
      "I'm working now with data from: AB\n",
      "I'm working now with data from: DK\n",
      "I'm working now with data from: VB\n",
      "I'm working with fonvizin-nedorosl\n",
      "I'm working now with data from: OP\n",
      "I'm working now with data from: EL\n",
      "I'm working now with data from: AB\n",
      "I'm working now with data from: DK\n",
      "I'm working now with data from: VB\n",
      "I'm working with ostrovsky-svoi-ljudi\n",
      "I'm working now with data from: OP\n",
      "I'm working now with data from: EL\n",
      "I'm working now with data from: AB\n",
      "I'm working now with data from: DK\n",
      "I'm working now with data from: VB\n",
      "I'm working with pushkin-boris-godunov\n",
      "I'm working now with data from: OP\n",
      "I'm working now with data from: EL\n",
      "I'm working now with data from: AB\n",
      "I'm working now with data from: DK\n",
      "I'm working now with data from: VB\n"
     ]
    }
   ],
   "source": [
    "for play in play_titles:\n",
    "    print(\"I'm working with {}\".format(play))\n",
    "    for annotator in annotators:\n",
    "        try:\n",
    "            print(\"I'm working now with data from: {}\".format(annotator))\n",
    "\n",
    "            # loading original annotation\n",
    "            original_path = \"./hfi/{}.csv\".format(play)\n",
    "            # loading annotator's data\n",
    "            check_annot_path = \"./hfi/{}_{}.tsv\".format(annotator, play)\n",
    "\n",
    "            annotator_kappas = []\n",
    "            for dtype in dir_original_types:\n",
    "                dtype_kappa = get_cohen_kappa(original_path, check_annot_path, dtype)\n",
    "                overall_kappa = update_name_cohen_dict(overall_kappa, dtype, dtype_kappa)\n",
    "                annotator_kappas.append(dtype_kappa)\n",
    "\n",
    "            # update non-type fields\n",
    "            overall_kappa = update_name_cohen_dict(overall_kappa, \"name\", annotator)\n",
    "            overall_kappa = update_name_cohen_dict(overall_kappa, \"play\", play)\n",
    "            overall_kappa = update_name_cohen_dict(overall_kappa, \"average\", \n",
    "                                                   mean(annotator_kappas))\n",
    "        except:\n",
    "            pass"
   ]
  },
  {
   "cell_type": "markdown",
   "metadata": {},
   "source": [
    "This is what we actually get as a result:"
   ]
  },
  {
   "cell_type": "code",
   "execution_count": 42,
   "metadata": {},
   "outputs": [
    {
     "data": {
      "text/html": [
       "<div>\n",
       "<style scoped>\n",
       "    .dataframe tbody tr th:only-of-type {\n",
       "        vertical-align: middle;\n",
       "    }\n",
       "\n",
       "    .dataframe tbody tr th {\n",
       "        vertical-align: top;\n",
       "    }\n",
       "\n",
       "    .dataframe thead th {\n",
       "        text-align: right;\n",
       "    }\n",
       "</style>\n",
       "<table border=\"1\" class=\"dataframe\">\n",
       "  <thead>\n",
       "    <tr style=\"text-align: right;\">\n",
       "      <th></th>\n",
       "      <th>setting</th>\n",
       "      <th>entrance</th>\n",
       "      <th>exit</th>\n",
       "      <th>business</th>\n",
       "      <th>delivery</th>\n",
       "      <th>modifier</th>\n",
       "      <th>location</th>\n",
       "      <th>average</th>\n",
       "      <th>name</th>\n",
       "      <th>play</th>\n",
       "    </tr>\n",
       "  </thead>\n",
       "  <tbody>\n",
       "    <tr>\n",
       "      <th>0</th>\n",
       "      <td>0.709531</td>\n",
       "      <td>0.832381</td>\n",
       "      <td>0.759423</td>\n",
       "      <td>0.937293</td>\n",
       "      <td>0.920806</td>\n",
       "      <td>0.0</td>\n",
       "      <td>0.754450</td>\n",
       "      <td>0.701984</td>\n",
       "      <td>OP</td>\n",
       "      <td>chekhov-chaika</td>\n",
       "    </tr>\n",
       "    <tr>\n",
       "      <th>1</th>\n",
       "      <td>0.829584</td>\n",
       "      <td>0.890884</td>\n",
       "      <td>0.896484</td>\n",
       "      <td>0.953079</td>\n",
       "      <td>0.963660</td>\n",
       "      <td>0.0</td>\n",
       "      <td>0.809639</td>\n",
       "      <td>0.763333</td>\n",
       "      <td>EL</td>\n",
       "      <td>chekhov-chaika</td>\n",
       "    </tr>\n",
       "    <tr>\n",
       "      <th>2</th>\n",
       "      <td>0.829584</td>\n",
       "      <td>0.970686</td>\n",
       "      <td>0.884479</td>\n",
       "      <td>0.953508</td>\n",
       "      <td>0.949124</td>\n",
       "      <td>0.0</td>\n",
       "      <td>0.790451</td>\n",
       "      <td>0.768262</td>\n",
       "      <td>AB</td>\n",
       "      <td>chekhov-chaika</td>\n",
       "    </tr>\n",
       "    <tr>\n",
       "      <th>3</th>\n",
       "      <td>0.731597</td>\n",
       "      <td>0.824714</td>\n",
       "      <td>0.823577</td>\n",
       "      <td>0.937002</td>\n",
       "      <td>0.906407</td>\n",
       "      <td>0.0</td>\n",
       "      <td>0.754450</td>\n",
       "      <td>0.711107</td>\n",
       "      <td>DK</td>\n",
       "      <td>chekhov-chaika</td>\n",
       "    </tr>\n",
       "    <tr>\n",
       "      <th>4</th>\n",
       "      <td>0.900389</td>\n",
       "      <td>0.942795</td>\n",
       "      <td>0.964417</td>\n",
       "      <td>0.984287</td>\n",
       "      <td>0.942674</td>\n",
       "      <td>0.0</td>\n",
       "      <td>0.895641</td>\n",
       "      <td>0.804315</td>\n",
       "      <td>VB</td>\n",
       "      <td>chekhov-chaika</td>\n",
       "    </tr>\n",
       "  </tbody>\n",
       "</table>\n",
       "</div>"
      ],
      "text/plain": [
       "    setting  entrance      exit  business  delivery  modifier  location  \\\n",
       "0  0.709531  0.832381  0.759423  0.937293  0.920806       0.0  0.754450   \n",
       "1  0.829584  0.890884  0.896484  0.953079  0.963660       0.0  0.809639   \n",
       "2  0.829584  0.970686  0.884479  0.953508  0.949124       0.0  0.790451   \n",
       "3  0.731597  0.824714  0.823577  0.937002  0.906407       0.0  0.754450   \n",
       "4  0.900389  0.942795  0.964417  0.984287  0.942674       0.0  0.895641   \n",
       "\n",
       "    average name            play  \n",
       "0  0.701984   OP  chekhov-chaika  \n",
       "1  0.763333   EL  chekhov-chaika  \n",
       "2  0.768262   AB  chekhov-chaika  \n",
       "3  0.711107   DK  chekhov-chaika  \n",
       "4  0.804315   VB  chekhov-chaika  "
      ]
     },
     "execution_count": 42,
     "metadata": {},
     "output_type": "execute_result"
    }
   ],
   "source": [
    "df_names_plays = pd.DataFrame.from_dict(overall_kappa)\n",
    "df_names_plays.head()"
   ]
  },
  {
   "cell_type": "markdown",
   "metadata": {},
   "source": [
    "## 3 &emsp; Formulating questions, proving hypotheses"
   ]
  },
  {
   "cell_type": "markdown",
   "metadata": {},
   "source": [
    "### 3.1 &emsp; How similar did an annotator generally perform on direction types?\n",
    "\n",
    "We could've asked _how well?_, but this is rather not the appropriate question regarding the fact we're exploring the human factor. In here, we need to calculate the mean values of Cohen kappa for all five plays.\n",
    "\n",
    "_Possible meaning:_ how explicit and unambiguous is our Annotation Guide?"
   ]
  },
  {
   "cell_type": "code",
   "execution_count": 43,
   "metadata": {},
   "outputs": [],
   "source": [
    "annotator_types = {dtype: [] for dtype in dir_original_types}\n",
    "annotator_types[\"name\"] = annotators\n",
    "annotator_types[\"average\"] = []\n",
    "\n",
    "for annotator in annotators:\n",
    "    an_av = []\n",
    "    for dtype in dir_original_types:\n",
    "        type_mean = mean(df_names_plays[df_names_plays[\"name\"] == annotator][dtype])\n",
    "        annotator_types[dtype].append(type_mean)\n",
    "        an_av.append(type_mean)\n",
    "    annotator_types[\"average\"].append(mean(an_av))"
   ]
  },
  {
   "cell_type": "code",
   "execution_count": 44,
   "metadata": {},
   "outputs": [
    {
     "data": {
      "text/html": [
       "<div>\n",
       "<style scoped>\n",
       "    .dataframe tbody tr th:only-of-type {\n",
       "        vertical-align: middle;\n",
       "    }\n",
       "\n",
       "    .dataframe tbody tr th {\n",
       "        vertical-align: top;\n",
       "    }\n",
       "\n",
       "    .dataframe thead th {\n",
       "        text-align: right;\n",
       "    }\n",
       "</style>\n",
       "<table border=\"1\" class=\"dataframe\">\n",
       "  <thead>\n",
       "    <tr style=\"text-align: right;\">\n",
       "      <th></th>\n",
       "      <th>setting</th>\n",
       "      <th>entrance</th>\n",
       "      <th>exit</th>\n",
       "      <th>business</th>\n",
       "      <th>delivery</th>\n",
       "      <th>modifier</th>\n",
       "      <th>location</th>\n",
       "      <th>name</th>\n",
       "      <th>average</th>\n",
       "    </tr>\n",
       "  </thead>\n",
       "  <tbody>\n",
       "    <tr>\n",
       "      <th>0</th>\n",
       "      <td>0.522668</td>\n",
       "      <td>0.898695</td>\n",
       "      <td>0.837279</td>\n",
       "      <td>0.942410</td>\n",
       "      <td>0.862137</td>\n",
       "      <td>0.136314</td>\n",
       "      <td>0.572226</td>\n",
       "      <td>OP</td>\n",
       "      <td>0.681676</td>\n",
       "    </tr>\n",
       "    <tr>\n",
       "      <th>1</th>\n",
       "      <td>0.403380</td>\n",
       "      <td>0.688436</td>\n",
       "      <td>0.632883</td>\n",
       "      <td>0.720664</td>\n",
       "      <td>0.690525</td>\n",
       "      <td>0.112943</td>\n",
       "      <td>0.362250</td>\n",
       "      <td>EL</td>\n",
       "      <td>0.515869</td>\n",
       "    </tr>\n",
       "    <tr>\n",
       "      <th>2</th>\n",
       "      <td>0.637044</td>\n",
       "      <td>0.872740</td>\n",
       "      <td>0.823291</td>\n",
       "      <td>0.908457</td>\n",
       "      <td>0.887004</td>\n",
       "      <td>0.035186</td>\n",
       "      <td>0.649284</td>\n",
       "      <td>AB</td>\n",
       "      <td>0.687572</td>\n",
       "    </tr>\n",
       "    <tr>\n",
       "      <th>3</th>\n",
       "      <td>0.613673</td>\n",
       "      <td>0.932481</td>\n",
       "      <td>0.923760</td>\n",
       "      <td>0.970391</td>\n",
       "      <td>0.945486</td>\n",
       "      <td>0.170561</td>\n",
       "      <td>0.751666</td>\n",
       "      <td>DK</td>\n",
       "      <td>0.758288</td>\n",
       "    </tr>\n",
       "    <tr>\n",
       "      <th>4</th>\n",
       "      <td>0.596763</td>\n",
       "      <td>0.947439</td>\n",
       "      <td>0.941545</td>\n",
       "      <td>0.969571</td>\n",
       "      <td>0.943517</td>\n",
       "      <td>0.170561</td>\n",
       "      <td>0.701279</td>\n",
       "      <td>VB</td>\n",
       "      <td>0.752954</td>\n",
       "    </tr>\n",
       "  </tbody>\n",
       "</table>\n",
       "</div>"
      ],
      "text/plain": [
       "    setting  entrance      exit  business  delivery  modifier  location name  \\\n",
       "0  0.522668  0.898695  0.837279  0.942410  0.862137  0.136314  0.572226   OP   \n",
       "1  0.403380  0.688436  0.632883  0.720664  0.690525  0.112943  0.362250   EL   \n",
       "2  0.637044  0.872740  0.823291  0.908457  0.887004  0.035186  0.649284   AB   \n",
       "3  0.613673  0.932481  0.923760  0.970391  0.945486  0.170561  0.751666   DK   \n",
       "4  0.596763  0.947439  0.941545  0.969571  0.943517  0.170561  0.701279   VB   \n",
       "\n",
       "    average  \n",
       "0  0.681676  \n",
       "1  0.515869  \n",
       "2  0.687572  \n",
       "3  0.758288  \n",
       "4  0.752954  "
      ]
     },
     "execution_count": 44,
     "metadata": {},
     "output_type": "execute_result"
    }
   ],
   "source": [
    "pd.DataFrame.from_dict(annotator_types)"
   ]
  },
  {
   "cell_type": "markdown",
   "metadata": {},
   "source": [
    "### 3.2 &emsp; How similar did our annotators generally perform on a certain play?\n",
    "\n",
    "Vice versa study; now we focus on plays instead of people.\n",
    "\n",
    "_Possible meaning:_ how really different different opinions on the same directions are."
   ]
  },
  {
   "cell_type": "code",
   "execution_count": 70,
   "metadata": {},
   "outputs": [],
   "source": [
    "play_efficiency = {annotator: [] for annotator in annotators}\n",
    "play_efficiency[\"title\"] = play_titles\n",
    "play_efficiency[\"average\"] = []\n",
    "\n",
    "for play in play_titles:\n",
    "    av = []\n",
    "    for annotator in annotators:\n",
    "        play_an = df_names_plays[(df_names_plays[\"play\"] == play) \n",
    "                                 & (df_names_plays[\"name\"] == annotator)][\"average\"].values[0]\n",
    "        play_efficiency[annotator].append(play_an)\n",
    "        av.append(play_an)\n",
    "    play_efficiency[\"average\"].append(mean(av))"
   ]
  },
  {
   "cell_type": "code",
   "execution_count": 71,
   "metadata": {},
   "outputs": [
    {
     "data": {
      "text/html": [
       "<div>\n",
       "<style scoped>\n",
       "    .dataframe tbody tr th:only-of-type {\n",
       "        vertical-align: middle;\n",
       "    }\n",
       "\n",
       "    .dataframe tbody tr th {\n",
       "        vertical-align: top;\n",
       "    }\n",
       "\n",
       "    .dataframe thead th {\n",
       "        text-align: right;\n",
       "    }\n",
       "</style>\n",
       "<table border=\"1\" class=\"dataframe\">\n",
       "  <thead>\n",
       "    <tr style=\"text-align: right;\">\n",
       "      <th></th>\n",
       "      <th>OP</th>\n",
       "      <th>EL</th>\n",
       "      <th>AB</th>\n",
       "      <th>DK</th>\n",
       "      <th>VB</th>\n",
       "      <th>title</th>\n",
       "      <th>average</th>\n",
       "    </tr>\n",
       "  </thead>\n",
       "  <tbody>\n",
       "    <tr>\n",
       "      <th>0</th>\n",
       "      <td>0.701984</td>\n",
       "      <td>0.763333</td>\n",
       "      <td>0.768262</td>\n",
       "      <td>0.711107</td>\n",
       "      <td>0.804315</td>\n",
       "      <td>chekhov-chaika</td>\n",
       "      <td>0.749800</td>\n",
       "    </tr>\n",
       "    <tr>\n",
       "      <th>1</th>\n",
       "      <td>0.687754</td>\n",
       "      <td>0.697744</td>\n",
       "      <td>0.767136</td>\n",
       "      <td>0.697687</td>\n",
       "      <td>0.705687</td>\n",
       "      <td>lermontov-maskarad</td>\n",
       "      <td>0.711202</td>\n",
       "    </tr>\n",
       "    <tr>\n",
       "      <th>2</th>\n",
       "      <td>0.697059</td>\n",
       "      <td>0.597714</td>\n",
       "      <td>0.344511</td>\n",
       "      <td>0.787997</td>\n",
       "      <td>0.753856</td>\n",
       "      <td>fonvizin-nedorosl</td>\n",
       "      <td>0.636227</td>\n",
       "    </tr>\n",
       "    <tr>\n",
       "      <th>3</th>\n",
       "      <td>0.551704</td>\n",
       "      <td>-0.013270</td>\n",
       "      <td>0.752463</td>\n",
       "      <td>0.791393</td>\n",
       "      <td>0.736823</td>\n",
       "      <td>ostrovsky-svoi-ljudi</td>\n",
       "      <td>0.563823</td>\n",
       "    </tr>\n",
       "    <tr>\n",
       "      <th>4</th>\n",
       "      <td>0.769878</td>\n",
       "      <td>0.533822</td>\n",
       "      <td>0.805490</td>\n",
       "      <td>0.803257</td>\n",
       "      <td>0.764087</td>\n",
       "      <td>pushkin-boris-godunov</td>\n",
       "      <td>0.735307</td>\n",
       "    </tr>\n",
       "  </tbody>\n",
       "</table>\n",
       "</div>"
      ],
      "text/plain": [
       "         OP        EL        AB        DK        VB                  title  \\\n",
       "0  0.701984  0.763333  0.768262  0.711107  0.804315         chekhov-chaika   \n",
       "1  0.687754  0.697744  0.767136  0.697687  0.705687     lermontov-maskarad   \n",
       "2  0.697059  0.597714  0.344511  0.787997  0.753856      fonvizin-nedorosl   \n",
       "3  0.551704 -0.013270  0.752463  0.791393  0.736823   ostrovsky-svoi-ljudi   \n",
       "4  0.769878  0.533822  0.805490  0.803257  0.764087  pushkin-boris-godunov   \n",
       "\n",
       "    average  \n",
       "0  0.749800  \n",
       "1  0.711202  \n",
       "2  0.636227  \n",
       "3  0.563823  \n",
       "4  0.735307  "
      ]
     },
     "execution_count": 71,
     "metadata": {},
     "output_type": "execute_result"
    }
   ],
   "source": [
    "pd.DataFrame.from_dict(play_efficiency)"
   ]
  }
 ],
 "metadata": {
  "kernelspec": {
   "display_name": "Python 3",
   "language": "python",
   "name": "python3"
  },
  "language_info": {
   "codemirror_mode": {
    "name": "ipython",
    "version": 3
   },
   "file_extension": ".py",
   "mimetype": "text/x-python",
   "name": "python",
   "nbconvert_exporter": "python",
   "pygments_lexer": "ipython3",
   "version": "3.6.8"
  }
 },
 "nbformat": 4,
 "nbformat_minor": 2
}
