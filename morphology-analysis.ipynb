{
 "cells": [
  {
   "cell_type": "markdown",
   "metadata": {},
   "source": [
    "# Morphology data analysis based on TEI types"
   ]
  },
  {
   "cell_type": "code",
   "execution_count": 1,
   "metadata": {},
   "outputs": [],
   "source": [
    "from statistics import mean\n",
    "\n",
    "import os\n",
    "\n",
    "import matplotlib.pyplot as plt\n",
    "import numpy as np\n",
    "import pandas as pd"
   ]
  },
  {
   "cell_type": "code",
   "execution_count": 2,
   "metadata": {},
   "outputs": [],
   "source": [
    "%matplotlib inline"
   ]
  },
  {
   "cell_type": "markdown",
   "metadata": {},
   "source": [
    "## 1 &emsp; Data collection and transformation"
   ]
  },
  {
   "cell_type": "markdown",
   "metadata": {},
   "source": [
    "Data from previous year research:"
   ]
  },
  {
   "cell_type": "code",
   "execution_count": 3,
   "metadata": {},
   "outputs": [
    {
     "data": {
      "text/html": [
       "<div>\n",
       "<style scoped>\n",
       "    .dataframe tbody tr th:only-of-type {\n",
       "        vertical-align: middle;\n",
       "    }\n",
       "\n",
       "    .dataframe tbody tr th {\n",
       "        vertical-align: top;\n",
       "    }\n",
       "\n",
       "    .dataframe thead th {\n",
       "        text-align: right;\n",
       "    }\n",
       "</style>\n",
       "<table border=\"1\" class=\"dataframe\">\n",
       "  <thead>\n",
       "    <tr style=\"text-align: right;\">\n",
       "      <th></th>\n",
       "      <th>Text</th>\n",
       "      <th>TEI type</th>\n",
       "      <th>ADJ</th>\n",
       "      <th>ADVB</th>\n",
       "      <th>INTJ</th>\n",
       "      <th>NOUN</th>\n",
       "      <th>PREP</th>\n",
       "      <th>VERB</th>\n",
       "    </tr>\n",
       "  </thead>\n",
       "  <tbody>\n",
       "    <tr>\n",
       "      <th>0</th>\n",
       "      <td>«да куда ж он делся-то, господи?»</td>\n",
       "      <td>setting</td>\n",
       "      <td>0.000000</td>\n",
       "      <td>0.000000</td>\n",
       "      <td>0.0</td>\n",
       "      <td>0.181818</td>\n",
       "      <td>0.000000</td>\n",
       "      <td>0.090909</td>\n",
       "    </tr>\n",
       "    <tr>\n",
       "      <th>1</th>\n",
       "      <td>«дома, что ли-ча, лазарь?»</td>\n",
       "      <td>setting</td>\n",
       "      <td>0.000000</td>\n",
       "      <td>0.000000</td>\n",
       "      <td>0.0</td>\n",
       "      <td>0.200000</td>\n",
       "      <td>0.000000</td>\n",
       "      <td>0.000000</td>\n",
       "    </tr>\n",
       "    <tr>\n",
       "      <th>2</th>\n",
       "      <td>автор опять испуганно высовывается, но быстро ...</td>\n",
       "      <td>mixed</td>\n",
       "      <td>0.000000</td>\n",
       "      <td>0.166667</td>\n",
       "      <td>0.0</td>\n",
       "      <td>0.111111</td>\n",
       "      <td>0.055556</td>\n",
       "      <td>0.166667</td>\n",
       "    </tr>\n",
       "    <tr>\n",
       "      <th>3</th>\n",
       "      <td>автор хочет соединить руки коломбины и пьеро. ...</td>\n",
       "      <td>setting</td>\n",
       "      <td>0.142857</td>\n",
       "      <td>0.081633</td>\n",
       "      <td>0.0</td>\n",
       "      <td>0.285714</td>\n",
       "      <td>0.081633</td>\n",
       "      <td>0.163265</td>\n",
       "    </tr>\n",
       "    <tr>\n",
       "      <th>4</th>\n",
       "      <td>аграфена кондратьевна и липочка (разряженная</td>\n",
       "      <td>modifier</td>\n",
       "      <td>0.000000</td>\n",
       "      <td>0.000000</td>\n",
       "      <td>0.0</td>\n",
       "      <td>0.500000</td>\n",
       "      <td>0.000000</td>\n",
       "      <td>0.000000</td>\n",
       "    </tr>\n",
       "  </tbody>\n",
       "</table>\n",
       "</div>"
      ],
      "text/plain": [
       "                                                Text  TEI type       ADJ  \\\n",
       "0                  «да куда ж он делся-то, господи?»   setting  0.000000   \n",
       "1                         «дома, что ли-ча, лазарь?»   setting  0.000000   \n",
       "2  автор опять испуганно высовывается, но быстро ...     mixed  0.000000   \n",
       "3  автор хочет соединить руки коломбины и пьеро. ...   setting  0.142857   \n",
       "4       аграфена кондратьевна и липочка (разряженная  modifier  0.000000   \n",
       "\n",
       "       ADVB  INTJ      NOUN      PREP      VERB  \n",
       "0  0.000000   0.0  0.181818  0.000000  0.090909  \n",
       "1  0.000000   0.0  0.200000  0.000000  0.000000  \n",
       "2  0.166667   0.0  0.111111  0.055556  0.166667  \n",
       "3  0.081633   0.0  0.285714  0.081633  0.163265  \n",
       "4  0.000000   0.0  0.500000  0.000000  0.000000  "
      ]
     },
     "execution_count": 3,
     "metadata": {},
     "output_type": "execute_result"
    }
   ],
   "source": [
    "df_path = \".\" + os.sep + \"data\" + os.sep + \"csv\" + os.sep + \"2018_annotated_dirs.csv\"\n",
    "df = pd.read_csv(df_path, sep=\";\")\n",
    "df.head()"
   ]
  },
  {
   "cell_type": "markdown",
   "metadata": {},
   "source": [
    "Now, let's leave out the `Text` column:"
   ]
  },
  {
   "cell_type": "code",
   "execution_count": 4,
   "metadata": {},
   "outputs": [
    {
     "data": {
      "text/html": [
       "<div>\n",
       "<style scoped>\n",
       "    .dataframe tbody tr th:only-of-type {\n",
       "        vertical-align: middle;\n",
       "    }\n",
       "\n",
       "    .dataframe tbody tr th {\n",
       "        vertical-align: top;\n",
       "    }\n",
       "\n",
       "    .dataframe thead th {\n",
       "        text-align: right;\n",
       "    }\n",
       "</style>\n",
       "<table border=\"1\" class=\"dataframe\">\n",
       "  <thead>\n",
       "    <tr style=\"text-align: right;\">\n",
       "      <th></th>\n",
       "      <th>TEI type</th>\n",
       "      <th>ADJ</th>\n",
       "      <th>ADVB</th>\n",
       "      <th>INTJ</th>\n",
       "      <th>NOUN</th>\n",
       "      <th>PREP</th>\n",
       "      <th>VERB</th>\n",
       "    </tr>\n",
       "  </thead>\n",
       "  <tbody>\n",
       "    <tr>\n",
       "      <th>0</th>\n",
       "      <td>setting</td>\n",
       "      <td>0.000000</td>\n",
       "      <td>0.000000</td>\n",
       "      <td>0.0</td>\n",
       "      <td>0.181818</td>\n",
       "      <td>0.000000</td>\n",
       "      <td>0.090909</td>\n",
       "    </tr>\n",
       "    <tr>\n",
       "      <th>1</th>\n",
       "      <td>setting</td>\n",
       "      <td>0.000000</td>\n",
       "      <td>0.000000</td>\n",
       "      <td>0.0</td>\n",
       "      <td>0.200000</td>\n",
       "      <td>0.000000</td>\n",
       "      <td>0.000000</td>\n",
       "    </tr>\n",
       "    <tr>\n",
       "      <th>2</th>\n",
       "      <td>mixed</td>\n",
       "      <td>0.000000</td>\n",
       "      <td>0.166667</td>\n",
       "      <td>0.0</td>\n",
       "      <td>0.111111</td>\n",
       "      <td>0.055556</td>\n",
       "      <td>0.166667</td>\n",
       "    </tr>\n",
       "    <tr>\n",
       "      <th>3</th>\n",
       "      <td>setting</td>\n",
       "      <td>0.142857</td>\n",
       "      <td>0.081633</td>\n",
       "      <td>0.0</td>\n",
       "      <td>0.285714</td>\n",
       "      <td>0.081633</td>\n",
       "      <td>0.163265</td>\n",
       "    </tr>\n",
       "    <tr>\n",
       "      <th>4</th>\n",
       "      <td>modifier</td>\n",
       "      <td>0.000000</td>\n",
       "      <td>0.000000</td>\n",
       "      <td>0.0</td>\n",
       "      <td>0.500000</td>\n",
       "      <td>0.000000</td>\n",
       "      <td>0.000000</td>\n",
       "    </tr>\n",
       "  </tbody>\n",
       "</table>\n",
       "</div>"
      ],
      "text/plain": [
       "   TEI type       ADJ      ADVB  INTJ      NOUN      PREP      VERB\n",
       "0   setting  0.000000  0.000000   0.0  0.181818  0.000000  0.090909\n",
       "1   setting  0.000000  0.000000   0.0  0.200000  0.000000  0.000000\n",
       "2     mixed  0.000000  0.166667   0.0  0.111111  0.055556  0.166667\n",
       "3   setting  0.142857  0.081633   0.0  0.285714  0.081633  0.163265\n",
       "4  modifier  0.000000  0.000000   0.0  0.500000  0.000000  0.000000"
      ]
     },
     "execution_count": 4,
     "metadata": {},
     "output_type": "execute_result"
    }
   ],
   "source": [
    "df.drop([\"Text\"], axis=1, inplace=True)\n",
    "df.head()"
   ]
  },
  {
   "cell_type": "markdown",
   "metadata": {},
   "source": [
    "All the options for parts of speech and TEI types:"
   ]
  },
  {
   "cell_type": "code",
   "execution_count": 5,
   "metadata": {},
   "outputs": [
    {
     "name": "stdout",
     "output_type": "stream",
     "text": [
      "POS: ['ADJ', 'ADVB', 'INTJ', 'NOUN', 'PREP', 'VERB']\n",
      "Types: ['setting', 'mixed', 'modifier', 'exit', 'entrance', 'business', 'delivery', 'location']\n"
     ]
    }
   ],
   "source": [
    "pos_list = df.columns.values[1:].tolist()\n",
    "tei_types = df[\"TEI type\"].unique().tolist()\n",
    "\n",
    "data_mean = {str(tei): [] for tei in tei_types}\n",
    "print(\"POS: {}\\nTypes: {}\".format(pos_list, tei_types))"
   ]
  },
  {
   "cell_type": "markdown",
   "metadata": {},
   "source": [
    "For each TEI type, we collect mean shares of particular part of speech:"
   ]
  },
  {
   "cell_type": "code",
   "execution_count": 6,
   "metadata": {},
   "outputs": [
    {
     "name": "stdout",
     "output_type": "stream",
     "text": [
      "Collecting means for type SETTING\n",
      "\t  ADJ=0.1007\n",
      "\t ADVB=0.0361\n",
      "\t INTJ=0.0019\n",
      "\t NOUN=0.4045\n",
      "\t PREP=0.1088\n",
      "\t VERB=0.1010\n",
      "Collecting means for type MIXED\n",
      "\t  ADJ=0.0805\n",
      "\t ADVB=0.0496\n",
      "\t INTJ=0.0000\n",
      "\t NOUN=0.2677\n",
      "\t PREP=0.1043\n",
      "\t VERB=0.1841\n",
      "Collecting means for type MODIFIER\n",
      "\t  ADJ=0.1863\n",
      "\t ADVB=0.0131\n",
      "\t INTJ=0.0000\n",
      "\t NOUN=0.3836\n",
      "\t PREP=0.0247\n",
      "\t VERB=0.0104\n",
      "Collecting means for type EXIT\n",
      "\t  ADJ=0.0776\n",
      "\t ADVB=0.0243\n",
      "\t INTJ=0.0000\n",
      "\t NOUN=0.2727\n",
      "\t PREP=0.1252\n",
      "\t VERB=0.3455\n",
      "Collecting means for type ENTRANCE\n",
      "\t  ADJ=0.0495\n",
      "\t ADVB=0.0284\n",
      "\t INTJ=0.0000\n",
      "\t NOUN=0.3829\n",
      "\t PREP=0.1023\n",
      "\t VERB=0.2831\n",
      "Collecting means for type BUSINESS\n",
      "\t  ADJ=0.0368\n",
      "\t ADVB=0.0303\n",
      "\t INTJ=0.0013\n",
      "\t NOUN=0.2874\n",
      "\t PREP=0.1017\n",
      "\t VERB=0.3064\n",
      "Collecting means for type DELIVERY\n",
      "\t  ADJ=0.0670\n",
      "\t ADVB=0.1462\n",
      "\t INTJ=0.0000\n",
      "\t NOUN=0.3400\n",
      "\t PREP=0.1476\n",
      "\t VERB=0.0973\n",
      "Collecting means for type LOCATION\n",
      "\t  ADJ=0.0000\n",
      "\t ADVB=0.0000\n",
      "\t INTJ=0.0000\n",
      "\t NOUN=0.4667\n",
      "\t PREP=0.4667\n",
      "\t VERB=0.0000\n"
     ]
    }
   ],
   "source": [
    "for dir_type in data_mean.keys():\n",
    "    print(\"Collecting means for type {}\".format(dir_type.upper()))\n",
    "    type_list = []\n",
    "    for pos in pos_list:\n",
    "        pos_thistype_mean = mean(df[df[\"TEI type\"] == dir_type][pos])\n",
    "        print(\"\\t {:>4}={:.4f}\".format(pos, pos_thistype_mean))\n",
    "        data_mean[dir_type].append(pos_thistype_mean)"
   ]
  },
  {
   "cell_type": "code",
   "execution_count": 7,
   "metadata": {},
   "outputs": [
    {
     "data": {
      "text/html": [
       "<div>\n",
       "<style scoped>\n",
       "    .dataframe tbody tr th:only-of-type {\n",
       "        vertical-align: middle;\n",
       "    }\n",
       "\n",
       "    .dataframe tbody tr th {\n",
       "        vertical-align: top;\n",
       "    }\n",
       "\n",
       "    .dataframe thead th {\n",
       "        text-align: right;\n",
       "    }\n",
       "</style>\n",
       "<table border=\"1\" class=\"dataframe\">\n",
       "  <thead>\n",
       "    <tr style=\"text-align: right;\">\n",
       "      <th></th>\n",
       "      <th>setting</th>\n",
       "      <th>mixed</th>\n",
       "      <th>modifier</th>\n",
       "      <th>exit</th>\n",
       "      <th>entrance</th>\n",
       "      <th>business</th>\n",
       "      <th>delivery</th>\n",
       "      <th>location</th>\n",
       "    </tr>\n",
       "  </thead>\n",
       "  <tbody>\n",
       "    <tr>\n",
       "      <th>ADJ</th>\n",
       "      <td>0.100709</td>\n",
       "      <td>0.080525</td>\n",
       "      <td>0.186304</td>\n",
       "      <td>0.077564</td>\n",
       "      <td>0.049487</td>\n",
       "      <td>0.036796</td>\n",
       "      <td>0.067012</td>\n",
       "      <td>0.000000</td>\n",
       "    </tr>\n",
       "    <tr>\n",
       "      <th>ADVB</th>\n",
       "      <td>0.036124</td>\n",
       "      <td>0.049584</td>\n",
       "      <td>0.013084</td>\n",
       "      <td>0.024328</td>\n",
       "      <td>0.028424</td>\n",
       "      <td>0.030317</td>\n",
       "      <td>0.146164</td>\n",
       "      <td>0.000000</td>\n",
       "    </tr>\n",
       "    <tr>\n",
       "      <th>INTJ</th>\n",
       "      <td>0.001914</td>\n",
       "      <td>0.000000</td>\n",
       "      <td>0.000000</td>\n",
       "      <td>0.000000</td>\n",
       "      <td>0.000000</td>\n",
       "      <td>0.001343</td>\n",
       "      <td>0.000000</td>\n",
       "      <td>0.000000</td>\n",
       "    </tr>\n",
       "    <tr>\n",
       "      <th>NOUN</th>\n",
       "      <td>0.404520</td>\n",
       "      <td>0.267684</td>\n",
       "      <td>0.383555</td>\n",
       "      <td>0.272680</td>\n",
       "      <td>0.382882</td>\n",
       "      <td>0.287393</td>\n",
       "      <td>0.339978</td>\n",
       "      <td>0.466667</td>\n",
       "    </tr>\n",
       "    <tr>\n",
       "      <th>PREP</th>\n",
       "      <td>0.108811</td>\n",
       "      <td>0.104325</td>\n",
       "      <td>0.024747</td>\n",
       "      <td>0.125224</td>\n",
       "      <td>0.102281</td>\n",
       "      <td>0.101711</td>\n",
       "      <td>0.147632</td>\n",
       "      <td>0.466667</td>\n",
       "    </tr>\n",
       "  </tbody>\n",
       "</table>\n",
       "</div>"
      ],
      "text/plain": [
       "       setting     mixed  modifier      exit  entrance  business  delivery  \\\n",
       "ADJ   0.100709  0.080525  0.186304  0.077564  0.049487  0.036796  0.067012   \n",
       "ADVB  0.036124  0.049584  0.013084  0.024328  0.028424  0.030317  0.146164   \n",
       "INTJ  0.001914  0.000000  0.000000  0.000000  0.000000  0.001343  0.000000   \n",
       "NOUN  0.404520  0.267684  0.383555  0.272680  0.382882  0.287393  0.339978   \n",
       "PREP  0.108811  0.104325  0.024747  0.125224  0.102281  0.101711  0.147632   \n",
       "\n",
       "      location  \n",
       "ADJ   0.000000  \n",
       "ADVB  0.000000  \n",
       "INTJ  0.000000  \n",
       "NOUN  0.466667  \n",
       "PREP  0.466667  "
      ]
     },
     "execution_count": 7,
     "metadata": {},
     "output_type": "execute_result"
    }
   ],
   "source": [
    "df_type_pos_mean = pd.DataFrame(data_mean, index=pos_list)\n",
    "df_type_pos_mean.head()"
   ]
  },
  {
   "cell_type": "markdown",
   "metadata": {},
   "source": [
    "## 2 &emsp; Interpretation\n",
    "\n",
    "### 2.1 &emsp; Which parts of speech are used in different TEI types?"
   ]
  },
  {
   "cell_type": "code",
   "execution_count": 8,
   "metadata": {},
   "outputs": [
    {
     "data": {
      "text/plain": [
       "<matplotlib.axes._subplots.AxesSubplot at 0x108ebeef0>"
      ]
     },
     "execution_count": 8,
     "metadata": {},
     "output_type": "execute_result"
    },
    {
     "data": {
      "image/png": "[encoded data removed]",
      "text/plain": [
       "<Figure size 1152x432 with 1 Axes>"
      ]
     },
     "metadata": {
      "needs_background": "light"
     },
     "output_type": "display_data"
    }
   ],
   "source": [
    "df_type_pos_mean.plot.bar(rot=0, figsize=(16, 6))"
   ]
  },
  {
   "cell_type": "markdown",
   "metadata": {},
   "source": [
    "**Conclusions**\n",
    "\n",
    "- `PREP` (prepositions) `> all other POS` => `location` or `setting` (_в комнате_, _на столе_, _на сцене_, etc.)\n",
    "\n",
    "- `NOUN` \\~ `PREP` => `location`\n",
    "\n",
    "- `ADVB` (adverbs) `> all other POS` => `delivery` (_громко_, _говорит шёпотом_)\n",
    "\n",
    "- `ADJ` (adjectives) `> 0.1` => `modifier` (_красивая девушка_)\n",
    "\n",
    "- `VERB` predominance => active types (`business`, `entrance`, or `exit`)"
   ]
  },
  {
   "cell_type": "markdown",
   "metadata": {},
   "source": [
    "### 2.2 &emsp; Which TEI types use which parts of speech?\n",
    "\n",
    "…which basically means that we're just \"switching\" the axes — that is, transposing the dataframe and plotting it as a bar plot."
   ]
  },
  {
   "cell_type": "code",
   "execution_count": 9,
   "metadata": {},
   "outputs": [
    {
     "data": {
      "text/plain": [
       "<matplotlib.axes._subplots.AxesSubplot at 0x113f7b1d0>"
      ]
     },
     "execution_count": 9,
     "metadata": {},
     "output_type": "execute_result"
    },
    {
     "data": {
      "image/png": "[encoded data removed]",
      "text/plain": [
       "<Figure size 1152x432 with 1 Axes>"
      ]
     },
     "metadata": {
      "needs_background": "light"
     },
     "output_type": "display_data"
    }
   ],
   "source": [
    "df_type_pos_mean.transpose().plot.bar(rot=0, figsize=(16, 6))"
   ]
  },
  {
   "cell_type": "markdown",
   "metadata": {},
   "source": [
    "**Conclusions:**\n",
    "\n",
    "- if `NOUN = PREP`, it is definitely `location`\n",
    "\n",
    "- `ADVB > 0,1` => Check for `delivery` type\n",
    "\n",
    "- a lot of verbs? Might be `entrance`, `exit` or `delivery` <br />\n",
    "(`delivery` may be explained by _кричит_  and others; apart from that, participles and adverbial participles (say, _плача_) are also parsed as verbs)"
   ]
  }
 ],
 "metadata": {
  "kernelspec": {
   "display_name": "Python 3",
   "language": "python",
   "name": "python3"
  },
  "language_info": {
   "codemirror_mode": {
    "name": "ipython",
    "version": 3
   },
   "file_extension": ".py",
   "mimetype": "text/x-python",
   "name": "python",
   "nbconvert_exporter": "python",
   "pygments_lexer": "ipython3",
   "version": "3.7.1"
  }
 },
 "nbformat": 4,
 "nbformat_minor": 2
}
